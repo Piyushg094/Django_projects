{
 "cells": [
  {
   "cell_type": "code",
   "execution_count": 1,
   "id": "0aa1d06d",
   "metadata": {},
   "outputs": [],
   "source": [
    "from pprint import pprint\n",
    "import os\n",
    "import django\n",
    "os.environ.setdefault('DJANGO_SETTINGS_MODULE', 'rest.settings')\n",
    "os.environ[\"DJANGO_ALLOW_ASYNC_UNSAFE\"] = \"true\""
   ]
  },
  {
   "cell_type": "code",
   "execution_count": 1,
   "id": "0db4a483",
   "metadata": {},
   "outputs": [],
   "source": [
    "from blogging_app.models import *\n"
   ]
  },
  {
   "cell_type": "code",
   "execution_count": 14,
   "id": "49d7a9b8",
   "metadata": {},
   "outputs": [],
   "source": [
    "from django.utils import timezone\n",
    "from django.db.models import Count"
   ]
  },
  {
   "cell_type": "markdown",
   "id": "716c06d3",
   "metadata": {},
   "source": [
    "Write a function get_post_details to retrieve the data for a post, this function will return a dict\n",
    "\n",
    "\n",
    "( How to use type annotations in Python )\n",
    "\n",
    "def get_post_details(post_uuid: str) -> dict : \n",
    "\n",
    "\n",
    "The dictionary returned will be containing this data: \n",
    "{\n",
    "  “uuid”:”post-uuid”,\n",
    "  “created_by”: {\n",
    "     “name”: “User’s name”,\n",
    "     “uuid”: “Users’s UUID”\n",
    "   },\n",
    "   “created_date”: “date”,\n",
    "   “likes”: 10,\n",
    "   “context”: “Post context”\n",
    "}\n",
    "\n",
    "\n",
    "\n",
    "\n",
    "\n"
   ]
  },
  {
   "cell_type": "code",
   "execution_count": 15,
   "id": "7308408f",
   "metadata": {},
   "outputs": [],
   "source": [
    "\n",
    "def get_post_details(post_id):\n",
    "    \n",
    "    try:\n",
    "        post = (\n",
    "            Post.objects\n",
    "            .select_related('user')\n",
    "            .prefetch_related('likes')\n",
    "            .get(\n",
    "                id=post_id\n",
    "            )\n",
    "        )\n",
    "       \n",
    "    except Post.DoesNotExist:\n",
    "        return {}\n",
    "    \n",
    "    # like_count = Likes.objects.filter(post=post, liked=True).count()\n",
    "    like_count = post.likes.filter(liked=True).count()\n",
    "    \n",
    "    response_data = {\n",
    "      \"id\": post.id,\n",
    "      \"created_by\": {\n",
    "         \"name\": post.user.name,\n",
    "         \"id\": post.user.id\n",
    "       },\n",
    "       \"created_date\": post.created_at,\n",
    "       \"likes\": like_count ,\n",
    "       \"title\": post.title,\n",
    "       \"content\": post.content\n",
    "    }\n",
    "    \n",
    "    return response_data\n",
    "\n",
    "\n",
    "    \n",
    "    \n",
    "    \n",
    "    "
   ]
  },
  {
   "cell_type": "code",
   "execution_count": null,
   "id": "66b00291",
   "metadata": {},
   "outputs": [
    {
     "data": {
      "text/plain": [
       "{'id': 1,\n",
       " 'created_by': {'name': 'PIYUSH GUPTA', 'id': 1},\n",
       " 'created_date': datetime.datetime(2024, 6, 11, 11, 31, 5, 455290, tzinfo=datetime.timezone.utc),\n",
       " 'likes': 1,\n",
       " 'title': 'vibes of nature',\n",
       " 'content': 'I am sitting on my balcony. It is spring and there is a little bit of heat in the sun. The balcony looks out over a road. The road is usually busy…'}"
      ]
     },
     "execution_count": 11,
     "metadata": {},
     "output_type": "execute_result"
    }
   ],
   "source": [
    "get_post_details(1)"
   ]
  },
  {
   "cell_type": "markdown",
   "id": "57277a98",
   "metadata": {},
   "source": [
    "\n",
    "5. Write a function get_user_details to retrieve the data for a user, this function will return a dict. This dict should have the number of posts that the user has created and number of posts that the user has liked \n",
    "\n",
    "\n",
    "def get_user_details (user_uuid: str) -> dict : \n",
    "\n",
    "\n",
    "The dictionary returned will be containing this data: \n",
    "{\n",
    "  “uuid”:”user-uuid”,\n",
    "  “name”: “User’s name”\n",
    "  “user-stats”: {\n",
    "     “liked-posts”: 10,\n",
    "     “Created-posts”: 5\n",
    "  }\n",
    "}\n",
    "\n",
    "\n",
    "\n",
    "\n"
   ]
  },
  {
   "cell_type": "code",
   "execution_count": 16,
   "id": "f7d774b0",
   "metadata": {},
   "outputs": [],
   "source": [
    "def get_user_details(user_id):\n",
    "    try:\n",
    "#         user = User.objects.get(id=user_id)\n",
    "        user=User.objects.prefetch_related('posts','likes').get(id=user_id)\n",
    "#         get all posts by user\n",
    "        post_count=user.posts.all().count()\n",
    "        liked_post_count=user.likes.filter(likes=True).count()\n",
    "        \n",
    "       \n",
    "        \n",
    "        user_details = {\n",
    "            \"user_id\":user.id,\n",
    "            \"name\": user.name,\n",
    "            \"email\": user.email,\n",
    "            \"phone\": user.phone,\n",
    "            \"user-stats\":{\n",
    "               \"post_count\": post_count,\n",
    "               \"liked_post_count\": liked_post_count,\n",
    "                }\n",
    "        }\n",
    "        \n",
    "    except User.DoesNotExist:\n",
    "        return {}\n",
    "\n",
    "    \n",
    "    return user_details\n"
   ]
  },
  {
   "cell_type": "code",
   "execution_count": 17,
   "id": "e0d3f984",
   "metadata": {},
   "outputs": [
    {
     "ename": "FieldError",
     "evalue": "Cannot resolve keyword 'likes' into field. Choices are: created_at, id, liked, post, post_id, user, user_id",
     "output_type": "error",
     "traceback": [
      "\u001b[0;31m---------------------------------------------------------------------------\u001b[0m",
      "\u001b[0;31mFieldError\u001b[0m                                Traceback (most recent call last)",
      "Cell \u001b[0;32mIn[17], line 1\u001b[0m\n\u001b[0;32m----> 1\u001b[0m \u001b[43mget_user_details\u001b[49m\u001b[43m(\u001b[49m\u001b[38;5;241;43m1\u001b[39;49m\u001b[43m)\u001b[49m\n",
      "Cell \u001b[0;32mIn[16], line 7\u001b[0m, in \u001b[0;36mget_user_details\u001b[0;34m(user_id)\u001b[0m\n\u001b[1;32m      5\u001b[0m \u001b[38;5;66;03m#         get all posts by user\u001b[39;00m\n\u001b[1;32m      6\u001b[0m         post_count\u001b[38;5;241m=\u001b[39muser\u001b[38;5;241m.\u001b[39mposts\u001b[38;5;241m.\u001b[39mall()\u001b[38;5;241m.\u001b[39mcount()\n\u001b[0;32m----> 7\u001b[0m         liked_post_count\u001b[38;5;241m=\u001b[39m\u001b[43muser\u001b[49m\u001b[38;5;241;43m.\u001b[39;49m\u001b[43mlikes\u001b[49m\u001b[38;5;241;43m.\u001b[39;49m\u001b[43mfilter\u001b[49m\u001b[43m(\u001b[49m\u001b[43mlikes\u001b[49m\u001b[38;5;241;43m=\u001b[39;49m\u001b[38;5;28;43;01mTrue\u001b[39;49;00m\u001b[43m)\u001b[49m\u001b[38;5;241m.\u001b[39mcount()\n\u001b[1;32m     11\u001b[0m         user_details \u001b[38;5;241m=\u001b[39m {\n\u001b[1;32m     12\u001b[0m             \u001b[38;5;124m\"\u001b[39m\u001b[38;5;124muser_id\u001b[39m\u001b[38;5;124m\"\u001b[39m:user\u001b[38;5;241m.\u001b[39mid,\n\u001b[1;32m     13\u001b[0m             \u001b[38;5;124m\"\u001b[39m\u001b[38;5;124mname\u001b[39m\u001b[38;5;124m\"\u001b[39m: user\u001b[38;5;241m.\u001b[39mname,\n\u001b[0;32m   (...)\u001b[0m\n\u001b[1;32m     19\u001b[0m                 }\n\u001b[1;32m     20\u001b[0m         }\n\u001b[1;32m     22\u001b[0m     \u001b[38;5;28;01mexcept\u001b[39;00m User\u001b[38;5;241m.\u001b[39mDoesNotExist:\n",
      "File \u001b[0;32m~/Django_lernings/venv/lib/python3.10/site-packages/django/db/models/manager.py:87\u001b[0m, in \u001b[0;36mBaseManager._get_queryset_methods.<locals>.create_method.<locals>.manager_method\u001b[0;34m(self, *args, **kwargs)\u001b[0m\n\u001b[1;32m     85\u001b[0m \u001b[38;5;129m@wraps\u001b[39m(method)\n\u001b[1;32m     86\u001b[0m \u001b[38;5;28;01mdef\u001b[39;00m \u001b[38;5;21mmanager_method\u001b[39m(\u001b[38;5;28mself\u001b[39m, \u001b[38;5;241m*\u001b[39margs, \u001b[38;5;241m*\u001b[39m\u001b[38;5;241m*\u001b[39mkwargs):\n\u001b[0;32m---> 87\u001b[0m     \u001b[38;5;28;01mreturn\u001b[39;00m \u001b[38;5;28;43mgetattr\u001b[39;49m\u001b[43m(\u001b[49m\u001b[38;5;28;43mself\u001b[39;49m\u001b[38;5;241;43m.\u001b[39;49m\u001b[43mget_queryset\u001b[49m\u001b[43m(\u001b[49m\u001b[43m)\u001b[49m\u001b[43m,\u001b[49m\u001b[43m \u001b[49m\u001b[43mname\u001b[49m\u001b[43m)\u001b[49m\u001b[43m(\u001b[49m\u001b[38;5;241;43m*\u001b[39;49m\u001b[43margs\u001b[49m\u001b[43m,\u001b[49m\u001b[43m \u001b[49m\u001b[38;5;241;43m*\u001b[39;49m\u001b[38;5;241;43m*\u001b[39;49m\u001b[43mkwargs\u001b[49m\u001b[43m)\u001b[49m\n",
      "File \u001b[0;32m~/Django_lernings/venv/lib/python3.10/site-packages/django/db/models/query.py:1476\u001b[0m, in \u001b[0;36mQuerySet.filter\u001b[0;34m(self, *args, **kwargs)\u001b[0m\n\u001b[1;32m   1471\u001b[0m \u001b[38;5;250m\u001b[39m\u001b[38;5;124;03m\"\"\"\u001b[39;00m\n\u001b[1;32m   1472\u001b[0m \u001b[38;5;124;03mReturn a new QuerySet instance with the args ANDed to the existing\u001b[39;00m\n\u001b[1;32m   1473\u001b[0m \u001b[38;5;124;03mset.\u001b[39;00m\n\u001b[1;32m   1474\u001b[0m \u001b[38;5;124;03m\"\"\"\u001b[39;00m\n\u001b[1;32m   1475\u001b[0m \u001b[38;5;28mself\u001b[39m\u001b[38;5;241m.\u001b[39m_not_support_combined_queries(\u001b[38;5;124m\"\u001b[39m\u001b[38;5;124mfilter\u001b[39m\u001b[38;5;124m\"\u001b[39m)\n\u001b[0;32m-> 1476\u001b[0m \u001b[38;5;28;01mreturn\u001b[39;00m \u001b[38;5;28;43mself\u001b[39;49m\u001b[38;5;241;43m.\u001b[39;49m\u001b[43m_filter_or_exclude\u001b[49m\u001b[43m(\u001b[49m\u001b[38;5;28;43;01mFalse\u001b[39;49;00m\u001b[43m,\u001b[49m\u001b[43m \u001b[49m\u001b[43margs\u001b[49m\u001b[43m,\u001b[49m\u001b[43m \u001b[49m\u001b[43mkwargs\u001b[49m\u001b[43m)\u001b[49m\n",
      "File \u001b[0;32m~/Django_lernings/venv/lib/python3.10/site-packages/django/db/models/query.py:1494\u001b[0m, in \u001b[0;36mQuerySet._filter_or_exclude\u001b[0;34m(self, negate, args, kwargs)\u001b[0m\n\u001b[1;32m   1492\u001b[0m     clone\u001b[38;5;241m.\u001b[39m_deferred_filter \u001b[38;5;241m=\u001b[39m negate, args, kwargs\n\u001b[1;32m   1493\u001b[0m \u001b[38;5;28;01melse\u001b[39;00m:\n\u001b[0;32m-> 1494\u001b[0m     \u001b[43mclone\u001b[49m\u001b[38;5;241;43m.\u001b[39;49m\u001b[43m_filter_or_exclude_inplace\u001b[49m\u001b[43m(\u001b[49m\u001b[43mnegate\u001b[49m\u001b[43m,\u001b[49m\u001b[43m \u001b[49m\u001b[43margs\u001b[49m\u001b[43m,\u001b[49m\u001b[43m \u001b[49m\u001b[43mkwargs\u001b[49m\u001b[43m)\u001b[49m\n\u001b[1;32m   1495\u001b[0m \u001b[38;5;28;01mreturn\u001b[39;00m clone\n",
      "File \u001b[0;32m~/Django_lernings/venv/lib/python3.10/site-packages/django/db/models/query.py:1501\u001b[0m, in \u001b[0;36mQuerySet._filter_or_exclude_inplace\u001b[0;34m(self, negate, args, kwargs)\u001b[0m\n\u001b[1;32m   1499\u001b[0m     \u001b[38;5;28mself\u001b[39m\u001b[38;5;241m.\u001b[39m_query\u001b[38;5;241m.\u001b[39madd_q(\u001b[38;5;241m~\u001b[39mQ(\u001b[38;5;241m*\u001b[39margs, \u001b[38;5;241m*\u001b[39m\u001b[38;5;241m*\u001b[39mkwargs))\n\u001b[1;32m   1500\u001b[0m \u001b[38;5;28;01melse\u001b[39;00m:\n\u001b[0;32m-> 1501\u001b[0m     \u001b[38;5;28;43mself\u001b[39;49m\u001b[38;5;241;43m.\u001b[39;49m\u001b[43m_query\u001b[49m\u001b[38;5;241;43m.\u001b[39;49m\u001b[43madd_q\u001b[49m\u001b[43m(\u001b[49m\u001b[43mQ\u001b[49m\u001b[43m(\u001b[49m\u001b[38;5;241;43m*\u001b[39;49m\u001b[43margs\u001b[49m\u001b[43m,\u001b[49m\u001b[43m \u001b[49m\u001b[38;5;241;43m*\u001b[39;49m\u001b[38;5;241;43m*\u001b[39;49m\u001b[43mkwargs\u001b[49m\u001b[43m)\u001b[49m\u001b[43m)\u001b[49m\n",
      "File \u001b[0;32m~/Django_lernings/venv/lib/python3.10/site-packages/django/db/models/sql/query.py:1613\u001b[0m, in \u001b[0;36mQuery.add_q\u001b[0;34m(self, q_object)\u001b[0m\n\u001b[1;32m   1604\u001b[0m \u001b[38;5;66;03m# For join promotion this case is doing an AND for the added q_object\u001b[39;00m\n\u001b[1;32m   1605\u001b[0m \u001b[38;5;66;03m# and existing conditions. So, any existing inner join forces the join\u001b[39;00m\n\u001b[1;32m   1606\u001b[0m \u001b[38;5;66;03m# type to remain inner. Existing outer joins can however be demoted.\u001b[39;00m\n\u001b[1;32m   1607\u001b[0m \u001b[38;5;66;03m# (Consider case where rel_a is LOUTER and rel_a__col=1 is added - if\u001b[39;00m\n\u001b[1;32m   1608\u001b[0m \u001b[38;5;66;03m# rel_a doesn't produce any rows, then the whole condition must fail.\u001b[39;00m\n\u001b[1;32m   1609\u001b[0m \u001b[38;5;66;03m# So, demotion is OK.\u001b[39;00m\n\u001b[1;32m   1610\u001b[0m existing_inner \u001b[38;5;241m=\u001b[39m {\n\u001b[1;32m   1611\u001b[0m     a \u001b[38;5;28;01mfor\u001b[39;00m a \u001b[38;5;129;01min\u001b[39;00m \u001b[38;5;28mself\u001b[39m\u001b[38;5;241m.\u001b[39malias_map \u001b[38;5;28;01mif\u001b[39;00m \u001b[38;5;28mself\u001b[39m\u001b[38;5;241m.\u001b[39malias_map[a]\u001b[38;5;241m.\u001b[39mjoin_type \u001b[38;5;241m==\u001b[39m INNER\n\u001b[1;32m   1612\u001b[0m }\n\u001b[0;32m-> 1613\u001b[0m clause, _ \u001b[38;5;241m=\u001b[39m \u001b[38;5;28;43mself\u001b[39;49m\u001b[38;5;241;43m.\u001b[39;49m\u001b[43m_add_q\u001b[49m\u001b[43m(\u001b[49m\u001b[43mq_object\u001b[49m\u001b[43m,\u001b[49m\u001b[43m \u001b[49m\u001b[38;5;28;43mself\u001b[39;49m\u001b[38;5;241;43m.\u001b[39;49m\u001b[43mused_aliases\u001b[49m\u001b[43m)\u001b[49m\n\u001b[1;32m   1614\u001b[0m \u001b[38;5;28;01mif\u001b[39;00m clause:\n\u001b[1;32m   1615\u001b[0m     \u001b[38;5;28mself\u001b[39m\u001b[38;5;241m.\u001b[39mwhere\u001b[38;5;241m.\u001b[39madd(clause, AND)\n",
      "File \u001b[0;32m~/Django_lernings/venv/lib/python3.10/site-packages/django/db/models/sql/query.py:1645\u001b[0m, in \u001b[0;36mQuery._add_q\u001b[0;34m(self, q_object, used_aliases, branch_negated, current_negated, allow_joins, split_subq, check_filterable, summarize, update_join_types)\u001b[0m\n\u001b[1;32m   1641\u001b[0m joinpromoter \u001b[38;5;241m=\u001b[39m JoinPromoter(\n\u001b[1;32m   1642\u001b[0m     q_object\u001b[38;5;241m.\u001b[39mconnector, \u001b[38;5;28mlen\u001b[39m(q_object\u001b[38;5;241m.\u001b[39mchildren), current_negated\n\u001b[1;32m   1643\u001b[0m )\n\u001b[1;32m   1644\u001b[0m \u001b[38;5;28;01mfor\u001b[39;00m child \u001b[38;5;129;01min\u001b[39;00m q_object\u001b[38;5;241m.\u001b[39mchildren:\n\u001b[0;32m-> 1645\u001b[0m     child_clause, needed_inner \u001b[38;5;241m=\u001b[39m \u001b[38;5;28;43mself\u001b[39;49m\u001b[38;5;241;43m.\u001b[39;49m\u001b[43mbuild_filter\u001b[49m\u001b[43m(\u001b[49m\n\u001b[1;32m   1646\u001b[0m \u001b[43m        \u001b[49m\u001b[43mchild\u001b[49m\u001b[43m,\u001b[49m\n\u001b[1;32m   1647\u001b[0m \u001b[43m        \u001b[49m\u001b[43mcan_reuse\u001b[49m\u001b[38;5;241;43m=\u001b[39;49m\u001b[43mused_aliases\u001b[49m\u001b[43m,\u001b[49m\n\u001b[1;32m   1648\u001b[0m \u001b[43m        \u001b[49m\u001b[43mbranch_negated\u001b[49m\u001b[38;5;241;43m=\u001b[39;49m\u001b[43mbranch_negated\u001b[49m\u001b[43m,\u001b[49m\n\u001b[1;32m   1649\u001b[0m \u001b[43m        \u001b[49m\u001b[43mcurrent_negated\u001b[49m\u001b[38;5;241;43m=\u001b[39;49m\u001b[43mcurrent_negated\u001b[49m\u001b[43m,\u001b[49m\n\u001b[1;32m   1650\u001b[0m \u001b[43m        \u001b[49m\u001b[43mallow_joins\u001b[49m\u001b[38;5;241;43m=\u001b[39;49m\u001b[43mallow_joins\u001b[49m\u001b[43m,\u001b[49m\n\u001b[1;32m   1651\u001b[0m \u001b[43m        \u001b[49m\u001b[43msplit_subq\u001b[49m\u001b[38;5;241;43m=\u001b[39;49m\u001b[43msplit_subq\u001b[49m\u001b[43m,\u001b[49m\n\u001b[1;32m   1652\u001b[0m \u001b[43m        \u001b[49m\u001b[43mcheck_filterable\u001b[49m\u001b[38;5;241;43m=\u001b[39;49m\u001b[43mcheck_filterable\u001b[49m\u001b[43m,\u001b[49m\n\u001b[1;32m   1653\u001b[0m \u001b[43m        \u001b[49m\u001b[43msummarize\u001b[49m\u001b[38;5;241;43m=\u001b[39;49m\u001b[43msummarize\u001b[49m\u001b[43m,\u001b[49m\n\u001b[1;32m   1654\u001b[0m \u001b[43m        \u001b[49m\u001b[43mupdate_join_types\u001b[49m\u001b[38;5;241;43m=\u001b[39;49m\u001b[43mupdate_join_types\u001b[49m\u001b[43m,\u001b[49m\n\u001b[1;32m   1655\u001b[0m \u001b[43m    \u001b[49m\u001b[43m)\u001b[49m\n\u001b[1;32m   1656\u001b[0m     joinpromoter\u001b[38;5;241m.\u001b[39madd_votes(needed_inner)\n\u001b[1;32m   1657\u001b[0m     \u001b[38;5;28;01mif\u001b[39;00m child_clause:\n",
      "File \u001b[0;32m~/Django_lernings/venv/lib/python3.10/site-packages/django/db/models/sql/query.py:1495\u001b[0m, in \u001b[0;36mQuery.build_filter\u001b[0;34m(self, filter_expr, branch_negated, current_negated, can_reuse, allow_joins, split_subq, check_filterable, summarize, update_join_types)\u001b[0m\n\u001b[1;32m   1493\u001b[0m \u001b[38;5;28;01mif\u001b[39;00m \u001b[38;5;129;01mnot\u001b[39;00m arg:\n\u001b[1;32m   1494\u001b[0m     \u001b[38;5;28;01mraise\u001b[39;00m FieldError(\u001b[38;5;124m\"\u001b[39m\u001b[38;5;124mCannot parse keyword query \u001b[39m\u001b[38;5;132;01m%r\u001b[39;00m\u001b[38;5;124m\"\u001b[39m \u001b[38;5;241m%\u001b[39m arg)\n\u001b[0;32m-> 1495\u001b[0m lookups, parts, reffed_expression \u001b[38;5;241m=\u001b[39m \u001b[38;5;28;43mself\u001b[39;49m\u001b[38;5;241;43m.\u001b[39;49m\u001b[43msolve_lookup_type\u001b[49m\u001b[43m(\u001b[49m\u001b[43marg\u001b[49m\u001b[43m,\u001b[49m\u001b[43m \u001b[49m\u001b[43msummarize\u001b[49m\u001b[43m)\u001b[49m\n\u001b[1;32m   1497\u001b[0m \u001b[38;5;28;01mif\u001b[39;00m check_filterable:\n\u001b[1;32m   1498\u001b[0m     \u001b[38;5;28mself\u001b[39m\u001b[38;5;241m.\u001b[39mcheck_filterable(reffed_expression)\n",
      "File \u001b[0;32m~/Django_lernings/venv/lib/python3.10/site-packages/django/db/models/sql/query.py:1307\u001b[0m, in \u001b[0;36mQuery.solve_lookup_type\u001b[0;34m(self, lookup, summarize)\u001b[0m\n\u001b[1;32m   1305\u001b[0m             expression \u001b[38;5;241m=\u001b[39m Ref(annotation, expression)\n\u001b[1;32m   1306\u001b[0m         \u001b[38;5;28;01mreturn\u001b[39;00m expression_lookups, (), expression\n\u001b[0;32m-> 1307\u001b[0m _, field, _, lookup_parts \u001b[38;5;241m=\u001b[39m \u001b[38;5;28;43mself\u001b[39;49m\u001b[38;5;241;43m.\u001b[39;49m\u001b[43mnames_to_path\u001b[49m\u001b[43m(\u001b[49m\u001b[43mlookup_splitted\u001b[49m\u001b[43m,\u001b[49m\u001b[43m \u001b[49m\u001b[38;5;28;43mself\u001b[39;49m\u001b[38;5;241;43m.\u001b[39;49m\u001b[43mget_meta\u001b[49m\u001b[43m(\u001b[49m\u001b[43m)\u001b[49m\u001b[43m)\u001b[49m\n\u001b[1;32m   1308\u001b[0m field_parts \u001b[38;5;241m=\u001b[39m lookup_splitted[\u001b[38;5;241m0\u001b[39m : \u001b[38;5;28mlen\u001b[39m(lookup_splitted) \u001b[38;5;241m-\u001b[39m \u001b[38;5;28mlen\u001b[39m(lookup_parts)]\n\u001b[1;32m   1309\u001b[0m \u001b[38;5;28;01mif\u001b[39;00m \u001b[38;5;28mlen\u001b[39m(lookup_parts) \u001b[38;5;241m>\u001b[39m \u001b[38;5;241m1\u001b[39m \u001b[38;5;129;01mand\u001b[39;00m \u001b[38;5;129;01mnot\u001b[39;00m field_parts:\n",
      "File \u001b[0;32m~/Django_lernings/venv/lib/python3.10/site-packages/django/db/models/sql/query.py:1772\u001b[0m, in \u001b[0;36mQuery.names_to_path\u001b[0;34m(self, names, opts, allow_many, fail_on_missing)\u001b[0m\n\u001b[1;32m   1764\u001b[0m     \u001b[38;5;28;01mif\u001b[39;00m pos \u001b[38;5;241m==\u001b[39m \u001b[38;5;241m-\u001b[39m\u001b[38;5;241m1\u001b[39m \u001b[38;5;129;01mor\u001b[39;00m fail_on_missing:\n\u001b[1;32m   1765\u001b[0m         available \u001b[38;5;241m=\u001b[39m \u001b[38;5;28msorted\u001b[39m(\n\u001b[1;32m   1766\u001b[0m             [\n\u001b[1;32m   1767\u001b[0m                 \u001b[38;5;241m*\u001b[39mget_field_names_from_opts(opts),\n\u001b[0;32m   (...)\u001b[0m\n\u001b[1;32m   1770\u001b[0m             ]\n\u001b[1;32m   1771\u001b[0m         )\n\u001b[0;32m-> 1772\u001b[0m         \u001b[38;5;28;01mraise\u001b[39;00m FieldError(\n\u001b[1;32m   1773\u001b[0m             \u001b[38;5;124m\"\u001b[39m\u001b[38;5;124mCannot resolve keyword \u001b[39m\u001b[38;5;124m'\u001b[39m\u001b[38;5;132;01m%s\u001b[39;00m\u001b[38;5;124m'\u001b[39m\u001b[38;5;124m into field. \u001b[39m\u001b[38;5;124m\"\u001b[39m\n\u001b[1;32m   1774\u001b[0m             \u001b[38;5;124m\"\u001b[39m\u001b[38;5;124mChoices are: \u001b[39m\u001b[38;5;132;01m%s\u001b[39;00m\u001b[38;5;124m\"\u001b[39m \u001b[38;5;241m%\u001b[39m (name, \u001b[38;5;124m\"\u001b[39m\u001b[38;5;124m, \u001b[39m\u001b[38;5;124m\"\u001b[39m\u001b[38;5;241m.\u001b[39mjoin(available))\n\u001b[1;32m   1775\u001b[0m         )\n\u001b[1;32m   1776\u001b[0m     \u001b[38;5;28;01mbreak\u001b[39;00m\n\u001b[1;32m   1777\u001b[0m \u001b[38;5;66;03m# Check if we need any joins for concrete inheritance cases (the\u001b[39;00m\n\u001b[1;32m   1778\u001b[0m \u001b[38;5;66;03m# field lives in parent, but we are currently in one of its\u001b[39;00m\n\u001b[1;32m   1779\u001b[0m \u001b[38;5;66;03m# children)\u001b[39;00m\n",
      "\u001b[0;31mFieldError\u001b[0m: Cannot resolve keyword 'likes' into field. Choices are: created_at, id, liked, post, post_id, user, user_id"
     ]
    }
   ],
   "source": [
    "get_user_details(1)"
   ]
  },
  {
   "cell_type": "code",
   "execution_count": null,
   "id": "f1411f72",
   "metadata": {},
   "outputs": [],
   "source": [
    "\n",
    "def get_recently_liked_posts(user_id):\n",
    "    try:\n",
    "        user = User.objects.get(id=user_id)\n",
    "        #post = Post.objects.select_related('user').prefetch_related('likes').filter()\n",
    "        \n",
    "    except User.DoesNotExist:\n",
    "        return{}\n",
    "    \n",
    "    liked_posts = (\n",
    "        Post.objects.filter(user=user, likes=True)\n",
    "        .select_related('user')\n",
    "        .prefetch_related('likes')\n",
    "        .order_by('-created_at')[:5]\n",
    "    )        \n",
    "\n",
    "    \n",
    "   # like_count = Likes.objects.filter(post=post, liked=True).count()\n",
    "    #like_count = post.likes.filter(liked=True).count()\n",
    "    \n",
    "    recently_liked_posts: List[PostDetails] = []\n",
    "    for post in liked_posts:\n",
    "        like_count = post.likes.filter(liked=True).count()\n",
    "        post_details: PostDetails = {\n",
    "        \n",
    "        \"id\": post.id,\n",
    "        \"title\": post.title,\n",
    "        \"content\": post.content,\n",
    "        \"liked_by\":{\n",
    "            \"name\": user.name,\n",
    "            \"id\":user_id\n",
    "        },\n",
    "        \"created_by\":{\n",
    "           \"name\": post.user.name,\n",
    "            \"id\": post.user.id\n",
    "        },\n",
    "        \"created_date\": post.created_at,\n",
    "        \"likes\": like_count,\n",
    "        }\n",
    "            \n",
    "        recently_liked_posts.append(post_details)\n",
    "\n",
    "    return recently_liked_posts\n",
    "\n"
   ]
  },
  {
   "cell_type": "code",
   "execution_count": null,
   "id": "685ce65a",
   "metadata": {},
   "outputs": [
    {
     "data": {
      "text/plain": [
       "[{'id': 1,\n",
       "  'title': 'vibes of nature',\n",
       "  'content': 'I am sitting on my balcony. It is spring and there is a little bit of heat in the sun. The balcony looks out over a road. The road is usually busy…',\n",
       "  'liked_by': {'name': 'PIYUSH GUPTA', 'id': 1},\n",
       "  'created_by': {'name': 'PIYUSH GUPTA', 'id': 1},\n",
       "  'created_date': datetime.datetime(2024, 6, 11, 11, 31, 5, 455290, tzinfo=datetime.timezone.utc),\n",
       "  'likes': 1}]"
      ]
     },
     "execution_count": 207,
     "metadata": {},
     "output_type": "execute_result"
    }
   ],
   "source": [
    "get_recently_liked_posts(1)"
   ]
  },
  {
   "cell_type": "code",
   "execution_count": null,
   "id": "396a0068",
   "metadata": {},
   "outputs": [],
   "source": [
    "Write a function get_popular_posts to retrieve a list of the most popular 5 posts created in the last 7 days.  \n",
    "\n",
    "( order_by == how to sort data in SQL, order_by has to be on count of Likes on the posts)\n",
    "\n",
    "def get_popular_posts () -> list[dict] : \n",
    "\n",
    "\n",
    "# [\n",
    "#  { \n",
    "#   “uuid”:”Post-uuid”,\n",
    "#   “title”: “Post title”\n",
    "#   “content”: “”,\n",
    "#  },\n",
    "#  “created_by”: {\n",
    "#      “name”: “User’s name”,\n",
    "#      “uuid”: “Users’s UUID”\n",
    "#    },\n",
    "#    “created_date”: “date”,\n",
    "#    “likes”: 20,\n",
    "# { \n",
    "#   “uuid”:”Post-uuid”,\n",
    "#   “title”: “Post title”\n",
    "#   “content”: “”,\n",
    "#   “created_by”: {\n",
    "#      “name”: “User’s name”,\n",
    "#      “uuid”: “Users’s UUID”\n",
    "#    },\n",
    "#    “created_date”: “date”,\n",
    "#    “likes”: 15,\n",
    "#  },\n",
    "# { \n",
    "#   “uuid”:”Post-uuid”,\n",
    "#   “title”: “Post title”\n",
    "#   “content”: “”,\n",
    "#   “created_by”: {\n",
    "#      “name”: “User’s name”,\n",
    "#      “uuid”: “Users’s UUID”\n",
    "#    },\n",
    "#    “created_date”: “date”,\n",
    "#    “likes”: 11,\n",
    "#  }\n",
    "]\n",
    "\n",
    "\n",
    "\n",
    "\n"
   ]
  },
  {
   "cell_type": "code",
   "execution_count": null,
   "id": "7d56c8ce",
   "metadata": {},
   "outputs": [],
   "source": [
    "from django.utils import timezone\n",
    "from django.db.models import Count\n",
    "from typing import List, Dict\n",
    "\n",
    "def get_popular_posts() -> List[Dict]:\n",
    "    try:\n",
    "        now_time = timezone.now()\n",
    "        seven_days_ago = now_time.replace(hour=0, minute=0, second=0, microsecond=0) - timezone.timedelta(days=7)\n",
    "        \n",
    "        popular_posts = (\n",
    "            Post.objects.filter(created_at__gte=seven_days_ago)\n",
    "            .annotate(like_count=Count('like'))\n",
    "            .order_by('-like_count')[:5]\n",
    "            .select_related('user')\n",
    "        )\n",
    "        \n",
    "        popular_posts_data = []\n",
    "        for post in popular_posts:\n",
    "            popular_posts_data.append({\n",
    "                \"Post_details\": {\n",
    "                    \"id\": post.id,\n",
    "                    \"title\": post.title,\n",
    "                    \"content\": post.content,\n",
    "                    \"created_by\": {\n",
    "                        \"name\": post.user.name,\n",
    "                        \"id\": post.user.id\n",
    "                    },\n",
    "                    \"created_date\": post.created_at.isoformat(),\n",
    "                    \"like_count\": post.like_count,\n",
    "                }\n",
    "            })\n",
    "        \n",
    "        return popular_posts_data\n",
    "    \n",
    "    except Post.DoesNotExist:\n",
    "        return []\n"
   ]
  },
  {
   "cell_type": "code",
   "execution_count": null,
   "id": "6e0e66f2",
   "metadata": {},
   "outputs": [
    {
     "data": {
      "text/plain": [
       "[{'Post_details': {'id': 3,\n",
       "   'title': 'Amaravati will be Andhra capital, no ‘3-capitals’',\n",
       "   'content': 'A day before taking oath as Andhra Pradesh Chief Minister, Telugu Desam Party chief N Chandrababu Naidu said on Tuesday that Amaravati would be the state capital',\n",
       "   'created_by': {'name': 'ayush', 'id': 2},\n",
       "   'created_date': '2024-06-11T11:46:36.341939+00:00',\n",
       "   'like_count': 3}},\n",
       " {'Post_details': {'id': 2,\n",
       "   'title': 'A Simple Black & White Outfit',\n",
       "   'content': 'don’t know about you guys, but this ‘80s baby is very happy that skorts made such a comeback in the last year. I grew up wearing skorts and loved how versatile they were, and that love hasn’t changed',\n",
       "   'created_by': {'name': 'ashwin', 'id': 4},\n",
       "   'created_date': '2024-06-11T11:45:31.135278+00:00',\n",
       "   'like_count': 2}},\n",
       " {'Post_details': {'id': 1,\n",
       "   'title': 'vibes of nature',\n",
       "   'content': 'I am sitting on my balcony. It is spring and there is a little bit of heat in the sun. The balcony looks out over a road. The road is usually busy…',\n",
       "   'created_by': {'name': 'PIYUSH GUPTA', 'id': 1},\n",
       "   'created_date': '2024-06-11T11:31:05.455290+00:00',\n",
       "   'like_count': 1}},\n",
       " {'Post_details': {'id': 8,\n",
       "   'title': 'capital, no ‘3-capitals’',\n",
       "   'content': 'y me5y   rettttttttttttttttttttttt eeeeeeeeeeeeeeeeeee',\n",
       "   'created_by': {'name': 'ashwin', 'id': 4},\n",
       "   'created_date': '2024-06-12T13:05:25.600958+00:00',\n",
       "   'like_count': 0}},\n",
       " {'Post_details': {'id': 7,\n",
       "   'title': 'White Outfit',\n",
       "   'content': 'fbs gegwegwe gwe ge we gwe re r hwr wgwr h wgw gwe',\n",
       "   'created_by': {'name': 'ayush', 'id': 2},\n",
       "   'created_date': '2024-06-12T13:05:07.280611+00:00',\n",
       "   'like_count': 0}}]"
      ]
     },
     "execution_count": 24,
     "metadata": {},
     "output_type": "execute_result"
    }
   ],
   "source": [
    "get_popular_posts()"
   ]
  },
  {
   "cell_type": "code",
   "execution_count": null,
   "id": "b20ce529",
   "metadata": {},
   "outputs": [],
   "source": [
    "8. Write a function get_post_type_details to retrieve a list of all the \n",
    "post_types in the DB and the post counts for all these types \n",
    "\n",
    "( annotate command in the ORM == Group By - Count Query in SQL )\n",
    "\n",
    "def get_post_type_details() -> list[dict] : \n",
    "\n",
    "\n",
    "[\n",
    " { \n",
    "  “name”: “name1”\n",
    "  “post-count”: 15,\n",
    " },\n",
    " { \n",
    "  “name”: “name2”\n",
    "  “post-count”: 15,\n",
    " },\n",
    "{ \n",
    "  “name”: “name3”\n",
    "  “post-count”: 15,\n",
    " },\n",
    "]\n",
    "\n",
    "\n",
    "\n",
    "\n",
    "\n"
   ]
  },
  {
   "cell_type": "code",
   "execution_count": null,
   "id": "35da4e62",
   "metadata": {},
   "outputs": [],
   "source": [
    "def get_post_type_details():\n",
    "    try:\n",
    "        post_type_count=Post.objects.filter()\n",
    "    \n",
    "    \n",
    "    "
   ]
  }
 ],
 "metadata": {
  "kernelspec": {
   "display_name": "Django Shell-Plus",
   "language": "python",
   "name": "django_extensions"
  },
  "language_info": {
   "codemirror_mode": {
    "name": "ipython",
    "version": 3
   },
   "file_extension": ".py",
   "mimetype": "text/x-python",
   "name": "python",
   "nbconvert_exporter": "python",
   "pygments_lexer": "ipython3",
   "version": "3.10.12"
  }
 },
 "nbformat": 4,
 "nbformat_minor": 5
}
