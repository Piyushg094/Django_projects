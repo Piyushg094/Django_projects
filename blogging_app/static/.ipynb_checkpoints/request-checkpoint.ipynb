{
 "cells": [
  {
   "cell_type": "code",
   "execution_count": 2,
   "metadata": {},
   "outputs": [],
   "source": [
    "from pprint import pprint \n",
    "import os\n",
    "import django\n",
    "\n",
    "os.environ.setdefault('DJANGO_SETTINGS_MODULE', 'rest.settings')\n",
    "os.environ[\"DJANGO_ALLOW_ASYNC_UNSAFE\"] = \"true\"\n",
    "\n",
    "django.setup()"
   ]
  },
  {
   "cell_type": "markdown",
   "metadata": {},
   "source": [
    "# Mocking Django Rest Framework requests "
   ]
  },
  {
   "cell_type": "code",
   "execution_count": 3,
   "metadata": {},
   "outputs": [],
   "source": [
    "import json \n",
    "\n",
    "from rest_framework.test import APIRequestFactory\n",
    "from rest_framework.request import Request\n",
    "from rest_framework.parsers import JSONParser\n",
    "\n",
    "\n",
    "factory = APIRequestFactory()"
   ]
  },
  {
   "cell_type": "code",
   "execution_count": null,
   "metadata": {},
   "outputs": [],
   "source": [
    "wsgi_request_instance = factory.get(\n",
    "    path='/posts/?user=1&user=2&user=3', \n",
    "    data={},\n",
    "    format='json'\n",
    ")\n",
    "\n",
    "print(wsgi_request_instance)\n",
    "\n",
    "drf_request_instance = Request(\n",
    "    request=wsgi_request_instance,\n",
    "    parsers=JSONParser().render,\n",
    ")\n",
    "\n",
    "print(drf_request_instance)\n",
    "\n",
    "print(drf_request_instance.__dict__,\"\\n\\n\")\n",
    "\n",
    "print(\"JSON data sent in the request:\\n\", drf_request_instance.data, \"\\n\\n\")\n",
    "print(\"Query Params sent in the request:\\n\",drf_request_instance.query_params, \"\\n\\n\")\n",
    "print(\"URL params sent in the request:\\n\", drf_request_instance.parser_context.get('kwargs'), \"\\n\\n\")"
   ]
  },
  {
   "cell_type": "code",
   "execution_count": 4,
   "metadata": {},
   "outputs": [],
   "source": [
    "def get_drf_request(method, path, data):\n",
    "    \n",
    "    factory_methods = {\n",
    "        \"GET\": factory.get,\n",
    "        \"POST\": factory.post,\n",
    "        \"PATCH\": factory.patch,\n",
    "        \"PUT\": factory.put,\n",
    "        \"DELETE\": factory.delete\n",
    "    }\n",
    "    \n",
    "    method = factory_methods[method]\n",
    "    \n",
    "    wsgi_request_instance = method(\n",
    "        path=path, \n",
    "        data=data,\n",
    "        format='json'\n",
    "    )\n",
    "\n",
    "    print(wsgi_request_instance)\n",
    "\n",
    "    drf_request_instance = Request(\n",
    "        request=wsgi_request_instance,\n",
    "        parsers=[JSONParser()],\n",
    "    )\n",
    "\n",
    "    print(drf_request_instance)\n",
    "\n",
    "    print(drf_request_instance.__dict__,\"\\n\\n\")\n",
    "\n",
    "    print(\"JSON data sent in the request:\\n\", drf_request_instance.data, \"\\n\\n\")\n",
    "    print(\"Query Params sent in the request:\\n\",drf_request_instance.query_params, \"\\n\\n\")"
   ]
  },
  {
   "cell_type": "code",
   "execution_count": 5,
   "metadata": {},
   "outputs": [],
   "source": [
    "from enum import Enum\n",
    "\n",
    "class HTTP_METHODS(Enum):\n",
    "    GET = \"GET\"\n",
    "    POST = \"POST\"\n",
    "    PATCH = \"PATCH\"\n",
    "    PUT = \"PUT\"\n",
    "    DELETE = \"DELETE\"\n"
   ]
  },
  {
   "cell_type": "code",
   "execution_count": 6,
   "metadata": {},
   "outputs": [
    {
     "name": "stdout",
     "output_type": "stream",
     "text": [
      "<WSGIRequest: PATCH '/user/1'>\n",
      "<rest_framework.request.Request: PATCH '/user/1'>\n",
      "{'_request': <WSGIRequest: PATCH '/user/1'>, 'parsers': [<rest_framework.parsers.JSONParser object at 0x7f7137d91c00>], 'authenticators': (), 'negotiator': <rest_framework.negotiation.DefaultContentNegotiation object at 0x7f7137d91690>, 'parser_context': {'request': <rest_framework.request.Request: PATCH '/user/1'>, 'encoding': 'utf-8'}, '_data': <class 'rest_framework.request.Empty'>, '_files': <class 'rest_framework.request.Empty'>, '_full_data': <class 'rest_framework.request.Empty'>, '_content_type': <class 'rest_framework.request.Empty'>, '_stream': <class 'rest_framework.request.Empty'>} \n",
      "\n",
      "\n",
      "JSON data sent in the request:\n",
      " {'first_name': 'Dhruv', 'last_name': 'Kaushik'} \n",
      "\n",
      "\n",
      "Query Params sent in the request:\n",
      " <QueryDict: {}> \n",
      "\n",
      "\n"
     ]
    }
   ],
   "source": [
    "get_drf_request(\n",
    "    method=HTTP_METHODS.PATCH.value,\n",
    "    path=\"/user/1\",\n",
    "    data={\n",
    "        \"first_name\":\"Dhruv\",\n",
    "        \"last_name\":\"Kaushik\"\n",
    "    }\n",
    ")"
   ]
  },
  {
   "cell_type": "code",
   "execution_count": 7,
   "metadata": {},
   "outputs": [
    {
     "name": "stdout",
     "output_type": "stream",
     "text": [
      "<WSGIRequest: GET '/posts/?user=1&user=2'>\n",
      "<rest_framework.request.Request: GET '/posts/?user=1&user=2'>\n",
      "{'_request': <WSGIRequest: GET '/posts/?user=1&user=2'>, 'parsers': [<rest_framework.parsers.JSONParser object at 0x7f7137d91b40>], 'authenticators': (), 'negotiator': <rest_framework.negotiation.DefaultContentNegotiation object at 0x7f7137d93790>, 'parser_context': {'request': <rest_framework.request.Request: GET '/posts/?user=1&user=2'>, 'encoding': 'utf-8'}, '_data': <class 'rest_framework.request.Empty'>, '_files': <class 'rest_framework.request.Empty'>, '_full_data': <class 'rest_framework.request.Empty'>, '_content_type': <class 'rest_framework.request.Empty'>, '_stream': <class 'rest_framework.request.Empty'>} \n",
      "\n",
      "\n",
      "JSON data sent in the request:\n",
      " {} \n",
      "\n",
      "\n",
      "Query Params sent in the request:\n",
      " <QueryDict: {'user': ['1', '2']}> \n",
      "\n",
      "\n"
     ]
    }
   ],
   "source": [
    "get_drf_request(\n",
    "    method=HTTP_METHODS.GET.value,\n",
    "    path='/posts/?user=1&user=2',\n",
    "    data={}\n",
    ")\n"
   ]
  },
  {
   "cell_type": "code",
   "execution_count": null,
   "metadata": {},
   "outputs": [],
   "source": []
  },
  {
   "cell_type": "code",
   "execution_count": null,
   "metadata": {},
   "outputs": [],
   "source": []
  },
  {
   "cell_type": "code",
   "execution_count": null,
   "metadata": {},
   "outputs": [],
   "source": []
  }
 ],
 "metadata": {
  "kernelspec": {
   "display_name": "Django Shell-Plus",
   "language": "python",
   "name": "django_extensions"
  },
  "language_info": {
   "codemirror_mode": {
    "name": "ipython",
    "version": 3
   },
   "file_extension": ".py",
   "mimetype": "text/x-python",
   "name": "python",
   "nbconvert_exporter": "python",
   "pygments_lexer": "ipython3",
   "version": "3.10.12"
  }
 },
 "nbformat": 4,
 "nbformat_minor": 2
}
