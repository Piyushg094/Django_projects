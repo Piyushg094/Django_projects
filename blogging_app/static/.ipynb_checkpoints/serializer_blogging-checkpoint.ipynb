{
 "cells": [
  {
   "cell_type": "code",
   "execution_count": 2,
   "id": "fbf69d4b",
   "metadata": {},
   "outputs": [],
   "source": [
    "from pprint import pprint\n",
    "import os\n",
    "import django\n",
    "os.environ.setdefault('DJANGO_SETTINGS_MODULE', 'rest.settings')\n",
    "os.environ[\"DJANGO_ALLOW_ASYNC_UNSAFE\"] = \"true\"\n",
    "django.setup()"
   ]
  },
  {
   "cell_type": "code",
   "execution_count": 3,
   "id": "a5013977",
   "metadata": {},
   "outputs": [],
   "source": [
    "from blogging_app.models import *"
   ]
  },
  {
   "cell_type": "code",
   "execution_count": 5,
   "id": "e7125a0b",
   "metadata": {},
   "outputs": [
    {
     "data": {
      "text/plain": [
       "10"
      ]
     },
     "execution_count": 5,
     "metadata": {},
     "output_type": "execute_result"
    }
   ],
   "source": [
    "Post.objects.count()"
   ]
  },
  {
   "cell_type": "code",
   "execution_count": 6,
   "id": "fb04e0af",
   "metadata": {},
   "outputs": [],
   "source": [
    "from rest_framework.serializers import ModelSerializer"
   ]
  },
  {
   "cell_type": "code",
   "execution_count": 120,
   "id": "d7da1281",
   "metadata": {},
   "outputs": [],
   "source": [
    "class PostCategorySerializer(ModelSerializer):\n",
    "    \n",
    "    \n",
    "    class Meta:\n",
    "        model=PostCategory\n",
    "        fields=\"__all__\"\n",
    "        \n",
    "    "
   ]
  },
  {
   "cell_type": "code",
   "execution_count": 42,
   "id": "8842d33c",
   "metadata": {},
   "outputs": [
    {
     "name": "stdout",
     "output_type": "stream",
     "text": [
      "category Fashion\n",
      "{'id': 1, 'name': 'Fashion'}\n",
      "PostCategorySerializer(<PostCategory: Fashion>):\n",
      "    id = IntegerField(label='ID', read_only=True)\n",
      "    name = CharField(max_length=100)\n"
     ]
    }
   ],
   "source": [
    "category_ins=PostCategory.objects.all().first()\n",
    "print(\"category\", category_ins)\n",
    "cate_seri=PostCategorySerializer(category_ins)\n",
    "print(cate_seri.data)\n",
    "print(cate_seri)"
   ]
  },
  {
   "cell_type": "code",
   "execution_count": 43,
   "id": "72c8fb71",
   "metadata": {},
   "outputs": [
    {
     "name": "stdout",
     "output_type": "stream",
     "text": [
      "[{'id': 1, 'name': 'Fashion'}, {'id': 2, 'name': 'News'}, {'id': 3, 'name': 'Food blogs'}, {'id': 4, 'name': 'health and remadies'}, {'id': 5, 'name': 'Travels'}, {'id': 6, 'name': 'Nature'}]\n"
     ]
    }
   ],
   "source": [
    "categories=PostCategory.objects.all()\n",
    "cate_Seri=PostCategorySerializer(categories, many=True)\n",
    "print(cate_Seri.data)"
   ]
  },
  {
   "cell_type": "code",
   "execution_count": 47,
   "id": "0f5a568e",
   "metadata": {},
   "outputs": [],
   "source": [
    "class PostSerializer(ModelSerializer):\n",
    "    \n",
    "    \n",
    "    class Meta:\n",
    "        model=Post\n",
    "        fields=\"__all__\"\n",
    "        \n",
    "        "
   ]
  },
  {
   "cell_type": "code",
   "execution_count": 48,
   "id": "f2174b99",
   "metadata": {},
   "outputs": [
    {
     "name": "stdout",
     "output_type": "stream",
     "text": [
      "{'id': 1, 'content': 'I am sitting on my balcony. It is spring and there is a little bit of heat in the sun. The balcony looks out over a road. The road is usually busy…', 'title': 'vibes of nature', 'created_at': '2024-06-11T11:31:05.455290Z', 'user': 1, 'category': []}\n"
     ]
    }
   ],
   "source": [
    "post_instance=Post.objects.all().first()\n",
    "post_seri=PostSerializer(post_instance)\n",
    "print(post_seri.data)"
   ]
  },
  {
   "cell_type": "code",
   "execution_count": 49,
   "id": "14d0686c",
   "metadata": {},
   "outputs": [
    {
     "name": "stdout",
     "output_type": "stream",
     "text": [
      "[{'id': 1, 'content': 'I am sitting on my balcony. It is spring and there is a little bit of heat in the sun. The balcony looks out over a road. The road is usually busy…', 'title': 'vibes of nature', 'created_at': '2024-06-11T11:31:05.455290Z', 'user': 1, 'category': []}, {'id': 2, 'content': 'don’t know about you guys, but this ‘80s baby is very happy that skorts made such a comeback in the last year. I grew up wearing skorts and loved how versatile they were, and that love hasn’t changed', 'title': 'A Simple Black & White Outfit', 'created_at': '2024-06-11T11:45:31.135278Z', 'user': 4, 'category': []}, {'id': 3, 'content': 'A day before taking oath as Andhra Pradesh Chief Minister, Telugu Desam Party chief N Chandrababu Naidu said on Tuesday that Amaravati would be the state capital', 'title': 'Amaravati will be Andhra capital, no ‘3-capitals’', 'created_at': '2024-06-11T11:46:36.341939Z', 'user': 2, 'category': []}, {'id': 4, 'content': 'On an early winter morning, I geared up to pedal 64 km from Ifrane – Morocco’s only Alpine ski town – to Midelt, at the edge of the Sahara Desert. Despite wearing several layers, I could barely feel m', 'title': 'Cycling Across Morocco, From the High Atlas to the', 'created_at': '2024-06-11T11:47:46.784628Z', 'user': 3, 'category': []}, {'id': 5, 'content': 'Grab a bag of green beans, blitz up a quick avocado caesar, toast some panko, and let’s go! This is some type of magic.', 'title': 'Avocado Caesar Green Beans', 'created_at': '2024-06-11T11:48:27.832850Z', 'user': 5, 'category': []}, {'id': 6, 'content': 's gvrg efvefeffge g regrere ggr vwegwe gwe gw gw w gwr w gw g', 'title': 'Atlas to the', 'created_at': '2024-06-12T13:04:49.727669Z', 'user': 1, 'category': []}, {'id': 7, 'content': 'fbs gegwegwe gwe ge we gwe re r hwr wgwr h wgw gwe', 'title': 'White Outfit', 'created_at': '2024-06-12T13:05:07.280611Z', 'user': 2, 'category': []}, {'id': 8, 'content': 'y me5y   rettttttttttttttttttttttt eeeeeeeeeeeeeeeeeee', 'title': 'capital, no ‘3-capitals’', 'created_at': '2024-06-12T13:05:25.600958Z', 'user': 4, 'category': []}, {'id': 9, 'content': 'it7u7yu 6u yur6 r tey5e hre hgerg re greg  re h5hhrt  gre her egre gre g', 'title': 'Avocado Caesar', 'created_at': '2024-06-12T13:05:52.520354Z', 'user': 5, 'category': []}, {'id': 10, 'content': 'e rgregr ewr gwr gwwg w gww gw w w wr gwgw w', 'title': 'rrg rggetlas to the', 'created_at': '2024-06-13T10:19:10.065875Z', 'user': 2, 'category': [1, 6]}]\n"
     ]
    }
   ],
   "source": [
    "post_instance=Post.objects.all()\n",
    "post_seri=PostSerializer(post_instance, many=True)\n",
    "print(post_seri.data)"
   ]
  },
  {
   "cell_type": "code",
   "execution_count": 64,
   "id": "7989064b",
   "metadata": {},
   "outputs": [],
   "source": [
    "class PostSerializer(ModelSerializer):\n",
    "    \n",
    "    category=PostCategorySerializer(many=True)\n",
    "    \n",
    "    class Meta:\n",
    "        model=Post\n",
    "        fields=\"__all__\"\n",
    "        "
   ]
  },
  {
   "cell_type": "code",
   "execution_count": 60,
   "id": "f8105432",
   "metadata": {},
   "outputs": [
    {
     "name": "stdout",
     "output_type": "stream",
     "text": [
      "{'id': 10, 'category': [{'id': 1, 'name': 'Fashion'}, {'id': 6, 'name': 'Nature'}], 'content': 'e rgregr ewr gwr gwwg w gww gw w w wr gwgw w', 'title': 'rrg rggetlas to the', 'created_at': '2024-06-13T10:19:10.065875Z', 'user': 2}\n"
     ]
    }
   ],
   "source": [
    "post_instance=Post.objects.all()[9]\n",
    "post_seri=PostSerializer(post_instance)\n",
    "print(post_seri.data)"
   ]
  },
  {
   "cell_type": "code",
   "execution_count": 126,
   "id": "7d0d2352",
   "metadata": {},
   "outputs": [],
   "source": [
    "class UserSerializer(ModelSerializer):\n",
    "    class Meta:\n",
    "        model=User\n",
    "        fields = (\"__all__\")"
   ]
  },
  {
   "cell_type": "code",
   "execution_count": 110,
   "id": "0a8fb4b4",
   "metadata": {},
   "outputs": [],
   "source": [
    "class PostSerializer(ModelSerializer):\n",
    "    created_by=UserSerializer(source='user', read_only=True)\n",
    "    class Meta:\n",
    "        model=Post\n",
    "        fields=\"__all__\""
   ]
  },
  {
   "cell_type": "code",
   "execution_count": 112,
   "id": "b3b8c682",
   "metadata": {},
   "outputs": [
    {
     "data": {
      "text/plain": [
       "{'id': 10, 'created_by': {'id': 2, 'name': 'ayush'}, 'content': 'e rgregr ewr gwr gwwg w gww gw w w wr gwgw w', 'title': 'rrg rggetlas to the', 'created_at': '2024-06-13T10:19:10.065875Z', 'user': 2, 'category': [1, 6]}"
      ]
     },
     "execution_count": 112,
     "metadata": {},
     "output_type": "execute_result"
    }
   ],
   "source": [
    "user_ins=Post.objects.all()[9]\n",
    "user_seri=PostSerializer(user_ins)\n",
    "user_seri.data"
   ]
  },
  {
   "cell_type": "code",
   "execution_count": 98,
   "id": "952e9fb4",
   "metadata": {},
   "outputs": [
    {
     "data": {
      "text/plain": [
       "{'id': 2, 'name': 'ayush'}"
      ]
     },
     "execution_count": 98,
     "metadata": {},
     "output_type": "execute_result"
    }
   ],
   "source": [
    "user_ins=User.objects.all()[1]\n",
    "user_seri=UserSerializer(user_ins)\n",
    "user_seri.data"
   ]
  },
  {
   "cell_type": "code",
   "execution_count": 123,
   "id": "061d6be3",
   "metadata": {},
   "outputs": [],
   "source": [
    "from rest_framework.serializers import SerializerMethodField\n",
    "\n",
    "class UserSerializer(ModelSerializer):\n",
    "    class Meta:\n",
    "        model = User\n",
    "        fields = (\"id\", \"name\")\n",
    "\n",
    "class PostSerializer(ModelSerializer):\n",
    "    created_by = UserSerializer(source='user', read_only=True)\n",
    "    likes = SerializerMethodField()\n",
    "    category=PostCategorySerializer(many=True)\n",
    "    abc=SerializerMethodField()\n",
    "    \n",
    "    class Meta:\n",
    "        model = Post\n",
    "        fields = (\"abc\",\"id\", \"created_by\", \"created_at\", \"likes\", \"title\", \"content\", \"category\")\n",
    "\n",
    "    def get_likes(self, obj):\n",
    "        # Implement your logic to count likes here, e.g., obj.likes.count()\n",
    "        return obj.likes.count()\n",
    "    def get_abc(self,obj):\n",
    "        \n",
    "        obj={\n",
    "            \"name\": \"piyush\"\n",
    "        }\n",
    "        \n",
    "        return obj\n",
    "        \n",
    "\n",
    "   \n"
   ]
  },
  {
   "cell_type": "code",
   "execution_count": 124,
   "id": "2ab71a76",
   "metadata": {},
   "outputs": [
    {
     "data": {
      "text/plain": [
       "{'abc': {'name': 'piyush'}, 'id': 10, 'created_by': {'id': 2, 'name': 'ayush'}, 'created_at': '2024-06-13T10:19:10.065875Z', 'likes': 0, 'title': 'rrg rggetlas to the', 'content': 'e rgregr ewr gwr gwwg w gww gw w w wr gwgw w', 'category': [{'id': 1, 'name': 'Fashion'}, {'id': 6, 'name': 'Nature'}]}"
      ]
     },
     "execution_count": 124,
     "metadata": {},
     "output_type": "execute_result"
    }
   ],
   "source": [
    "user_ins = Post.objects.all()[9]\n",
    "user_seri = PostSerializer(user_ins)\n",
    "user_seri.data\n",
    "        "
   ]
  },
  {
   "cell_type": "code",
   "execution_count": 100,
   "id": "5333221d",
   "metadata": {},
   "outputs": [
    {
     "data": {
      "text/plain": [
       "{'id': 10, 'category': [{'id': 1, 'name': 'Fashion'}, {'id': 6, 'name': 'Nature'}], 'user': {'id': 2, 'name': 'ayush'}, 'content': 'e rgregr ewr gwr gwwg w gww gw w w wr gwgw w', 'title': 'rrg rggetlas to the', 'created_at': '2024-06-13T10:19:10.065875Z'}"
      ]
     },
     "execution_count": 100,
     "metadata": {},
     "output_type": "execute_result"
    }
   ],
   "source": [
    "pos_ins=Post.objects.all()[9]\n",
    "post_Seri=PostSerializer(pos_ins)\n",
    "post_Seri.data"
   ]
  },
  {
   "cell_type": "code",
   "execution_count": 85,
   "id": "d1423dfd",
   "metadata": {},
   "outputs": [],
   "source": [
    "from rest_framework.serializers import DateTimeField\n",
    "\n",
    "class PostSerializer(ModelSerializer):\n",
    "    category=PostCategorySerializer(many=True)\n",
    "    user = UserSerializer()\n",
    "    created_at = DateTimeField(format=\"%-d %B %Y, %A, %-I:%-M %p\")\n",
    "    \n",
    "    class Meta:\n",
    "        model=Post\n",
    "        fields=\"__all__\"\n",
    "        "
   ]
  },
  {
   "cell_type": "code",
   "execution_count": 125,
   "id": "75d4e99a",
   "metadata": {},
   "outputs": [
    {
     "data": {
      "text/plain": [
       "{'abc': {'name': 'piyush'}, 'id': 10, 'created_by': {'id': 2, 'name': 'ayush'}, 'created_at': '2024-06-13T10:19:10.065875Z', 'likes': 0, 'title': 'rrg rggetlas to the', 'content': 'e rgregr ewr gwr gwwg w gww gw w w wr gwgw w', 'category': [{'id': 1, 'name': 'Fashion'}, {'id': 6, 'name': 'Nature'}]}"
      ]
     },
     "execution_count": 125,
     "metadata": {},
     "output_type": "execute_result"
    }
   ],
   "source": [
    "post_instance = Post.objects.all()[9]\n",
    "post_serializer = PostSerializer(post_instance)\n",
    "\n",
    "post_serializer.data"
   ]
  },
  {
   "cell_type": "code",
   "execution_count": 91,
   "id": "6ea1797e",
   "metadata": {},
   "outputs": [],
   "source": [
    "from rest_framework.serializers import SerializerMethodField\n",
    "\n",
    "class PostCategoryListSerializer(ModelSerializer):\n",
    "\n",
    "    post_count = SerializerMethodField()\n",
    "\n",
    "    def get_post_count(self, post_cat):\n",
    "        \"\"\"\n",
    "        This field in the response represents the number of posts created for the category\n",
    "        \"\"\"\n",
    "        post_count_for_category = post_cat.posts.count()\n",
    "        return post_count_for_category\n",
    "\n",
    "    class Meta:\n",
    "        model = PostCategory\n",
    "        fields = ( \"id\", \"name\", \"post_count\" )\n",
    "        "
   ]
  },
  {
   "cell_type": "code",
   "execution_count": 93,
   "id": "f3fd0e4a",
   "metadata": {},
   "outputs": [
    {
     "name": "stdout",
     "output_type": "stream",
     "text": [
      "Categories : <QuerySet [<PostCategory: Fashion>, <PostCategory: News>, <PostCategory: Food blogs>, <PostCategory: health and remadies>, <PostCategory: Travels>, <PostCategory: Nature>]>\n"
     ]
    },
    {
     "data": {
      "text/plain": [
       "[{'id': 1, 'name': 'Fashion', 'post_count': 1}, {'id': 2, 'name': 'News', 'post_count': 0}, {'id': 3, 'name': 'Food blogs', 'post_count': 0}, {'id': 4, 'name': 'health and remadies', 'post_count': 0}, {'id': 5, 'name': 'Travels', 'post_count': 0}, {'id': 6, 'name': 'Nature', 'post_count': 1}]"
      ]
     },
     "execution_count": 93,
     "metadata": {},
     "output_type": "execute_result"
    }
   ],
   "source": [
    "categories = PostCategory.objects.all()\n",
    "print(\"Categories :\",categories)\n",
    "\n",
    "category_list_serializer = PostCategoryListSerializer(categories, many=True)\n",
    "serialized_data = category_list_serializer.data\n",
    "\n",
    "serialized_data"
   ]
  },
  {
   "cell_type": "code",
   "execution_count": 95,
   "id": "a9d22a04",
   "metadata": {},
   "outputs": [
    {
     "data": {
      "text/plain": [
       "<QuerySet [{'id': 2, 'post_count': 0}, {'id': 5, 'post_count': 0}, {'id': 3, 'post_count': 0}, {'id': 4, 'post_count': 0}, {'id': 1, 'post_count': 1}, {'id': 6, 'post_count': 1}]>"
      ]
     },
     "execution_count": 95,
     "metadata": {},
     "output_type": "execute_result"
    }
   ],
   "source": [
    "from django.db.models import Count\n",
    "(PostCategory.objects.all().values(\"id\",'post__id')\n",
    ".annotate(post_count=Count('post__id'))\n",
    ".order_by('post_count').values(\"id\",\"post_count\"))"
   ]
  },
  {
   "cell_type": "code",
   "execution_count": 137,
   "id": "90854bd4",
   "metadata": {},
   "outputs": [],
   "source": [
    "from rest_framework import serializers\n",
    "class PostSerializer(ModelSerializer):\n",
    "    \n",
    "    class Meta:\n",
    "        model=Post\n",
    "        fields=\"__all__\"\n",
    "        \n",
    "class LikeSerializer(ModelSerializer):\n",
    "    \n",
    "    class Meta:\n",
    "        model=Like\n",
    "        fields=\"__all__\"\n",
    "        \n",
    "\n",
    "class UserStatsSerializer(serializers.Serializer):\n",
    "    post_count = serializers.IntegerField()\n",
    "    liked_post_count = serializers.IntegerField()        \n",
    "                "
   ]
  },
  {
   "cell_type": "code",
   "execution_count": 138,
   "id": "474f7377",
   "metadata": {},
   "outputs": [],
   "source": [
    "class UserSerializer(ModelSerializer):\n",
    "    \n",
    "    user_stats=SerializerMethodField()\n",
    "    \n",
    "    class Meta:\n",
    "        model=User\n",
    "        fields = (\"id\",\"name\",\"email\",\"phone\",\"user_stats\")\n",
    "        \n",
    "    def get_user_stats(self,obj):\n",
    "        post_count=obj.posts.count()\n",
    "        liked_post_count=obj.like.filter(likes=True).count()\n",
    "        \n",
    "        return{\n",
    "            \"post_count\":post_count,\n",
    "            \"liked_post_count\":liked_post_count\n",
    "            \n",
    "        }"
   ]
  },
  {
   "cell_type": "code",
   "execution_count": 139,
   "id": "d5187101",
   "metadata": {},
   "outputs": [],
   "source": [
    "def get_user_details(user_id):\n",
    "    try:\n",
    "        user = User.objects.prefetch_related('posts', 'likes').get(id=user_id)\n",
    "        user_serializer = UserSerializer(user)\n",
    "        return user_serializer.data\n",
    "    except User.DoesNotExist:\n",
    "        return {}"
   ]
  },
  {
   "cell_type": "code",
   "execution_count": 140,
   "id": "7ea095dd",
   "metadata": {},
   "outputs": [
    {
     "ename": "AssertionError",
     "evalue": "The field 'user_stats' was declared on serializer UserSerializer, but has not been included in the 'fields' option.",
     "output_type": "error",
     "traceback": [
      "\u001b[0;31m---------------------------------------------------------------------------\u001b[0m",
      "\u001b[0;31mAssertionError\u001b[0m                            Traceback (most recent call last)",
      "Cell \u001b[0;32mIn[140], line 1\u001b[0m\n\u001b[0;32m----> 1\u001b[0m \u001b[43mget_user_details\u001b[49m\u001b[43m(\u001b[49m\u001b[38;5;241;43m1\u001b[39;49m\u001b[43m)\u001b[49m\n",
      "Cell \u001b[0;32mIn[139], line 5\u001b[0m, in \u001b[0;36mget_user_details\u001b[0;34m(user_id)\u001b[0m\n\u001b[1;32m      3\u001b[0m     user \u001b[38;5;241m=\u001b[39m User\u001b[38;5;241m.\u001b[39mobjects\u001b[38;5;241m.\u001b[39mprefetch_related(\u001b[38;5;124m'\u001b[39m\u001b[38;5;124mposts\u001b[39m\u001b[38;5;124m'\u001b[39m, \u001b[38;5;124m'\u001b[39m\u001b[38;5;124mlikes\u001b[39m\u001b[38;5;124m'\u001b[39m)\u001b[38;5;241m.\u001b[39mget(\u001b[38;5;28mid\u001b[39m\u001b[38;5;241m=\u001b[39muser_id)\n\u001b[1;32m      4\u001b[0m     user_serializer \u001b[38;5;241m=\u001b[39m UserSerializer(user)\n\u001b[0;32m----> 5\u001b[0m     \u001b[38;5;28;01mreturn\u001b[39;00m \u001b[43muser_serializer\u001b[49m\u001b[38;5;241;43m.\u001b[39;49m\u001b[43mdata\u001b[49m\n\u001b[1;32m      6\u001b[0m \u001b[38;5;28;01mexcept\u001b[39;00m User\u001b[38;5;241m.\u001b[39mDoesNotExist:\n\u001b[1;32m      7\u001b[0m     \u001b[38;5;28;01mreturn\u001b[39;00m {}\n",
      "File \u001b[0;32m~/Django_lernings/venv/lib/python3.10/site-packages/rest_framework/serializers.py:571\u001b[0m, in \u001b[0;36mSerializer.data\u001b[0;34m(self)\u001b[0m\n\u001b[1;32m    569\u001b[0m \u001b[38;5;129m@property\u001b[39m\n\u001b[1;32m    570\u001b[0m \u001b[38;5;28;01mdef\u001b[39;00m \u001b[38;5;21mdata\u001b[39m(\u001b[38;5;28mself\u001b[39m):\n\u001b[0;32m--> 571\u001b[0m     ret \u001b[38;5;241m=\u001b[39m \u001b[38;5;28;43msuper\u001b[39;49m\u001b[43m(\u001b[49m\u001b[43m)\u001b[49m\u001b[38;5;241;43m.\u001b[39;49m\u001b[43mdata\u001b[49m\n\u001b[1;32m    572\u001b[0m     \u001b[38;5;28;01mreturn\u001b[39;00m ReturnDict(ret, serializer\u001b[38;5;241m=\u001b[39m\u001b[38;5;28mself\u001b[39m)\n",
      "File \u001b[0;32m~/Django_lernings/venv/lib/python3.10/site-packages/rest_framework/serializers.py:249\u001b[0m, in \u001b[0;36mBaseSerializer.data\u001b[0;34m(self)\u001b[0m\n\u001b[1;32m    247\u001b[0m \u001b[38;5;28;01mif\u001b[39;00m \u001b[38;5;129;01mnot\u001b[39;00m \u001b[38;5;28mhasattr\u001b[39m(\u001b[38;5;28mself\u001b[39m, \u001b[38;5;124m'\u001b[39m\u001b[38;5;124m_data\u001b[39m\u001b[38;5;124m'\u001b[39m):\n\u001b[1;32m    248\u001b[0m     \u001b[38;5;28;01mif\u001b[39;00m \u001b[38;5;28mself\u001b[39m\u001b[38;5;241m.\u001b[39minstance \u001b[38;5;129;01mis\u001b[39;00m \u001b[38;5;129;01mnot\u001b[39;00m \u001b[38;5;28;01mNone\u001b[39;00m \u001b[38;5;129;01mand\u001b[39;00m \u001b[38;5;129;01mnot\u001b[39;00m \u001b[38;5;28mgetattr\u001b[39m(\u001b[38;5;28mself\u001b[39m, \u001b[38;5;124m'\u001b[39m\u001b[38;5;124m_errors\u001b[39m\u001b[38;5;124m'\u001b[39m, \u001b[38;5;28;01mNone\u001b[39;00m):\n\u001b[0;32m--> 249\u001b[0m         \u001b[38;5;28mself\u001b[39m\u001b[38;5;241m.\u001b[39m_data \u001b[38;5;241m=\u001b[39m \u001b[38;5;28;43mself\u001b[39;49m\u001b[38;5;241;43m.\u001b[39;49m\u001b[43mto_representation\u001b[49m\u001b[43m(\u001b[49m\u001b[38;5;28;43mself\u001b[39;49m\u001b[38;5;241;43m.\u001b[39;49m\u001b[43minstance\u001b[49m\u001b[43m)\u001b[49m\n\u001b[1;32m    250\u001b[0m     \u001b[38;5;28;01melif\u001b[39;00m \u001b[38;5;28mhasattr\u001b[39m(\u001b[38;5;28mself\u001b[39m, \u001b[38;5;124m'\u001b[39m\u001b[38;5;124m_validated_data\u001b[39m\u001b[38;5;124m'\u001b[39m) \u001b[38;5;129;01mand\u001b[39;00m \u001b[38;5;129;01mnot\u001b[39;00m \u001b[38;5;28mgetattr\u001b[39m(\u001b[38;5;28mself\u001b[39m, \u001b[38;5;124m'\u001b[39m\u001b[38;5;124m_errors\u001b[39m\u001b[38;5;124m'\u001b[39m, \u001b[38;5;28;01mNone\u001b[39;00m):\n\u001b[1;32m    251\u001b[0m         \u001b[38;5;28mself\u001b[39m\u001b[38;5;241m.\u001b[39m_data \u001b[38;5;241m=\u001b[39m \u001b[38;5;28mself\u001b[39m\u001b[38;5;241m.\u001b[39mto_representation(\u001b[38;5;28mself\u001b[39m\u001b[38;5;241m.\u001b[39mvalidated_data)\n",
      "File \u001b[0;32m~/Django_lernings/venv/lib/python3.10/site-packages/rest_framework/serializers.py:523\u001b[0m, in \u001b[0;36mSerializer.to_representation\u001b[0;34m(self, instance)\u001b[0m\n\u001b[1;32m    520\u001b[0m ret \u001b[38;5;241m=\u001b[39m {}\n\u001b[1;32m    521\u001b[0m fields \u001b[38;5;241m=\u001b[39m \u001b[38;5;28mself\u001b[39m\u001b[38;5;241m.\u001b[39m_readable_fields\n\u001b[0;32m--> 523\u001b[0m \u001b[38;5;28;01mfor\u001b[39;00m field \u001b[38;5;129;01min\u001b[39;00m fields:\n\u001b[1;32m    524\u001b[0m     \u001b[38;5;28;01mtry\u001b[39;00m:\n\u001b[1;32m    525\u001b[0m         attribute \u001b[38;5;241m=\u001b[39m field\u001b[38;5;241m.\u001b[39mget_attribute(instance)\n",
      "File \u001b[0;32m~/Django_lernings/venv/lib/python3.10/site-packages/rest_framework/serializers.py:384\u001b[0m, in \u001b[0;36mSerializer._readable_fields\u001b[0;34m(self)\u001b[0m\n\u001b[1;32m    382\u001b[0m \u001b[38;5;129m@property\u001b[39m\n\u001b[1;32m    383\u001b[0m \u001b[38;5;28;01mdef\u001b[39;00m \u001b[38;5;21m_readable_fields\u001b[39m(\u001b[38;5;28mself\u001b[39m):\n\u001b[0;32m--> 384\u001b[0m     \u001b[38;5;28;01mfor\u001b[39;00m field \u001b[38;5;129;01min\u001b[39;00m \u001b[38;5;28;43mself\u001b[39;49m\u001b[38;5;241;43m.\u001b[39;49m\u001b[43mfields\u001b[49m\u001b[38;5;241m.\u001b[39mvalues():\n\u001b[1;32m    385\u001b[0m         \u001b[38;5;28;01mif\u001b[39;00m \u001b[38;5;129;01mnot\u001b[39;00m field\u001b[38;5;241m.\u001b[39mwrite_only:\n\u001b[1;32m    386\u001b[0m             \u001b[38;5;28;01myield\u001b[39;00m field\n",
      "File \u001b[0;32m~/Django_lernings/venv/lib/python3.10/site-packages/django/utils/functional.py:47\u001b[0m, in \u001b[0;36mcached_property.__get__\u001b[0;34m(self, instance, cls)\u001b[0m\n\u001b[1;32m     45\u001b[0m \u001b[38;5;28;01mif\u001b[39;00m instance \u001b[38;5;129;01mis\u001b[39;00m \u001b[38;5;28;01mNone\u001b[39;00m:\n\u001b[1;32m     46\u001b[0m     \u001b[38;5;28;01mreturn\u001b[39;00m \u001b[38;5;28mself\u001b[39m\n\u001b[0;32m---> 47\u001b[0m res \u001b[38;5;241m=\u001b[39m instance\u001b[38;5;241m.\u001b[39m\u001b[38;5;18m__dict__\u001b[39m[\u001b[38;5;28mself\u001b[39m\u001b[38;5;241m.\u001b[39mname] \u001b[38;5;241m=\u001b[39m \u001b[38;5;28;43mself\u001b[39;49m\u001b[38;5;241;43m.\u001b[39;49m\u001b[43mfunc\u001b[49m\u001b[43m(\u001b[49m\u001b[43minstance\u001b[49m\u001b[43m)\u001b[49m\n\u001b[1;32m     48\u001b[0m \u001b[38;5;28;01mreturn\u001b[39;00m res\n",
      "File \u001b[0;32m~/Django_lernings/venv/lib/python3.10/site-packages/rest_framework/serializers.py:372\u001b[0m, in \u001b[0;36mSerializer.fields\u001b[0;34m(self)\u001b[0m\n\u001b[1;32m    368\u001b[0m \u001b[38;5;66;03m# `fields` is evaluated lazily. We do this to ensure that we don't\u001b[39;00m\n\u001b[1;32m    369\u001b[0m \u001b[38;5;66;03m# have issues importing modules that use ModelSerializers as fields,\u001b[39;00m\n\u001b[1;32m    370\u001b[0m \u001b[38;5;66;03m# even if Django's app-loading stage has not yet run.\u001b[39;00m\n\u001b[1;32m    371\u001b[0m fields \u001b[38;5;241m=\u001b[39m BindingDict(\u001b[38;5;28mself\u001b[39m)\n\u001b[0;32m--> 372\u001b[0m \u001b[38;5;28;01mfor\u001b[39;00m key, value \u001b[38;5;129;01min\u001b[39;00m \u001b[38;5;28;43mself\u001b[39;49m\u001b[38;5;241;43m.\u001b[39;49m\u001b[43mget_fields\u001b[49m\u001b[43m(\u001b[49m\u001b[43m)\u001b[49m\u001b[38;5;241m.\u001b[39mitems():\n\u001b[1;32m    373\u001b[0m     fields[key] \u001b[38;5;241m=\u001b[39m value\n\u001b[1;32m    374\u001b[0m \u001b[38;5;28;01mreturn\u001b[39;00m fields\n",
      "File \u001b[0;32m~/Django_lernings/venv/lib/python3.10/site-packages/rest_framework/serializers.py:1079\u001b[0m, in \u001b[0;36mModelSerializer.get_fields\u001b[0;34m(self)\u001b[0m\n\u001b[1;32m   1077\u001b[0m \u001b[38;5;66;03m# Retrieve metadata about fields & relationships on the model class.\u001b[39;00m\n\u001b[1;32m   1078\u001b[0m info \u001b[38;5;241m=\u001b[39m model_meta\u001b[38;5;241m.\u001b[39mget_field_info(model)\n\u001b[0;32m-> 1079\u001b[0m field_names \u001b[38;5;241m=\u001b[39m \u001b[38;5;28;43mself\u001b[39;49m\u001b[38;5;241;43m.\u001b[39;49m\u001b[43mget_field_names\u001b[49m\u001b[43m(\u001b[49m\u001b[43mdeclared_fields\u001b[49m\u001b[43m,\u001b[49m\u001b[43m \u001b[49m\u001b[43minfo\u001b[49m\u001b[43m)\u001b[49m\n\u001b[1;32m   1081\u001b[0m \u001b[38;5;66;03m# Determine any extra field arguments and hidden fields that\u001b[39;00m\n\u001b[1;32m   1082\u001b[0m \u001b[38;5;66;03m# should be included\u001b[39;00m\n\u001b[1;32m   1083\u001b[0m extra_kwargs \u001b[38;5;241m=\u001b[39m \u001b[38;5;28mself\u001b[39m\u001b[38;5;241m.\u001b[39mget_extra_kwargs()\n",
      "File \u001b[0;32m~/Django_lernings/venv/lib/python3.10/site-packages/rest_framework/serializers.py:1175\u001b[0m, in \u001b[0;36mModelSerializer.get_field_names\u001b[0;34m(self, declared_fields, info)\u001b[0m\n\u001b[1;32m   1172\u001b[0m         required_field_names \u001b[38;5;241m-\u001b[39m\u001b[38;5;241m=\u001b[39m \u001b[38;5;28mset\u001b[39m(\u001b[38;5;28mgetattr\u001b[39m(\u001b[38;5;28mcls\u001b[39m, \u001b[38;5;124m'\u001b[39m\u001b[38;5;124m_declared_fields\u001b[39m\u001b[38;5;124m'\u001b[39m, []))\n\u001b[1;32m   1174\u001b[0m     \u001b[38;5;28;01mfor\u001b[39;00m field_name \u001b[38;5;129;01min\u001b[39;00m required_field_names:\n\u001b[0;32m-> 1175\u001b[0m         \u001b[38;5;28;01massert\u001b[39;00m field_name \u001b[38;5;129;01min\u001b[39;00m fields, (\n\u001b[1;32m   1176\u001b[0m             \u001b[38;5;124m\"\u001b[39m\u001b[38;5;124mThe field \u001b[39m\u001b[38;5;124m'\u001b[39m\u001b[38;5;132;01m{field_name}\u001b[39;00m\u001b[38;5;124m'\u001b[39m\u001b[38;5;124m was declared on serializer \u001b[39m\u001b[38;5;124m\"\u001b[39m\n\u001b[1;32m   1177\u001b[0m             \u001b[38;5;124m\"\u001b[39m\u001b[38;5;132;01m{serializer_class}\u001b[39;00m\u001b[38;5;124m, but has not been included in the \u001b[39m\u001b[38;5;124m\"\u001b[39m\n\u001b[1;32m   1178\u001b[0m             \u001b[38;5;124m\"\u001b[39m\u001b[38;5;124m'\u001b[39m\u001b[38;5;124mfields\u001b[39m\u001b[38;5;124m'\u001b[39m\u001b[38;5;124m option.\u001b[39m\u001b[38;5;124m\"\u001b[39m\u001b[38;5;241m.\u001b[39mformat(\n\u001b[1;32m   1179\u001b[0m                 field_name\u001b[38;5;241m=\u001b[39mfield_name,\n\u001b[1;32m   1180\u001b[0m                 serializer_class\u001b[38;5;241m=\u001b[39m\u001b[38;5;28mself\u001b[39m\u001b[38;5;241m.\u001b[39m\u001b[38;5;18m__class__\u001b[39m\u001b[38;5;241m.\u001b[39m\u001b[38;5;18m__name__\u001b[39m\n\u001b[1;32m   1181\u001b[0m             )\n\u001b[1;32m   1182\u001b[0m         )\n\u001b[1;32m   1183\u001b[0m     \u001b[38;5;28;01mreturn\u001b[39;00m fields\n\u001b[1;32m   1185\u001b[0m \u001b[38;5;66;03m# Use the default set of field names if `Meta.fields` is not specified.\u001b[39;00m\n",
      "\u001b[0;31mAssertionError\u001b[0m: The field 'user_stats' was declared on serializer UserSerializer, but has not been included in the 'fields' option."
     ]
    }
   ],
   "source": [
    "get_user_details(1)"
   ]
  },
  {
   "cell_type": "code",
   "execution_count": null,
   "id": "e537b6e4",
   "metadata": {},
   "outputs": [],
   "source": []
  }
 ],
 "metadata": {
  "kernelspec": {
   "display_name": "Django Shell-Plus",
   "language": "python",
   "name": "django_extensions"
  },
  "language_info": {
   "codemirror_mode": {
    "name": "ipython",
    "version": 3
   },
   "file_extension": ".py",
   "mimetype": "text/x-python",
   "name": "python",
   "nbconvert_exporter": "python",
   "pygments_lexer": "ipython3",
   "version": "3.10.12"
  }
 },
 "nbformat": 4,
 "nbformat_minor": 5
}
