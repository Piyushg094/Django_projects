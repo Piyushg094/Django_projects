{
 "cells": [
  {
   "cell_type": "code",
   "execution_count": 1,
   "id": "0aa1d06d",
   "metadata": {},
   "outputs": [],
   "source": [
    "from pprint import pprint\n",
    "import os\n",
    "import django\n",
    "os.environ.setdefault('DJANGO_SETTINGS_MODULE', 'rest.settings')\n",
    "os.environ[\"DJANGO_ALLOW_ASYNC_UNSAFE\"] = \"true\""
   ]
  },
  {
   "cell_type": "code",
   "execution_count": 2,
   "id": "0db4a483",
   "metadata": {},
   "outputs": [],
   "source": [
    "from blogging_app.models import *"
   ]
  },
  {
   "cell_type": "markdown",
   "id": "716c06d3",
   "metadata": {},
   "source": [
    "Write a function get_post_details to retrieve the data for a post, this function will return a dict\n",
    "\n",
    "\n",
    "( How to use type annotations in Python )\n",
    "\n",
    "def get_post_details(post_uuid: str) -> dict : \n",
    "\n",
    "\n",
    "The dictionary returned will be containing this data: \n",
    "{\n",
    "  “uuid”:”post-uuid”,\n",
    "  “created_by”: {\n",
    "     “name”: “User’s name”,\n",
    "     “uuid”: “Users’s UUID”\n",
    "   },\n",
    "   “created_date”: “date”,\n",
    "   “likes”: 10,\n",
    "   “context”: “Post context”\n",
    "}\n",
    "\n",
    "\n",
    "\n",
    "\n",
    "\n"
   ]
  },
  {
   "cell_type": "code",
   "execution_count": 10,
   "id": "7308408f",
   "metadata": {},
   "outputs": [],
   "source": [
    "\n",
    "def get_post_details(post_id):\n",
    "    \n",
    "    try:\n",
    "        post = (\n",
    "            Post.objects\n",
    "            .select_related('user')\n",
    "            .prefetch_related('likes')\n",
    "            .get(\n",
    "                id=post_id\n",
    "            )\n",
    "        )\n",
    "    except Post.DoesNotExist:\n",
    "        return {}\n",
    "    \n",
    "    # like_count = Likes.objects.filter(post=post, liked=True).count()\n",
    "    like_count = post.likes.filter(liked=True).count()\n",
    "    \n",
    "    response_data = {\n",
    "      \"id\": post.id,\n",
    "      \"created_by\": {\n",
    "         \"name\": post.user.name,\n",
    "         \"id\": post.user.id\n",
    "       },\n",
    "       \"created_date\": post.created_at,\n",
    "       \"likes\": like_count ,\n",
    "       \"title\": post.title,\n",
    "       \"content\": post.content\n",
    "    }\n",
    "    \n",
    "    return response_data\n",
    "\n",
    "\n",
    "    \n",
    "    \n",
    "    \n",
    "    "
   ]
  },
  {
   "cell_type": "code",
   "execution_count": 54,
   "id": "66b00291",
   "metadata": {},
   "outputs": [
    {
     "data": {
      "text/plain": [
       "{'id': 1,\n",
       " 'created_by': {'name': 'PIYUSH GUPTA', 'id': 1},\n",
       " 'created_date': datetime.datetime(2024, 6, 11, 11, 31, 5, 455290, tzinfo=datetime.timezone.utc),\n",
       " 'likes': 1,\n",
       " 'title': 'vibes of nature',\n",
       " 'content': 'I am sitting on my balcony. It is spring and there is a little bit of heat in the sun. The balcony looks out over a road. The road is usually busy…'}"
      ]
     },
     "execution_count": 54,
     "metadata": {},
     "output_type": "execute_result"
    }
   ],
   "source": [
    "get_post_details(1)"
   ]
  },
  {
   "cell_type": "markdown",
   "id": "57277a98",
   "metadata": {},
   "source": [
    "\n",
    "5. Write a function get_user_details to retrieve the data for a user, this function will return a dict. This dict should have the number of posts that the user has created and number of posts that the user has liked \n",
    "\n",
    "\n",
    "def get_user_details (user_uuid: str) -> dict : \n",
    "\n",
    "\n",
    "The dictionary returned will be containing this data: \n",
    "{\n",
    "  “uuid”:”user-uuid”,\n",
    "  “name”: “User’s name”\n",
    "  “user-stats”: {\n",
    "     “liked-posts”: 10,\n",
    "     “Created-posts”: 5\n",
    "  }\n",
    "}\n",
    "\n",
    "\n",
    "\n",
    "\n"
   ]
  },
  {
   "cell_type": "code",
   "execution_count": 88,
   "id": "f7d774b0",
   "metadata": {},
   "outputs": [],
   "source": [
    "def get_user_details(user_id):\n",
    "    try:\n",
    "        user = User.objects.get(id=user_id)\n",
    "        \n",
    "        # Count the number of posts created by the user\n",
    "        post_count = Post.objects.filter(user=user).count()\n",
    "        \n",
    "        # Count the number of posts liked by the user\n",
    "        liked_post_count = Like.objects.filter(user=user, liked=True).count()\n",
    "        \n",
    "        user_details = {\n",
    "            \"user_id\":user.id,\n",
    "            \"name\": user.name,\n",
    "            \"email\": user.email,\n",
    "            \"phone\": user.phone,\n",
    "            \"user-stats\":{\n",
    "               \"post_count\": post_count,\n",
    "               \"liked_post_count\": liked_post_count,\n",
    "                }\n",
    "        }\n",
    "        \n",
    "    except User.DoesNotExist:\n",
    "        return {}\n",
    "\n",
    "    \n",
    "    return user_details\n"
   ]
  },
  {
   "cell_type": "code",
   "execution_count": 89,
   "id": "e0d3f984",
   "metadata": {},
   "outputs": [
    {
     "data": {
      "text/plain": [
       "{'user_id': 1,\n",
       " 'name': 'PIYUSH GUPTA',\n",
       " 'email': 'piyushg094@gmail.com',\n",
       " 'phone': '7049216515',\n",
       " 'user-stats': {'post_count': 1, 'liked_post_count': 1}}"
      ]
     },
     "execution_count": 89,
     "metadata": {},
     "output_type": "execute_result"
    }
   ],
   "source": [
    "get_user_details(1)"
   ]
  },
  {
   "cell_type": "code",
   "execution_count": null,
   "id": "f1411f72",
   "metadata": {},
   "outputs": [],
   "source": []
  }
 ],
 "metadata": {
  "kernelspec": {
   "display_name": "Django Shell-Plus",
   "language": "python",
   "name": "django_extensions"
  },
  "language_info": {
   "codemirror_mode": {
    "name": "ipython",
    "version": 3
   },
   "file_extension": ".py",
   "mimetype": "text/x-python",
   "name": "python",
   "nbconvert_exporter": "python",
   "pygments_lexer": "ipython3",
   "version": "3.11.7"
  }
 },
 "nbformat": 4,
 "nbformat_minor": 5
}
