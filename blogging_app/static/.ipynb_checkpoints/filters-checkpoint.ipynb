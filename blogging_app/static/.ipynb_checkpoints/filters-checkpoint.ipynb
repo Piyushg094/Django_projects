{
 "cells": [
  {
   "cell_type": "code",
   "execution_count": 1,
   "metadata": {
    "ExecuteTime": {
     "end_time": "2024-06-17T04:33:17.629961Z",
     "start_time": "2024-06-17T04:33:17.621227Z"
    }
   },
   "outputs": [],
   "source": [
    "from pprint import pprint \n",
    "import os\n",
    "import django\n",
    "\n",
    "os.environ.setdefault('DJANGO_SETTINGS_MODULE', 'E_commarce.settings')\n",
    "os.environ[\"DJANGO_ALLOW_ASYNC_UNSAFE\"] = \"true\"\n",
    "\n",
    "django.setup()"
   ]
  },
  {
   "cell_type": "markdown",
   "metadata": {},
   "source": [
    "# Django Filters module \n",
    "\n",
    "Documentation\n",
    "https://django-filter.readthedocs.io/en/stable/"
   ]
  },
  {
   "cell_type": "code",
   "execution_count": 11,
   "metadata": {},
   "outputs": [],
   "source": [
    "from blogs.models import * "
   ]
  },
  {
   "cell_type": "code",
   "execution_count": 30,
   "metadata": {},
   "outputs": [],
   "source": [
    "import json \n",
    "\n",
    "from rest_framework.request import Request\n",
    "from rest_framework.test import APIRequestFactory\n",
    "from rest_framework.parsers import JSONParser\n",
    "\n",
    "\n",
    "factory = APIRequestFactory()"
   ]
  },
  {
   "cell_type": "code",
   "execution_count": 51,
   "metadata": {},
   "outputs": [],
   "source": [
    "from django_filters.rest_framework import FilterSet, CharFilter\n",
    "\n",
    "\n",
    "class PostFilter(FilterSet):\n",
    "    \"\"\"\n",
    "    A filterset class for filtering and ordering Task records\n",
    "    \"\"\"\n",
    "\n",
    "    user = CharFilter(method='filter_with_user')\n",
    "\n",
    "    def filter_with_user(self, queryset, name, value):\n",
    "        print(\"filter_with_user method is called with ( name:\", name,\"value:\", value, \")\")\n",
    "        return queryset.filter(\n",
    "            user__id=value\n",
    "        )\n",
    "\n",
    "    class Meta:\n",
    "        model = Post\n",
    "        fields = [\n",
    "            'user',\n",
    "        ]"
   ]
  },
  {
   "cell_type": "code",
   "execution_count": 52,
   "metadata": {},
   "outputs": [
    {
     "name": "stdout",
     "output_type": "stream",
     "text": [
      "----------------------------------------------------------------------------------------------------\n",
      "JSON data sent in the request:\n",
      " {} \n",
      "\n",
      "Query Params sent in the request:\n",
      " <QueryDict: {'user': ['2']}> \n",
      "\n",
      "----------------------------------------------------------------------------------------------------\n"
     ]
    }
   ],
   "source": [
    "request_instance = Request(\n",
    "    request=factory.get(\n",
    "        path='/posts/?user=2',\n",
    "        data={},\n",
    "        format='json'\n",
    "    ),\n",
    "    parsers=[JSONParser()],\n",
    ")\n",
    "\n",
    "print(\"-\"*100)\n",
    "print(\"JSON data sent in the request:\\n\", request_instance.data, \"\\n\")\n",
    "print(\"Query Params sent in the request:\\n\",request_instance.query_params, \"\\n\")\n",
    "print(\"-\"*100)"
   ]
  },
  {
   "cell_type": "code",
   "execution_count": 53,
   "metadata": {},
   "outputs": [
    {
     "name": "stdout",
     "output_type": "stream",
     "text": [
      "filter_with_user method is called with ( name: user value: 2 )\n",
      "<QuerySet [<Post: React Hooks>]>\n"
     ]
    }
   ],
   "source": [
    "filterset = PostFilter(\n",
    "    queryset=Post.objects.all(),\n",
    "    data=request_instance.query_params,\n",
    ")\n",
    "\n",
    "filtered_qs = filterset.qs\n",
    "\n",
    "print(filtered_qs)"
   ]
  },
  {
   "cell_type": "code",
   "execution_count": 80,
   "metadata": {},
   "outputs": [],
   "source": [
    "class PostFilter(FilterSet):\n",
    "    \"\"\"\n",
    "    A filterset class for filtering and ordering Task records\n",
    "    \"\"\"\n",
    "\n",
    "    created_by = CharFilter(method='filter_with_user')\n",
    "\n",
    "    def filter_with_user(self, queryset, name, value):\n",
    "        print(\"filter_with_user method is called with ( name:\", name,\"value:\", value, \")\")\n",
    "        user_ids = value.split(',')\n",
    "        return queryset.filter(\n",
    "            user__id__in=user_ids\n",
    "        )\n",
    "\n",
    "    class Meta:\n",
    "        model = Post\n",
    "        fields = [\n",
    "            'created_by'\n",
    "        ]\n"
   ]
  },
  {
   "cell_type": "code",
   "execution_count": 81,
   "metadata": {},
   "outputs": [
    {
     "name": "stdout",
     "output_type": "stream",
     "text": [
      "----------------------------------------------------------------------------------------------------\n",
      "JSON data sent in the request:\n",
      " {} \n",
      "\n",
      "Query Params sent in the request:\n",
      " <QueryDict: {'created_by': ['1,2']}> \n",
      "\n",
      "----------------------------------------------------------------------------------------------------\n",
      "filter_with_user method is called with ( name: created_by value: 1,2 )\n",
      "<QuerySet [<Post: REST APIs>, <Post: React Hooks>]>\n"
     ]
    }
   ],
   "source": [
    "request_instance = Request(\n",
    "        request=factory.get(\n",
    "            path='/posts/?created_by=1,2',  # The created_by query param can have multiple values\n",
    "            format='json'\n",
    "        ),\n",
    "    parsers=[JSONParser()],\n",
    ")\n",
    "\n",
    "print(\"-\"*100)\n",
    "print(\"JSON data sent in the request:\\n\", request_instance.data, \"\\n\")\n",
    "print(\"Query Params sent in the request:\\n\",request_instance.query_params, \"\\n\")\n",
    "print(\"-\"*100)\n",
    "\n",
    "filterset = PostFilter(\n",
    "    queryset=Post.objects.all(),\n",
    "    data=request_instance.query_params,\n",
    ")\n",
    "\n",
    "filtered_qs = filterset.qs\n",
    "\n",
    "print(filtered_qs)"
   ]
  },
  {
   "cell_type": "code",
   "execution_count": 83,
   "metadata": {},
   "outputs": [],
   "source": [
    "class PostFilter(FilterSet):\n",
    "    \"\"\"\n",
    "    A filterset class for filtering and ordering Task records\n",
    "    \"\"\"\n",
    "\n",
    "    created_by = CharFilter(method='filter_with_user')\n",
    "    categories = CharFilter(method='filter_with_categories')\n",
    "\n",
    "    def filter_with_user(self, queryset, name, value):\n",
    "        print(\"filter_with_user method is called with ( name:\", name,\"value:\", value, \")\")\n",
    "        user_ids = value.split(',')\n",
    "        return queryset.filter(\n",
    "            user__id__in=user_ids\n",
    "        )\n",
    "    \n",
    "    def filter_with_categories(self, queryset, name, value):\n",
    "        print(\"filter_with_categories method is called with ( name:\", name,\"value:\", value, \")\")\n",
    "        category_ids = value.split(',')\n",
    "        return queryset.filter(\n",
    "            categories__id__in=category_ids\n",
    "        )\n",
    "\n",
    "    class Meta:\n",
    "        model = Post\n",
    "        fields = [\n",
    "            'created_by',\n",
    "            'categories',\n",
    "        ]"
   ]
  },
  {
   "cell_type": "code",
   "execution_count": 84,
   "metadata": {},
   "outputs": [
    {
     "name": "stdout",
     "output_type": "stream",
     "text": [
      "----------------------------------------------------------------------------------------------------\n",
      "JSON data sent in the request:\n",
      " {} \n",
      "\n",
      "Query Params sent in the request:\n",
      " <QueryDict: {'categories': ['1'], 'created_by': ['1']}> \n",
      "\n",
      "----------------------------------------------------------------------------------------------------\n",
      "filter_with_user method is called with ( name: created_by value: 1 )\n",
      "filter_with_categories method is called with ( name: categories value: 1 )\n",
      "<QuerySet [<Post: REST APIs>]>\n"
     ]
    }
   ],
   "source": [
    "request_instance = Request(\n",
    "        request=factory.get(\n",
    "            path='/posts/?categories=1&created_by=1', \n",
    "            format='json'\n",
    "        ),\n",
    "    parsers=[JSONParser()],\n",
    ")\n",
    "\n",
    "print(\"-\"*100)\n",
    "print(\"JSON data sent in the request:\\n\", request_instance.data, \"\\n\")\n",
    "print(\"Query Params sent in the request:\\n\",request_instance.query_params, \"\\n\")\n",
    "print(\"-\"*100)\n",
    "\n",
    "\n",
    "filterset = PostFilter(\n",
    "    queryset=Post.objects.all(),\n",
    "    data=request_instance.query_params,\n",
    ")\n",
    "\n",
    "filtered_qs = filterset.qs\n",
    "\n",
    "print(filtered_qs)"
   ]
  },
  {
   "cell_type": "code",
   "execution_count": 88,
   "metadata": {},
   "outputs": [],
   "source": [
    "class PostFilter(FilterSet):\n",
    "    \"\"\"\n",
    "    A filterset class for filtering and ordering Task records\n",
    "    \"\"\"\n",
    "\n",
    "    created_by = CharFilter(method='filter_with_user')\n",
    "    categories = CharFilter(method='filter_with_categories')\n",
    "    ordering = CharFilter(method='ordering_by_params')\n",
    "\n",
    "    def filter_with_user(self, queryset, name, value):\n",
    "        print(\"filter_with_user method is called with ( name:\", name,\"value:\", value, \")\")\n",
    "        user_ids = value.split(',')\n",
    "        return queryset.filter(\n",
    "            user__id__in=user_ids\n",
    "        )\n",
    "    \n",
    "    def filter_with_categories(self, queryset, name, value):\n",
    "        print(\"filter_with_categories method is called with ( name:\", name,\"value:\", value, \")\")\n",
    "        category_ids = value.split(',')\n",
    "        return queryset.filter(\n",
    "            categories__id__in=category_ids\n",
    "        )\n",
    "\n",
    "    def ordering_by_params(self, queryset, name, value):\n",
    "        print(\"ordering_by_params method is called with ( name:\", name,\"value:\", value, \")\")\n",
    "        if value:\n",
    "            ordering_list = value.split(',')\n",
    "        else:\n",
    "            ordering_list = ['id']\n",
    "        return queryset.order_by(*ordering_list)\n",
    "\n",
    "    class Meta:\n",
    "        model = Post\n",
    "        fields = [\n",
    "            'created_by',\n",
    "            'categories',\n",
    "            'ordering'\n",
    "        ]"
   ]
  },
  {
   "cell_type": "code",
   "execution_count": 90,
   "metadata": {},
   "outputs": [
    {
     "name": "stdout",
     "output_type": "stream",
     "text": [
      "----------------------------------------------------------------------------------------------------\n",
      "JSON data sent in the request:\n",
      " {} \n",
      "\n",
      "Query Params sent in the request:\n",
      " <QueryDict: {'ordering': ['-title']}> \n",
      "\n",
      "----------------------------------------------------------------------------------------------------\n",
      "ordering_by_params method is called with ( name: ordering value: -title )\n",
      "<QuerySet [<Post: React Hooks>, <Post: REST APIs>]>\n"
     ]
    }
   ],
   "source": [
    "request_instance = Request(\n",
    "        request=factory.get(\n",
    "            path='/posts/?ordering=-title', \n",
    "            format='json'\n",
    "        ),\n",
    "    parsers=[JSONParser()],\n",
    ")\n",
    "\n",
    "print(\"-\"*100)\n",
    "print(\"JSON data sent in the request:\\n\", request_instance.data, \"\\n\")\n",
    "print(\"Query Params sent in the request:\\n\",request_instance.query_params, \"\\n\")\n",
    "print(\"-\"*100)\n",
    "\n",
    "filterset = PostFilter(\n",
    "    queryset=Post.objects.all(),\n",
    "    data=request_instance.query_params,\n",
    ")\n",
    "\n",
    "filtered_qs = filterset.qs\n",
    "\n",
    "print(filtered_qs)"
   ]
  },
  {
   "cell_type": "code",
   "execution_count": null,
   "metadata": {},
   "outputs": [],
   "source": []
  }
 ],
 "metadata": {
  "kernelspec": {
   "display_name": "Django Shell-Plus",
   "language": "python",
   "name": "django_extensions"
  },
  "language_info": {
   "codemirror_mode": {
    "name": "ipython",
    "version": 3
   },
   "file_extension": ".py",
   "mimetype": "text/x-python",
   "name": "python",
   "nbconvert_exporter": "python",
   "pygments_lexer": "ipython3",
   "version": "3.10.12"
  },
  "toc": {
   "base_numbering": 1,
   "nav_menu": {},
   "number_sections": true,
   "sideBar": true,
   "skip_h1_title": false,
   "title_cell": "Table of Contents",
   "title_sidebar": "Contents",
   "toc_cell": false,
   "toc_position": {},
   "toc_section_display": true,
   "toc_window_display": false
  }
 },
 "nbformat": 4,
 "nbformat_minor": 2
}
