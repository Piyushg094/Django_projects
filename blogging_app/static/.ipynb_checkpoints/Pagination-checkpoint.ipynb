{
 "cells": [
  {
   "cell_type": "code",
   "execution_count": 28,
   "metadata": {},
   "outputs": [],
   "source": [
    "from pprint import pprint \n",
    "import os\n",
    "import django\n",
    "\n",
    "os.environ.setdefault('DJANGO_SETTINGS_MODULE', 'E_commarce.settings')\n",
    "os.environ[\"DJANGO_ALLOW_ASYNC_UNSAFE\"] = \"true\"\n",
    "\n",
    "django.setup()"
   ]
  },
  {
   "cell_type": "code",
   "execution_count": 29,
   "metadata": {},
   "outputs": [],
   "source": [
    "import json \n",
    "\n",
    "from rest_framework.request import Request\n",
    "from rest_framework.test import APIRequestFactory\n",
    "from rest_framework.parsers import JSONParser\n",
    "\n",
    "from rest_framework.serializers import ModelSerializer, DateTimeField\n",
    "\n",
    "from django_filters.rest_framework import FilterSet, CharFilter\n",
    "\n",
    "factory = APIRequestFactory()"
   ]
  },
  {
   "cell_type": "code",
   "execution_count": 30,
   "metadata": {},
   "outputs": [],
   "source": [
    "from blogging_app.models import * "
   ]
  },
  {
   "cell_type": "code",
   "execution_count": 35,
   "metadata": {},
   "outputs": [],
   "source": [
    "# Filter class \n",
    "\n",
    "class PostFilter(FilterSet):\n",
    "    \"\"\"\n",
    "    A filterset class for filtering and ordering Task records\n",
    "    \"\"\"\n",
    "\n",
    "    created_by = CharFilter(method='filter_with_user')\n",
    "    categories = CharFilter(method='filter_with_categories')\n",
    "    ordering = CharFilter(method='ordering_by_params')\n",
    "\n",
    "    def filter_with_user(self, queryset, name, value):\n",
    "        print(\"filter_with_user method is called with ( name:\", name,\"value:\", value, \")\")\n",
    "        user_ids = value.split(',')\n",
    "        return queryset.filter(\n",
    "            user__id__in=user_ids\n",
    "        )\n",
    "    \n",
    "    def filter_with_categories(self, queryset, name, value):\n",
    "        print(\"filter_with_categories method is called with ( name:\", name,\"value:\", value, \")\")\n",
    "        category_ids = value.split(',')\n",
    "        return queryset.filter(\n",
    "            categorry__id__in=category_ids\n",
    "        )\n",
    "\n",
    "    def ordering_by_params(self, queryset, name, value):\n",
    "        print(\"ordering_by_params method is called with ( name:\", name,\"value:\", value, \")\")\n",
    "        if value:\n",
    "            ordering_list = value.split(',')\n",
    "        else:\n",
    "            ordering_list = ['id']\n",
    "        return queryset.order_by(*ordering_list)\n",
    "\n",
    "    class Meta:\n",
    "        model = Post\n",
    "        fields = [\n",
    "            'created_by',\n",
    "            'categories',\n",
    "            'ordering'\n",
    "        ]"
   ]
  },
  {
   "cell_type": "code",
   "execution_count": 36,
   "metadata": {},
   "outputs": [],
   "source": [
    "# Serializers \n",
    "\n",
    "class UserSerializer(ModelSerializer):\n",
    "\n",
    "    class Meta:\n",
    "        model = User\n",
    "        fields = ( \"id\", \"name\", \"email\" )\n",
    "\n",
    "class PostCategorySerializer(ModelSerializer):\n",
    "\n",
    "    class Meta:\n",
    "        model = PostCategory\n",
    "        fields = ( \"__all__\" )\n",
    "        \n",
    "class PostSerializer(ModelSerializer):\n",
    "\n",
    "    category = PostCategorySerializer(many=True)\n",
    "    user = UserSerializer()\n",
    "    created_at = DateTimeField(format=\"%-d %B %Y, %A, %-I:%-M %p\")\n",
    "\n",
    "    class Meta:\n",
    "        model = Post\n",
    "        fields = ( \"__all__\" )"
   ]
  },
  {
   "cell_type": "markdown",
   "metadata": {},
   "source": [
    "# Pagination\n",
    "\n",
    "https://www.django-rest-framework.org/api-guide/pagination/"
   ]
  },
  {
   "cell_type": "code",
   "execution_count": 37,
   "metadata": {},
   "outputs": [],
   "source": [
    "from rest_framework.pagination import PageNumberPagination\n",
    "from rest_framework.response import Response\n",
    "\n",
    "\n",
    "class PostPagination(PageNumberPagination):\n",
    "    page_size = 5\n",
    "    page_size_query_param = 'page_size'\n",
    "    max_page_size = 50\n",
    "    page_query_param = 'page'\n",
    "\n",
    "    def get_paginated_response(self, data, message=None):\n",
    "        response_dict = {\n",
    "            \"page_info\": {\n",
    "                \"result_count\": self.page.paginator.count,\n",
    "                \"page_size\": self.page_size,\n",
    "                \"page_count\": self.page.paginator.num_pages,\n",
    "                \"page\": self.page.number,\n",
    "                \"next\": self.get_next_link(),\n",
    "                \"previous\": self.get_previous_link(),\n",
    "            },\n",
    "            \"data\": data\n",
    "        }\n",
    "        if message:\n",
    "            response_dict['message'] = message\n",
    "        return Response(response_dict)"
   ]
  },
  {
   "cell_type": "code",
   "execution_count": 38,
   "metadata": {},
   "outputs": [
    {
     "name": "stdout",
     "output_type": "stream",
     "text": [
      "----------------------------------------------------------------------------------------------------\n",
      "JSON data sent in the request:\n",
      " {} \n",
      "\n",
      "Query Params sent in the request:\n",
      " <QueryDict: {'page': ['1']}> \n",
      "\n",
      "----------------------------------------------------------------------------------------------------\n",
      "<QuerySet [<Post: vibes of nature>, <Post: A Simple Black & White Outfit>, <Post: Amaravati will be Andhra capital, no ‘3-capitals’>, <Post: Cycling Across Morocco, From the High Atlas to the>, <Post: Avocado Caesar Green Beans>, <Post: Atlas to the>, <Post: White Outfit>, <Post: capital, no ‘3-capitals’>, <Post: Avocado Caesar>, <Post: rrg rggetlas to the>]>\n"
     ]
    }
   ],
   "source": [
    "request_instance = Request(\n",
    "        request=factory.get(\n",
    "            path='/posts/?page=1', \n",
    "            format='json'\n",
    "        ),\n",
    "    parsers=[JSONParser()],\n",
    ")\n",
    "\n",
    "print(\"-\"*100)\n",
    "print(\"JSON data sent in the request:\\n\", request_instance.data, \"\\n\")\n",
    "print(\"Query Params sent in the request:\\n\",request_instance.query_params, \"\\n\")\n",
    "print(\"-\"*100)\n",
    "\n",
    "filterset = PostFilter(\n",
    "    queryset=Post.objects.all(),\n",
    "    data=request_instance.query_params,\n",
    ")\n",
    "\n",
    "filtered_qs = filterset.qs\n",
    "\n",
    "print(filtered_qs)"
   ]
  },
  {
   "cell_type": "code",
   "execution_count": 25,
   "metadata": {},
   "outputs": [
    {
     "data": {
      "text/plain": [
       "[<Post: vibes of nature>,\n",
       " <Post: A Simple Black & White Outfit>,\n",
       " <Post: Amaravati will be Andhra capital, no ‘3-capitals’>,\n",
       " <Post: Cycling Across Morocco, From the High Atlas to the>,\n",
       " <Post: Avocado Caesar Green Beans>]"
      ]
     },
     "execution_count": 25,
     "metadata": {},
     "output_type": "execute_result"
    }
   ],
   "source": [
    "paginator = PostPagination()\n",
    "\n",
    "paginated_qs = paginator.paginate_queryset(\n",
    "    queryset=filtered_qs,\n",
    "    request=request_instance\n",
    ")\n",
    "\n",
    "paginated_qs"
   ]
  },
  {
   "cell_type": "code",
   "execution_count": 26,
   "metadata": {},
   "outputs": [
    {
     "data": {
      "text/plain": [
       "[{'id': 1, 'category': [], 'user': {'id': 1, 'name': 'PIYUSH GUPTA', 'email': 'piyushg094@gmail.com'}, 'created_at': '11 June 2024, Tuesday, 11:31 AM', 'content': 'I am sitting on my balcony. It is spring and there is a little bit of heat in the sun. The balcony looks out over a road. The road is usually busy…', 'title': 'vibes of nature'}, {'id': 2, 'category': [], 'user': {'id': 4, 'name': 'ashwin', 'email': 'ashwin@gmail.com'}, 'created_at': '11 June 2024, Tuesday, 11:45 AM', 'content': 'don’t know about you guys, but this ‘80s baby is very happy that skorts made such a comeback in the last year. I grew up wearing skorts and loved how versatile they were, and that love hasn’t changed', 'title': 'A Simple Black & White Outfit'}, {'id': 3, 'category': [], 'user': {'id': 2, 'name': 'ayush', 'email': 'ayush@gmail.com'}, 'created_at': '11 June 2024, Tuesday, 11:46 AM', 'content': 'A day before taking oath as Andhra Pradesh Chief Minister, Telugu Desam Party chief N Chandrababu Naidu said on Tuesday that Amaravati would be the state capital', 'title': 'Amaravati will be Andhra capital, no ‘3-capitals’'}, {'id': 4, 'category': [], 'user': {'id': 3, 'name': 'raja', 'email': 'raja@gmail.com'}, 'created_at': '11 June 2024, Tuesday, 11:47 AM', 'content': 'On an early winter morning, I geared up to pedal 64 km from Ifrane – Morocco’s only Alpine ski town – to Midelt, at the edge of the Sahara Desert. Despite wearing several layers, I could barely feel m', 'title': 'Cycling Across Morocco, From the High Atlas to the'}, {'id': 5, 'category': [], 'user': {'id': 5, 'name': 'gopal', 'email': 'gopal@gmail.com'}, 'created_at': '11 June 2024, Tuesday, 11:48 AM', 'content': 'Grab a bag of green beans, blitz up a quick avocado caesar, toast some panko, and let’s go! This is some type of magic.', 'title': 'Avocado Caesar Green Beans'}]"
      ]
     },
     "execution_count": 26,
     "metadata": {},
     "output_type": "execute_result"
    }
   ],
   "source": [
    "serialized_data = PostSerializer(instance=paginated_qs,  many=True).data\n",
    "\n",
    "serialized_data"
   ]
  },
  {
   "cell_type": "code",
   "execution_count": 27,
   "metadata": {},
   "outputs": [
    {
     "data": {
      "text/plain": [
       "{'page_info': {'result_count': 10, 'page_size': 5, 'page_count': 2, 'page': 1},\n",
       " 'data': [{'id': 1, 'category': [], 'user': {'id': 1, 'name': 'PIYUSH GUPTA', 'email': 'piyushg094@gmail.com'}, 'created_at': '11 June 2024, Tuesday, 11:31 AM', 'content': 'I am sitting on my balcony. It is spring and there is a little bit of heat in the sun. The balcony looks out over a road. The road is usually busy…', 'title': 'vibes of nature'}, {'id': 2, 'category': [], 'user': {'id': 4, 'name': 'ashwin', 'email': 'ashwin@gmail.com'}, 'created_at': '11 June 2024, Tuesday, 11:45 AM', 'content': 'don’t know about you guys, but this ‘80s baby is very happy that skorts made such a comeback in the last year. I grew up wearing skorts and loved how versatile they were, and that love hasn’t changed', 'title': 'A Simple Black & White Outfit'}, {'id': 3, 'category': [], 'user': {'id': 2, 'name': 'ayush', 'email': 'ayush@gmail.com'}, 'created_at': '11 June 2024, Tuesday, 11:46 AM', 'content': 'A day before taking oath as Andhra Pradesh Chief Minister, Telugu Desam Party chief N Chandrababu Naidu said on Tuesday that Amaravati would be the state capital', 'title': 'Amaravati will be Andhra capital, no ‘3-capitals’'}, {'id': 4, 'category': [], 'user': {'id': 3, 'name': 'raja', 'email': 'raja@gmail.com'}, 'created_at': '11 June 2024, Tuesday, 11:47 AM', 'content': 'On an early winter morning, I geared up to pedal 64 km from Ifrane – Morocco’s only Alpine ski town – to Midelt, at the edge of the Sahara Desert. Despite wearing several layers, I could barely feel m', 'title': 'Cycling Across Morocco, From the High Atlas to the'}, {'id': 5, 'category': [], 'user': {'id': 5, 'name': 'gopal', 'email': 'gopal@gmail.com'}, 'created_at': '11 June 2024, Tuesday, 11:48 AM', 'content': 'Grab a bag of green beans, blitz up a quick avocado caesar, toast some panko, and let’s go! This is some type of magic.', 'title': 'Avocado Caesar Green Beans'}],\n",
       " 'message': 'List of post records.'}"
      ]
     },
     "execution_count": 27,
     "metadata": {},
     "output_type": "execute_result"
    }
   ],
   "source": [
    "paginated_response = paginator.get_paginated_response(\n",
    "    message=\"List of post records.\",\n",
    "    data=serialized_data,\n",
    ")\n",
    "\n",
    "paginated_response.data"
   ]
  },
  {
   "cell_type": "code",
   "execution_count": null,
   "metadata": {},
   "outputs": [],
   "source": []
  }
 ],
 "metadata": {
  "kernelspec": {
   "display_name": "Django Shell-Plus",
   "language": "python",
   "name": "django_extensions"
  },
  "language_info": {
   "codemirror_mode": {
    "name": "ipython",
    "version": 3
   },
   "file_extension": ".py",
   "mimetype": "text/x-python",
   "name": "python",
   "nbconvert_exporter": "python",
   "pygments_lexer": "ipython3",
   "version": "3.10.12"
  }
 },
 "nbformat": 4,
 "nbformat_minor": 2
}
