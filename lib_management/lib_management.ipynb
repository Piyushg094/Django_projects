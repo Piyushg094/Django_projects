{
 "cells": [
  {
   "cell_type": "code",
   "execution_count": 1,
   "id": "7bc75a2b",
   "metadata": {},
   "outputs": [],
   "source": [
    "from pprint import pprint\n",
    "import os\n",
    "import django\n",
    "os.environ.setdefault('DJANGO_SETTINGS_MODULE', 'rest.settings')\n",
    "os.environ[\"DJANGO_ALLOW_ASYNC_UNSAFE\"] = \"true\"\n"
   ]
  },
  {
   "cell_type": "code",
   "execution_count": 1,
   "id": "2eb9b682",
   "metadata": {},
   "outputs": [
    {
     "ename": "ImproperlyConfigured",
     "evalue": "Requested setting INSTALLED_APPS, but settings are not configured. You must either define the environment variable DJANGO_SETTINGS_MODULE or call settings.configure() before accessing settings.",
     "output_type": "error",
     "traceback": [
      "\u001b[0;31m---------------------------------------------------------------------------\u001b[0m",
      "\u001b[0;31mImproperlyConfigured\u001b[0m                      Traceback (most recent call last)",
      "Cell \u001b[0;32mIn[1], line 1\u001b[0m\n\u001b[0;32m----> 1\u001b[0m \u001b[38;5;28;01mfrom\u001b[39;00m \u001b[38;5;21;01mlib_management\u001b[39;00m\u001b[38;5;21;01m.\u001b[39;00m\u001b[38;5;21;01mmodels\u001b[39;00m \u001b[38;5;28;01mimport\u001b[39;00m Profile\n",
      "File \u001b[0;32m~/Django_lernings/E_commarce/lib_management/models.py:5\u001b[0m\n\u001b[1;32m      2\u001b[0m \u001b[38;5;28;01mimport\u001b[39;00m \u001b[38;5;21;01muuid\u001b[39;00m\n\u001b[1;32m      4\u001b[0m \u001b[38;5;66;03m# Create your models here.\u001b[39;00m\n\u001b[0;32m----> 5\u001b[0m \u001b[38;5;28;01mclass\u001b[39;00m \u001b[38;5;21;01mBaseModel\u001b[39;00m(models\u001b[38;5;241m.\u001b[39mModel):\n\u001b[1;32m      6\u001b[0m     uid \u001b[38;5;241m=\u001b[39m models\u001b[38;5;241m.\u001b[39mUUIDField(primary_key\u001b[38;5;241m=\u001b[39m\u001b[38;5;28;01mTrue\u001b[39;00m, editable\u001b[38;5;241m=\u001b[39m\u001b[38;5;28;01mFalse\u001b[39;00m, default\u001b[38;5;241m=\u001b[39muuid\u001b[38;5;241m.\u001b[39muuid4)\n\u001b[1;32m      7\u001b[0m     created_at \u001b[38;5;241m=\u001b[39m models\u001b[38;5;241m.\u001b[39mDateTimeField(auto_now_add\u001b[38;5;241m=\u001b[39m\u001b[38;5;28;01mTrue\u001b[39;00m)\n",
      "File \u001b[0;32m~/Django_lernings/venv/lib/python3.10/site-packages/django/db/models/base.py:129\u001b[0m, in \u001b[0;36mModelBase.__new__\u001b[0;34m(cls, name, bases, attrs, **kwargs)\u001b[0m\n\u001b[1;32m    126\u001b[0m app_label \u001b[38;5;241m=\u001b[39m \u001b[38;5;28;01mNone\u001b[39;00m\n\u001b[1;32m    128\u001b[0m \u001b[38;5;66;03m# Look for an application configuration to attach the model to.\u001b[39;00m\n\u001b[0;32m--> 129\u001b[0m app_config \u001b[38;5;241m=\u001b[39m \u001b[43mapps\u001b[49m\u001b[38;5;241;43m.\u001b[39;49m\u001b[43mget_containing_app_config\u001b[49m\u001b[43m(\u001b[49m\u001b[43mmodule\u001b[49m\u001b[43m)\u001b[49m\n\u001b[1;32m    131\u001b[0m \u001b[38;5;28;01mif\u001b[39;00m \u001b[38;5;28mgetattr\u001b[39m(meta, \u001b[38;5;124m\"\u001b[39m\u001b[38;5;124mapp_label\u001b[39m\u001b[38;5;124m\"\u001b[39m, \u001b[38;5;28;01mNone\u001b[39;00m) \u001b[38;5;129;01mis\u001b[39;00m \u001b[38;5;28;01mNone\u001b[39;00m:\n\u001b[1;32m    132\u001b[0m     \u001b[38;5;28;01mif\u001b[39;00m app_config \u001b[38;5;129;01mis\u001b[39;00m \u001b[38;5;28;01mNone\u001b[39;00m:\n",
      "File \u001b[0;32m~/Django_lernings/venv/lib/python3.10/site-packages/django/apps/registry.py:260\u001b[0m, in \u001b[0;36mApps.get_containing_app_config\u001b[0;34m(self, object_name)\u001b[0m\n\u001b[1;32m    251\u001b[0m \u001b[38;5;28;01mdef\u001b[39;00m \u001b[38;5;21mget_containing_app_config\u001b[39m(\u001b[38;5;28mself\u001b[39m, object_name):\n\u001b[1;32m    252\u001b[0m \u001b[38;5;250m    \u001b[39m\u001b[38;5;124;03m\"\"\"\u001b[39;00m\n\u001b[1;32m    253\u001b[0m \u001b[38;5;124;03m    Look for an app config containing a given object.\u001b[39;00m\n\u001b[1;32m    254\u001b[0m \n\u001b[0;32m   (...)\u001b[0m\n\u001b[1;32m    258\u001b[0m \u001b[38;5;124;03m    Return None if the object isn't in any registered app config.\u001b[39;00m\n\u001b[1;32m    259\u001b[0m \u001b[38;5;124;03m    \"\"\"\u001b[39;00m\n\u001b[0;32m--> 260\u001b[0m     \u001b[38;5;28;43mself\u001b[39;49m\u001b[38;5;241;43m.\u001b[39;49m\u001b[43mcheck_apps_ready\u001b[49m\u001b[43m(\u001b[49m\u001b[43m)\u001b[49m\n\u001b[1;32m    261\u001b[0m     candidates \u001b[38;5;241m=\u001b[39m []\n\u001b[1;32m    262\u001b[0m     \u001b[38;5;28;01mfor\u001b[39;00m app_config \u001b[38;5;129;01min\u001b[39;00m \u001b[38;5;28mself\u001b[39m\u001b[38;5;241m.\u001b[39mapp_configs\u001b[38;5;241m.\u001b[39mvalues():\n",
      "File \u001b[0;32m~/Django_lernings/venv/lib/python3.10/site-packages/django/apps/registry.py:137\u001b[0m, in \u001b[0;36mApps.check_apps_ready\u001b[0;34m(self)\u001b[0m\n\u001b[1;32m    132\u001b[0m \u001b[38;5;28;01mfrom\u001b[39;00m \u001b[38;5;21;01mdjango\u001b[39;00m\u001b[38;5;21;01m.\u001b[39;00m\u001b[38;5;21;01mconf\u001b[39;00m \u001b[38;5;28;01mimport\u001b[39;00m settings\n\u001b[1;32m    134\u001b[0m \u001b[38;5;66;03m# If \"not ready\" is due to unconfigured settings, accessing\u001b[39;00m\n\u001b[1;32m    135\u001b[0m \u001b[38;5;66;03m# INSTALLED_APPS raises a more helpful ImproperlyConfigured\u001b[39;00m\n\u001b[1;32m    136\u001b[0m \u001b[38;5;66;03m# exception.\u001b[39;00m\n\u001b[0;32m--> 137\u001b[0m \u001b[43msettings\u001b[49m\u001b[38;5;241;43m.\u001b[39;49m\u001b[43mINSTALLED_APPS\u001b[49m\n\u001b[1;32m    138\u001b[0m \u001b[38;5;28;01mraise\u001b[39;00m AppRegistryNotReady(\u001b[38;5;124m\"\u001b[39m\u001b[38;5;124mApps aren\u001b[39m\u001b[38;5;124m'\u001b[39m\u001b[38;5;124mt loaded yet.\u001b[39m\u001b[38;5;124m\"\u001b[39m)\n",
      "File \u001b[0;32m~/Django_lernings/venv/lib/python3.10/site-packages/django/conf/__init__.py:89\u001b[0m, in \u001b[0;36mLazySettings.__getattr__\u001b[0;34m(self, name)\u001b[0m\n\u001b[1;32m     87\u001b[0m \u001b[38;5;250m\u001b[39m\u001b[38;5;124;03m\"\"\"Return the value of a setting and cache it in self.__dict__.\"\"\"\u001b[39;00m\n\u001b[1;32m     88\u001b[0m \u001b[38;5;28;01mif\u001b[39;00m (_wrapped \u001b[38;5;241m:=\u001b[39m \u001b[38;5;28mself\u001b[39m\u001b[38;5;241m.\u001b[39m_wrapped) \u001b[38;5;129;01mis\u001b[39;00m empty:\n\u001b[0;32m---> 89\u001b[0m     \u001b[38;5;28;43mself\u001b[39;49m\u001b[38;5;241;43m.\u001b[39;49m\u001b[43m_setup\u001b[49m\u001b[43m(\u001b[49m\u001b[43mname\u001b[49m\u001b[43m)\u001b[49m\n\u001b[1;32m     90\u001b[0m     _wrapped \u001b[38;5;241m=\u001b[39m \u001b[38;5;28mself\u001b[39m\u001b[38;5;241m.\u001b[39m_wrapped\n\u001b[1;32m     91\u001b[0m val \u001b[38;5;241m=\u001b[39m \u001b[38;5;28mgetattr\u001b[39m(_wrapped, name)\n",
      "File \u001b[0;32m~/Django_lernings/venv/lib/python3.10/site-packages/django/conf/__init__.py:69\u001b[0m, in \u001b[0;36mLazySettings._setup\u001b[0;34m(self, name)\u001b[0m\n\u001b[1;32m     67\u001b[0m \u001b[38;5;28;01mif\u001b[39;00m \u001b[38;5;129;01mnot\u001b[39;00m settings_module:\n\u001b[1;32m     68\u001b[0m     desc \u001b[38;5;241m=\u001b[39m (\u001b[38;5;124m\"\u001b[39m\u001b[38;5;124msetting \u001b[39m\u001b[38;5;132;01m%s\u001b[39;00m\u001b[38;5;124m\"\u001b[39m \u001b[38;5;241m%\u001b[39m name) \u001b[38;5;28;01mif\u001b[39;00m name \u001b[38;5;28;01melse\u001b[39;00m \u001b[38;5;124m\"\u001b[39m\u001b[38;5;124msettings\u001b[39m\u001b[38;5;124m\"\u001b[39m\n\u001b[0;32m---> 69\u001b[0m     \u001b[38;5;28;01mraise\u001b[39;00m ImproperlyConfigured(\n\u001b[1;32m     70\u001b[0m         \u001b[38;5;124m\"\u001b[39m\u001b[38;5;124mRequested \u001b[39m\u001b[38;5;132;01m%s\u001b[39;00m\u001b[38;5;124m, but settings are not configured. \u001b[39m\u001b[38;5;124m\"\u001b[39m\n\u001b[1;32m     71\u001b[0m         \u001b[38;5;124m\"\u001b[39m\u001b[38;5;124mYou must either define the environment variable \u001b[39m\u001b[38;5;132;01m%s\u001b[39;00m\u001b[38;5;124m \u001b[39m\u001b[38;5;124m\"\u001b[39m\n\u001b[1;32m     72\u001b[0m         \u001b[38;5;124m\"\u001b[39m\u001b[38;5;124mor call settings.configure() before accessing settings.\u001b[39m\u001b[38;5;124m\"\u001b[39m\n\u001b[1;32m     73\u001b[0m         \u001b[38;5;241m%\u001b[39m (desc, ENVIRONMENT_VARIABLE)\n\u001b[1;32m     74\u001b[0m     )\n\u001b[1;32m     76\u001b[0m \u001b[38;5;28mself\u001b[39m\u001b[38;5;241m.\u001b[39m_wrapped \u001b[38;5;241m=\u001b[39m Settings(settings_module)\n",
      "\u001b[0;31mImproperlyConfigured\u001b[0m: Requested setting INSTALLED_APPS, but settings are not configured. You must either define the environment variable DJANGO_SETTINGS_MODULE or call settings.configure() before accessing settings."
     ]
    }
   ],
   "source": [
    "from lib_management.models import Profile"
   ]
  },
  {
   "cell_type": "code",
   "execution_count": 3,
   "id": "22ce2015",
   "metadata": {},
   "outputs": [],
   "source": [
    "obj=Profile.objects.all()"
   ]
  },
  {
   "cell_type": "code",
   "execution_count": 4,
   "id": "d3c55f44",
   "metadata": {},
   "outputs": [
    {
     "data": {
      "text/plain": [
       "<QuerySet [<Profile: PIYUSH GUPTA>, <Profile: ayush>, <Profile: raja>]>"
      ]
     },
     "execution_count": 4,
     "metadata": {},
     "output_type": "execute_result"
    }
   ],
   "source": [
    "obj"
   ]
  },
  {
   "cell_type": "code",
   "execution_count": 5,
   "id": "7ea48fc2",
   "metadata": {},
   "outputs": [
    {
     "data": {
      "text/plain": [
       "<QuerySet [<Profile: ayush>, <Profile: raja>]>"
      ]
     },
     "execution_count": 5,
     "metadata": {},
     "output_type": "execute_result"
    }
   ],
   "source": [
    "obj.filter(roles='user')"
   ]
  },
  {
   "cell_type": "code",
   "execution_count": 6,
   "id": "6ecff56b",
   "metadata": {},
   "outputs": [
    {
     "data": {
      "text/plain": [
       "<Profile: ayush>"
      ]
     },
     "execution_count": 6,
     "metadata": {},
     "output_type": "execute_result"
    }
   ],
   "source": [
    "obj.filter(roles='user').first()"
   ]
  },
  {
   "cell_type": "code",
   "execution_count": 7,
   "id": "7615026f",
   "metadata": {},
   "outputs": [
    {
     "data": {
      "text/plain": [
       "<Profile: raja>"
      ]
     },
     "execution_count": 7,
     "metadata": {},
     "output_type": "execute_result"
    }
   ],
   "source": [
    "obj.filter(roles='user')[1]"
   ]
  },
  {
   "cell_type": "code",
   "execution_count": 71,
   "id": "deba2e81",
   "metadata": {},
   "outputs": [
    {
     "name": "stdout",
     "output_type": "stream",
     "text": [
      "f2ec7f88-8bd3-432a-bb79-270199c3633c jai shree ram\n",
      "887965a4-1b63-425b-8d57-c169b9dead82 wings of fire\n",
      "a78cf42a-04ac-4948-8b11-ce75a1b36ab2 why this kolabary\n",
      "c44aa409-f457-44cb-9252-80c9448cb33d jai-ho\n",
      "5cf679a5-f107-4e23-8967-a8f1fa7ad674 veer tum bade chalo\n",
      "273acad8-b5af-44db-bbd0-0a6421becf05 bade chalo\n",
      "d6bfeb9d-982d-43b4-b4ed-048e3dce78b7 see-you-again\n"
     ]
    },
    {
     "data": {
      "text/plain": [
       "<BookDetail: why this kolabary>"
      ]
     },
     "execution_count": 71,
     "metadata": {},
     "output_type": "execute_result"
    }
   ],
   "source": [
    "obj=BookDetail.objects.all()\n",
    "for a in obj:\n",
    "    print(a.uid,a.name) \n",
    "    \n",
    "    \n",
    "BookDetail.objects.get(uid=\"a78cf42a-04ac-4948-8b11-ce75a1b36ab2\")    "
   ]
  },
  {
   "cell_type": "code",
   "execution_count": 41,
   "id": "8ff3fa99",
   "metadata": {},
   "outputs": [
    {
     "ename": "AttributeError",
     "evalue": "'BookDetail' object has no attribute 'id'",
     "output_type": "error",
     "traceback": [
      "\u001b[0;31m---------------------------------------------------------------------------\u001b[0m",
      "\u001b[0;31mAttributeError\u001b[0m                            Traceback (most recent call last)",
      "Cell \u001b[0;32mIn[41], line 1\u001b[0m\n\u001b[0;32m----> 1\u001b[0m \u001b[43mobj\u001b[49m\u001b[43m[\u001b[49m\u001b[38;5;241;43m0\u001b[39;49m\u001b[43m]\u001b[49m\u001b[38;5;241;43m.\u001b[39;49m\u001b[43mid\u001b[49m\n",
      "\u001b[0;31mAttributeError\u001b[0m: 'BookDetail' object has no attribute 'id'"
     ]
    }
   ],
   "source": [
    "obj[0].id"
   ]
  },
  {
   "cell_type": "code",
   "execution_count": null,
   "id": "6465a90e",
   "metadata": {},
   "outputs": [],
   "source": [
    "Task: 1\n",
    "\n",
    "Creat a Book-Detail-Handler class which will have these functions: \n",
    "\n",
    "create-book-detail(data: dictionary)\n",
    "Data = {\n",
    "   “name”=\"jai-ho\"\n",
    "   “authors”=[\"raja\",\"ayush\"]\n",
    "}\n"
   ]
  },
  {
   "cell_type": "code",
   "execution_count": null,
   "id": "28f16f55",
   "metadata": {},
   "outputs": [],
   "source": []
  },
  {
   "cell_type": "code",
   "execution_count": 65,
   "id": "0bd3a605",
   "metadata": {},
   "outputs": [],
   "source": [
    "class Book_Detail_Handler:\n",
    "    \n",
    "    @staticmethod\n",
    "    def create_book_details(data):\n",
    "        try:\n",
    "            # Validate data\n",
    "            if not data.get('name') or not data.get('authors'):\n",
    "                return {\"message\": \"data is missing\"}\n",
    "\n",
    "            # Create the BookDetail\n",
    "            book_details = BookDetail.objects.create(name=data['name'])\n",
    "\n",
    "            # Create or get Author instances and add to the book\n",
    "            for author_name in data['authors']:\n",
    "                author, created = Author.objects.get_or_create(name=author_name)\n",
    "                book_details.authors.add(author)\n",
    "\n",
    "            return {\"message\": \"Book details saved successfully\",\n",
    "                     \"data\": data}\n",
    "\n",
    "        except Exception as e:\n",
    "            return {\"message\": str(e)}\n",
    "      \n",
    "    \n",
    "    @staticmethod\n",
    "    def update_book_detail(book_id, data):\n",
    "        try:\n",
    "            if not data.get('name') or not data.get('authors') or not book_id:\n",
    "                return {\"message\": \"data is missing\"}\n",
    "            \n",
    "            # Find the book record based on book_id\n",
    "            book_update = BookDetail.objects.get(uid=book_id)\n",
    "            book_update.name = data['name']\n",
    "            book_update.save()  # Save the name update first\n",
    "            \n",
    "            # Clear existing authors\n",
    "            book_update.authors.clear()\n",
    "            \n",
    "            # Add new authors\n",
    "            for author_name in data['authors']:\n",
    "                author, created = Author.objects.get_or_create(name=author_name)\n",
    "                book_update.authors.add(author)\n",
    "            \n",
    "            return {\"message\": \"Book details updated successfully\",\n",
    "                    \"data\" : data\n",
    "                   }\n",
    "\n",
    "\n",
    "        except Exception as e:\n",
    "            return {\"message\": str(e)}\n",
    "            \n",
    "     \n",
    "    \n",
    "    @staticmethod\n",
    "    def retrieve_book_detail(book_id):\n",
    "        try:\n",
    "            if not book_id:\n",
    "                return {\"message\": \"book_id is missing\"}\n",
    "            \n",
    "            #retrive the book details based on book_id\n",
    "            book_retrive=BookDetail.objects.get(uid=book_id)\n",
    "            \n",
    "            authors=[]\n",
    "            for auth in book_retrive.authors.all():\n",
    "                authors.append(auth.name)\n",
    "                \n",
    "                \n",
    "            response={\n",
    "                \"name\":book_retrive.name,\n",
    "                \"authors\":authors,\n",
    "            }\n",
    "            \n",
    "            return {\"message\": \"Book details retrive Successfully\",\n",
    "                     \"data\": response\n",
    "                   }\n",
    "        except Exception as e:\n",
    "            return {\"message\": str(e)}\n",
    "                \n",
    "            \n",
    "            \n",
    "    @staticmethod        \n",
    "    def delete_book_detail(book_id):\n",
    "        try:\n",
    "            if not book_id:\n",
    "                return {\"message\": \"book_id is missing\"}\n",
    "            \n",
    "            #delete book details based on uid\n",
    "            book_delete=BookDetail.objects.get(uid=book_id)\n",
    "            \n",
    "            authors = [auth.name for auth in book_delete.authors.all()]\n",
    "                \n",
    "                \n",
    "            response={\n",
    "                \"name\":book_delete.name,\n",
    "                \"authors\":authors,\n",
    "            }\n",
    "            \n",
    "            book_delete.delete()\n",
    "            \n",
    "            return {\"message\": \"Book details deleted Successfully\",\n",
    "                     \"data\": response\n",
    "                   }\n",
    "        \n",
    "        \n",
    "        except Exception as e:\n",
    "            return {\"message\": str(e)}\n",
    "        \n",
    "        \n",
    "        \n"
   ]
  },
  {
   "cell_type": "code",
   "execution_count": 69,
   "id": "63ee9803",
   "metadata": {},
   "outputs": [
    {
     "name": "stdout",
     "output_type": "stream",
     "text": [
      "{'message': 'Book details saved successfully', 'data': {'name': 'see-you-again', 'authors': ['ayush', 'charli', 'chirag']}}\n"
     ]
    }
   ],
   "source": [
    "data = {\n",
    "    \"name\": \"see-you-again\",\n",
    "    \"authors\": [\"ayush\",\"charli\",\"chirag\"]\n",
    "}\n",
    "\n",
    "\n",
    "\n",
    "response = Book_Detail_Handler.create_book_details(data)\n",
    "print(response)"
   ]
  },
  {
   "cell_type": "code",
   "execution_count": 68,
   "id": "081a72dd",
   "metadata": {},
   "outputs": [
    {
     "name": "stdout",
     "output_type": "stream",
     "text": [
      "{'message': 'BookDetail matching query does not exist.'}\n"
     ]
    }
   ],
   "source": [
    "data = {\n",
    "    \"name\": \"see-you-again\",\n",
    "    \"authors\": [\"ayush\",\"charli\",\"chirag\"]\n",
    "}\n",
    "id = '319e20f7-e84c-493f-8b48-79936c6f7734'  \n",
    "response = Book_Detail_Handler.update_book_detail(id, data)\n",
    "print(response)"
   ]
  },
  {
   "cell_type": "code",
   "execution_count": 67,
   "id": "a5cc832e",
   "metadata": {},
   "outputs": [
    {
     "name": "stdout",
     "output_type": "stream",
     "text": [
      "{'message': 'BookDetail matching query does not exist.'}\n"
     ]
    }
   ],
   "source": [
    "id = '319e20f7-e84c-493f-8b48-79936c6f7734'\n",
    "response=Book_Detail_Handler.retrieve_book_detail(id)\n",
    "print(response)"
   ]
  },
  {
   "cell_type": "code",
   "execution_count": 72,
   "id": "c1d4239e",
   "metadata": {},
   "outputs": [
    {
     "name": "stdout",
     "output_type": "stream",
     "text": [
      "{'message': 'Book details deleted Successfully', 'data': {'name': 'jai-ho', 'authors': ['raja', 'ayush']}}\n"
     ]
    }
   ],
   "source": [
    "id = 'c44aa409-f457-44cb-9252-80c9448cb33d'\n",
    "response=Book_Detail_Handler.delete_book_detail(id)\n",
    "print(response)"
   ]
  },
  {
   "cell_type": "code",
   "execution_count": null,
   "id": "0321fb69",
   "metadata": {},
   "outputs": [],
   "source": []
  }
 ],
 "metadata": {
  "kernelspec": {
   "display_name": "Django Shell-Plus",
   "language": "python",
   "name": "django_extensions"
  },
  "language_info": {
   "codemirror_mode": {
    "name": "ipython",
    "version": 3
   },
   "file_extension": ".py",
   "mimetype": "text/x-python",
   "name": "python",
   "nbconvert_exporter": "python",
   "pygments_lexer": "ipython3",
   "version": "3.10.12"
  }
 },
 "nbformat": 4,
 "nbformat_minor": 5
}
