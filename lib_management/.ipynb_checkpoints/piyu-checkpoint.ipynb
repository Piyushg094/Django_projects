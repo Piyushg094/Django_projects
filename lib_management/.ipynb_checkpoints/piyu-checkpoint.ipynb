{
 "cells": [
  {
   "cell_type": "code",
   "execution_count": 1,
   "metadata": {},
   "outputs": [],
   "source": [
    "from pprint import pprint \n",
    "import os\n",
    "import django\n",
    "\n",
    "os.environ.setdefault('DJANGO_SETTINGS_MODULE', 'rest.settings')\n",
    "os.environ[\"DJANGO_ALLOW_ASYNC_UNSAFE\"] = \"true\"\n",
    "\n",
    "django.setup()"
   ]
  },
  {
   "cell_type": "code",
   "execution_count": 3,
   "metadata": {},
   "outputs": [
    {
     "ename": "ImportError",
     "evalue": "attempted relative import with no known parent package",
     "output_type": "error",
     "traceback": [
      "\u001b[0;31m---------------------------------------------------------------------------\u001b[0m",
      "\u001b[0;31mImportError\u001b[0m                               Traceback (most recent call last)",
      "Cell \u001b[0;32mIn[3], line 1\u001b[0m\n\u001b[0;32m----> 1\u001b[0m \u001b[38;5;28;01mfrom\u001b[39;00m \u001b[38;5;21;01m.\u001b[39;00m\u001b[38;5;21;01mmodels\u001b[39;00m \u001b[38;5;28;01mimport\u001b[39;00m Post, PostCategory, Like, Comment, User\n",
      "\u001b[0;31mImportError\u001b[0m: attempted relative import with no known parent package"
     ]
    }
   ],
   "source": [
    "from .models import Post, PostCategory, Like, Comment, User"
   ]
  },
  {
   "cell_type": "code",
   "execution_count": 3,
   "metadata": {},
   "outputs": [
    {
     "data": {
      "text/plain": [
       "1"
      ]
     },
     "execution_count": 3,
     "metadata": {},
     "output_type": "execute_result"
    }
   ],
   "source": [
    "Post.objects.count()"
   ]
  },
  {
   "cell_type": "code",
   "execution_count": 6,
   "metadata": {},
   "outputs": [],
   "source": [
    "from rest_framework.serializers import ModelSerializer"
   ]
  },
  {
   "cell_type": "code",
   "execution_count": 7,
   "metadata": {},
   "outputs": [],
   "source": [
    "class PostCategorySerializer(ModelSerializer):\n",
    "\n",
    "    class Meta:\n",
    "        model = PostCategory\n",
    "        fields = ( \"__all__\" )\n",
    "        "
   ]
  },
  {
   "cell_type": "code",
   "execution_count": 8,
   "metadata": {},
   "outputs": [
    {
     "name": "stdout",
     "output_type": "stream",
     "text": [
      "category_instance : Web development\n",
      "\n",
      "\n",
      "type(serialized_data) = <class 'rest_framework.utils.serializer_helpers.ReturnDict'>\n"
     ]
    },
    {
     "data": {
      "text/plain": [
       "{'id': 1, 'name': 'Web development'}"
      ]
     },
     "execution_count": 8,
     "metadata": {},
     "output_type": "execute_result"
    }
   ],
   "source": [
    "category_instance = PostCategory.objects.all().first()\n",
    "print(\"category_instance :\",category_instance)\n",
    "\n",
    "\n",
    "category_serializer = PostCategorySerializer(instance=category_instance)\n",
    "serialized_data = category_serializer.data\n",
    "print(\"\\n\\ntype(serialized_data) =\",type(serialized_data))\n",
    "serialized_data\n"
   ]
  },
  {
   "cell_type": "code",
   "execution_count": 10,
   "metadata": {},
   "outputs": [
    {
     "name": "stdout",
     "output_type": "stream",
     "text": [
      "Categories : <QuerySet [Web development, Backend Engineering]>\n",
      "\n",
      "\n",
      "type(serialized_data) = <class 'rest_framework.utils.serializer_helpers.ReturnList'>\n"
     ]
    },
    {
     "data": {
      "text/plain": [
       "[{'id': 1, 'name': 'Web development'}, {'id': 2, 'name': 'Backend Engineering'}]"
      ]
     },
     "execution_count": 10,
     "metadata": {},
     "output_type": "execute_result"
    }
   ],
   "source": [
    "categories = PostCategory.objects.all()\n",
    "print(\"Categories :\",categories)\n",
    "\n",
    "category_serializer = PostCategorySerializer(instance=categories, many=True)\n",
    "serialized_data = category_serializer.data\n",
    "print(\"\\n\\ntype(serialized_data) =\",type(serialized_data))\n",
    "serialized_data"
   ]
  },
  {
   "cell_type": "code",
   "execution_count": 35,
   "metadata": {},
   "outputs": [],
   "source": [
    "class PostSerializer(ModelSerializer):\n",
    "\n",
    "    class Meta:\n",
    "        model = Post\n",
    "        fields = ( \"__all__\" )\n",
    "        "
   ]
  },
  {
   "cell_type": "code",
   "execution_count": 36,
   "metadata": {},
   "outputs": [
    {
     "data": {
      "text/plain": [
       "{'id': 1, 'content': 'REsT == Representational State Transfer', 'title': 'REST APIs', 'created_at': '2024-06-13T06:23:55.384139Z', 'user': 1, 'categories': [1, 2]}"
      ]
     },
     "execution_count": 36,
     "metadata": {},
     "output_type": "execute_result"
    }
   ],
   "source": [
    "post_instance = Post.objects.all().first()\n",
    "post_serializer = PostSerializer(instance=post_instance)\n",
    "\n",
    "post_serializer.data"
   ]
  },
  {
   "cell_type": "code",
   "execution_count": 37,
   "metadata": {},
   "outputs": [
    {
     "data": {
      "text/plain": [
       "[{'id': 1, 'content': 'REsT == Representational State Transfer', 'title': 'REST APIs', 'created_at': '2024-06-13T06:23:55.384139Z', 'user': 1, 'categories': [1, 2]}]"
      ]
     },
     "execution_count": 37,
     "metadata": {},
     "output_type": "execute_result"
    }
   ],
   "source": [
    "post_instance = Post.objects.all()\n",
    "post_serializer = PostSerializer(instance=post_instance, many=True)\n",
    "\n",
    "post_serializer.data"
   ]
  },
  {
   "cell_type": "code",
   "execution_count": 11,
   "metadata": {},
   "outputs": [],
   "source": [
    "class PostSerializer(ModelSerializer):\n",
    "\n",
    "    categories = PostCategorySerializer(many=True)\n",
    "\n",
    "    class Meta:\n",
    "        model = Post\n",
    "        fields = ( \"__all__\" )"
   ]
  },
  {
   "cell_type": "code",
   "execution_count": 12,
   "metadata": {},
   "outputs": [
    {
     "data": {
      "text/plain": [
       "[{'id': 1, 'categories': [{'id': 1, 'name': 'Web development'}, {'id': 2, 'name': 'Backend Engineering'}], 'content': 'REsT == Representational State Transfer', 'title': 'REST APIs', 'created_at': '2024-06-13T06:23:55.384139Z', 'user': 1}]"
      ]
     },
     "execution_count": 12,
     "metadata": {},
     "output_type": "execute_result"
    }
   ],
   "source": [
    "post_instance = Post.objects.all()\n",
    "post_serializer = PostSerializer(instance=post_instance, many=True)\n",
    "\n",
    "post_serializer.data"
   ]
  },
  {
   "cell_type": "code",
   "execution_count": 13,
   "metadata": {},
   "outputs": [],
   "source": [
    "from blogs.models import User\n",
    "\n",
    "class UserSerializer(ModelSerializer):\n",
    "\n",
    "    class Meta:\n",
    "        model = User\n",
    "        fields = ( \"id\", \"name\", \"email\" )"
   ]
  },
  {
   "cell_type": "code",
   "execution_count": 14,
   "metadata": {},
   "outputs": [],
   "source": [
    "class PostSerializer(ModelSerializer):\n",
    "\n",
    "    categories = PostCategorySerializer(many=True)\n",
    "    user = UserSerializer()\n",
    "\n",
    "    class Meta:\n",
    "        model = Post\n",
    "        fields = ( \"__all__\" )"
   ]
  },
  {
   "cell_type": "code",
   "execution_count": 15,
   "metadata": {},
   "outputs": [
    {
     "data": {
      "text/plain": [
       "[{'id': 1, 'categories': [{'id': 1, 'name': 'Web development'}, {'id': 2, 'name': 'Backend Engineering'}], 'user': {'id': 1, 'name': 'Palak Sharda', 'email': 'palak@createbytes.com'}, 'content': 'REsT == Representational State Transfer', 'title': 'REST APIs', 'created_at': '2024-06-13T06:23:55.384139Z'}]"
      ]
     },
     "execution_count": 15,
     "metadata": {},
     "output_type": "execute_result"
    }
   ],
   "source": [
    "post_instance = Post.objects.all()\n",
    "post_serializer = PostSerializer(instance=post_instance, many=True)\n",
    "\n",
    "post_serializer.data"
   ]
  },
  {
   "cell_type": "code",
   "execution_count": 16,
   "metadata": {},
   "outputs": [],
   "source": [
    "from rest_framework.serializers import DateTimeField\n",
    "class PostSerializer(ModelSerializer):\n",
    "\n",
    "    categories = PostCategorySerializer(many=True)\n",
    "    user = UserSerializer()\n",
    "    created_at = DateTimeField(format=\"%-d %B %Y, %A, %-I:%-M %p\")\n",
    "\n",
    "    class Meta:\n",
    "        model = Post\n",
    "        fields = ( \"__all__\" )"
   ]
  },
  {
   "cell_type": "code",
   "execution_count": 17,
   "metadata": {},
   "outputs": [
    {
     "data": {
      "text/plain": [
       "[{'id': 1, 'categories': [{'id': 1, 'name': 'Web development'}, {'id': 2, 'name': 'Backend Engineering'}], 'user': {'id': 1, 'name': 'Palak Sharda', 'email': 'palak@createbytes.com'}, 'created_at': '13 June 2024, Thursday, 6:23 AM', 'content': 'REsT == Representational State Transfer', 'title': 'REST APIs'}]"
      ]
     },
     "execution_count": 17,
     "metadata": {},
     "output_type": "execute_result"
    }
   ],
   "source": [
    "post_instance = Post.objects.all()\n",
    "post_serializer = PostSerializer(instance=post_instance, many=True)\n",
    "\n",
    "post_serializer.data"
   ]
  },
  {
   "cell_type": "code",
   "execution_count": 18,
   "metadata": {},
   "outputs": [],
   "source": [
    "from rest_framework.serializers import SerializerMethodField\n",
    "\n",
    "class PostCategoryListSerializer(ModelSerializer):\n",
    "\n",
    "    post_count = SerializerMethodField()\n",
    "\n",
    "    def get_post_count(self, post_category):\n",
    "        \"\"\"\n",
    "        This field in the response represents the number of posts created for the category\n",
    "        \"\"\"\n",
    "        post_count_for_category = post_category.posts.count()\n",
    "        return post_count_for_category\n",
    "\n",
    "    class Meta:\n",
    "        model = PostCategory\n",
    "        fields = ( \"id\", \"name\", \"post_count\" )"
   ]
  },
  {
   "cell_type": "code",
   "execution_count": 19,
   "metadata": {},
   "outputs": [
    {
     "name": "stdout",
     "output_type": "stream",
     "text": [
      "Categories : <QuerySet [Web development, Backend Engineering]>\n",
      "\n",
      "\n",
      "type(serialized_data) = <class 'rest_framework.utils.serializer_helpers.ReturnList'>\n"
     ]
    },
    {
     "data": {
      "text/plain": [
       "[{'id': 1, 'name': 'Web development', 'post_count': 2}, {'id': 2, 'name': 'Backend Engineering', 'post_count': 1}]"
      ]
     },
     "execution_count": 19,
     "metadata": {},
     "output_type": "execute_result"
    }
   ],
   "source": [
    "categories = PostCategory.objects.all()\n",
    "print(\"Categories :\",categories)\n",
    "\n",
    "category_list_serializer = PostCategoryListSerializer(instance=categories, many=True)\n",
    "serialized_data = category_list_serializer.data\n",
    "print(\"\\n\\ntype(serialized_data) =\",type(serialized_data))\n",
    "serialized_data"
   ]
  },
  {
   "cell_type": "code",
   "execution_count": 20,
   "metadata": {},
   "outputs": [
    {
     "data": {
      "text/plain": [
       "<QuerySet [{'id': 1, 'post_count': 1}, {'id': 1, 'post_count': 1}, {'id': 2, 'post_count': 1}]>"
      ]
     },
     "execution_count": 20,
     "metadata": {},
     "output_type": "execute_result"
    }
   ],
   "source": [
    "from django.db.models import Count\n",
    "PostCategory.objects.all().values(\"id\",'post__id').annotate(post_count=Count('post__id')).order_by('post_count').values(\"id\",\"post_count\")"
   ]
  },
  {
   "cell_type": "code",
   "execution_count": null,
   "metadata": {},
   "outputs": [],
   "source": []
  }
 ],
 "metadata": {
  "kernelspec": {
   "display_name": "Django Shell-Plus",
   "language": "python",
   "name": "django_extensions"
  },
  "language_info": {
   "codemirror_mode": {
    "name": "ipython",
    "version": 3
   },
   "file_extension": ".py",
   "mimetype": "text/x-python",
   "name": "python",
   "nbconvert_exporter": "python",
   "pygments_lexer": "ipython3",
   "version": "3.10.12"
  }
 },
 "nbformat": 4,
 "nbformat_minor": 2
}
