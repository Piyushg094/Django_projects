{
 "cells": [
  {
   "cell_type": "code",
   "execution_count": 14,
   "id": "d3a64424",
   "metadata": {},
   "outputs": [],
   "source": [
    "# from pprint import pprint \n",
    "import os\n",
    "import django\n",
    "\n",
    "os.environ.setdefault('DJANGO_SETTINGS_MODULE', 'rest.settings')\n",
    "os.environ[\"DJANGO_ALLOW_ASYNC_UNSAFE\"] = \"true\"\n",
    "\n",
    "django.setup()"
   ]
  },
  {
   "cell_type": "markdown",
   "id": "d4be6268",
   "metadata": {},
   "source": [
    "# Django Rest Framework requests For Library_management\n"
   ]
  },
  {
   "cell_type": "code",
   "execution_count": 15,
   "id": "fb5c594d",
   "metadata": {},
   "outputs": [],
   "source": [
    "import json \n",
    "\n",
    "from rest_framework.test import APIRequestFactory\n",
    "from rest_framework.request import Request\n",
    "from rest_framework.parsers import JSONParser\n",
    "\n",
    "\n",
    "factory = APIRequestFactory()"
   ]
  },
  {
   "cell_type": "code",
   "execution_count": 16,
   "id": "29586d1a",
   "metadata": {},
   "outputs": [],
   "source": [
    "def get_drf_request(method, path, data):\n",
    "    \n",
    "    factory_methods = {\n",
    "        \"GET\": factory.get,\n",
    "        \"POST\": factory.post,\n",
    "        \"PATCH\": factory.patch,\n",
    "        \"PUT\": factory.put,\n",
    "        \"DELETE\": factory.delete\n",
    "    }\n",
    "    \n",
    "    method = factory_methods[method]\n",
    "    \n",
    "    wsgi_request_instance = method(\n",
    "        path=path, \n",
    "        data=data,\n",
    "        format='json'\n",
    "    )\n",
    "\n",
    "#     print(wsgi_request_instance)\n",
    "\n",
    "    drf_request_instance = Request(\n",
    "        request=wsgi_request_instance,\n",
    "        parsers=[JSONParser()],\n",
    "    )\n",
    "\n",
    "#     print(drf_request_instance)\n",
    "\n",
    "#     print(drf_request_instance.__dict__,\"\\n\\n\")\n",
    "\n",
    "    print(\"JSON data sent in the request:\\n\", drf_request_instance.data, \"\\n\\n\")\n",
    "    print(\"Query Params sent in the request:\\n\",drf_request_instance.query_params, \"\\n\\n\")\n",
    "    return drf_request_instance"
   ]
  },
  {
   "cell_type": "code",
   "execution_count": 17,
   "id": "67c92318",
   "metadata": {},
   "outputs": [],
   "source": [
    "from enum import Enum\n",
    "\n",
    "class HTTP_METHODS(Enum):\n",
    "    GET = \"GET\"\n",
    "    POST = \"POST\"\n",
    "    PATCH = \"PATCH\"\n",
    "    PUT = \"PUT\"\n",
    "    DELETE = \"DELETE\"\n"
   ]
  },
  {
   "cell_type": "code",
   "execution_count": 18,
   "id": "ea4f90c0",
   "metadata": {},
   "outputs": [
    {
     "name": "stdout",
     "output_type": "stream",
     "text": [
      "JSON data sent in the request:\n",
      " {'first_name': 'Dhruv', 'last_name': 'Kaushik'} \n",
      "\n",
      "\n",
      "Query Params sent in the request:\n",
      " <QueryDict: {'bookId': ['1']}> \n",
      "\n",
      "\n"
     ]
    },
    {
     "data": {
      "text/plain": [
       "<rest_framework.request.Request: PATCH '/bookID/?bookId=1'>"
      ]
     },
     "execution_count": 18,
     "metadata": {},
     "output_type": "execute_result"
    }
   ],
   "source": [
    "get_drf_request(\n",
    "    method=HTTP_METHODS.PATCH.value,\n",
    "    path=\"/bookID/?bookId=1\",\n",
    "    data={\n",
    "        \"first_name\":\"Dhruv\",\n",
    "        \"last_name\":\"Kaushik\"\n",
    "    }\n",
    ")\n"
   ]
  },
  {
   "cell_type": "markdown",
   "id": "594222fb",
   "metadata": {},
   "source": [
    "# Django Filters module"
   ]
  },
  {
   "cell_type": "code",
   "execution_count": 19,
   "id": "c764c572",
   "metadata": {},
   "outputs": [],
   "source": [
    "from lib_management.models import * "
   ]
  },
  {
   "cell_type": "code",
   "execution_count": 20,
   "id": "68fbf52b",
   "metadata": {},
   "outputs": [],
   "source": [
    "from django_filters.rest_framework import FilterSet, CharFilter"
   ]
  },
  {
   "cell_type": "code",
   "execution_count": 21,
   "id": "22c6b504",
   "metadata": {},
   "outputs": [],
   "source": [
    "\n",
    "class BookDetailFilter(FilterSet):\n",
    "    \"\"\"\n",
    "    A filterset class for filtering and ordering Task records\n",
    "    \"\"\"\n",
    "\n",
    "    book_ids = CharFilter(method='filter_with_bookId')\n",
    "\n",
    "    def filter_with_bookId(self, queryset, name, value):\n",
    "        print(\"filter_with_bookId method is called with ( name:\", name,\"value:\", value, \")\")\n",
    "        \n",
    "        uids = value.split(',')\n",
    "        return queryset.filter(\n",
    "               uid__in=uids\n",
    "          )\n",
    "\n",
    "    class Meta:\n",
    "        model = BookDetail\n",
    "        fields = [\n",
    "            'book_ids',\n",
    "        ]"
   ]
  },
  {
   "cell_type": "code",
   "execution_count": 22,
   "id": "d196e61d",
   "metadata": {},
   "outputs": [
    {
     "name": "stdout",
     "output_type": "stream",
     "text": [
      "JSON data sent in the request:\n",
      " {} \n",
      "\n",
      "\n",
      "Query Params sent in the request:\n",
      " <QueryDict: {'uid': ['887965a4-1b63-425b-8d57-c169b9dead82']}> \n",
      "\n",
      "\n",
      "filter_with_bookId method is called with ( name: uid value: 887965a4-1b63-425b-8d57-c169b9dead82 )\n",
      "<QuerySet [<BookDetail: wings of fire>]>\n"
     ]
    }
   ],
   "source": [
    "class BookDetailFilter(FilterSet):\n",
    "    \"\"\"\n",
    "    A filterset class for filtering and ordering Task records\n",
    "    \"\"\"\n",
    "\n",
    "    uid = CharFilter(method='filter_with_bookId')\n",
    "\n",
    "    def filter_with_bookId(self, queryset, name, value):\n",
    "        print(\"filter_with_bookId method is called with ( name:\", name,\"value:\", value, \")\")\n",
    "        return queryset.filter(\n",
    "               uid=value\n",
    "          )\n",
    "\n",
    "    class Meta:\n",
    "        model = BookDetail\n",
    "        fields = [\n",
    "            'uid',\n",
    "        ]\n",
    "\n",
    "\n",
    "\n",
    "\n",
    "\n",
    "request_instance=get_drf_request(\n",
    "    method=HTTP_METHODS.GET.value,\n",
    "    path=\"/bookDetail/?uid=887965a4-1b63-425b-8d57-c169b9dead82\",\n",
    "    data={}\n",
    ")\n",
    "\n",
    "\n",
    "filterset = BookDetailFilter(\n",
    "    queryset=BookDetail.objects.all(),\n",
    "    data=request_instance.query_params,\n",
    ")\n",
    "\n",
    "filtered_qs = filterset.qs\n",
    "\n",
    "print(filtered_qs)\n"
   ]
  },
  {
   "cell_type": "code",
   "execution_count": 23,
   "id": "9988f0a5",
   "metadata": {
    "scrolled": true
   },
   "outputs": [
    {
     "name": "stdout",
     "output_type": "stream",
     "text": [
      "filter_with_bookId method is called with ( name: uid value: 887965a4-1b63-425b-8d57-c169b9dead82 )\n",
      "<QuerySet [<BookDetail: wings of fire>]>\n"
     ]
    }
   ],
   "source": [
    "filterset = BookDetailFilter(\n",
    "    queryset=BookDetail.objects.all(),\n",
    "    data=request_instance.query_params,\n",
    ")\n",
    "\n",
    "filtered_qs = filterset.qs\n",
    "\n",
    "print(filtered_qs)"
   ]
  },
  {
   "cell_type": "code",
   "execution_count": 51,
   "id": "0fa76610",
   "metadata": {},
   "outputs": [
    {
     "name": "stdout",
     "output_type": "stream",
     "text": [
      "JSON data sent in the request:\n",
      " {} \n",
      "\n",
      "\n",
      "Query Params sent in the request:\n",
      " <QueryDict: {'book_ids': ['887965a4-1b63-425b-8d57-c169b9dead82,273acad8-b5af-44db-bbd0-0a6421becf05']}> \n",
      "\n",
      "\n"
     ]
    }
   ],
   "source": [
    "request_instance=get_drf_request(\n",
    "    method=HTTP_METHODS.GET.value,\n",
    "    path=\"/bookDetail/?book_ids=887965a4-1b63-425b-8d57-c169b9dead82,273acad8-b5af-44db-bbd0-0a6421becf05\",\n",
    "    data={}\n",
    ")"
   ]
  },
  {
   "cell_type": "code",
   "execution_count": 24,
   "id": "ef342775",
   "metadata": {},
   "outputs": [
    {
     "name": "stdout",
     "output_type": "stream",
     "text": [
      "JSON data sent in the request:\n",
      " {} \n",
      "\n",
      "\n",
      "Query Params sent in the request:\n",
      " <QueryDict: {'book_ids': ['887965a4-1b63-425b-8d57-c169b9dead82,273acad8-b5af-44db-bbd0-0a6421becf05,a78cf42a-04ac-4948-8b11-ce75a1b36ab2']}> \n",
      "\n",
      "\n",
      "filter_with_bookId method is called with ( name: book_ids value: 887965a4-1b63-425b-8d57-c169b9dead82,273acad8-b5af-44db-bbd0-0a6421becf05,a78cf42a-04ac-4948-8b11-ce75a1b36ab2 )\n",
      "<QuerySet [<BookDetail: wings of fire>, <BookDetail: why this kolabary>, <BookDetail: bade chalo>]>\n"
     ]
    }
   ],
   "source": [
    "class BookDetailFilter(FilterSet):\n",
    "    \"\"\"\n",
    "    A filterset class for filtering and ordering Task records\n",
    "    \"\"\"\n",
    "\n",
    "    book_ids = CharFilter(method='filter_with_bookId')\n",
    "\n",
    "    def filter_with_bookId(self, queryset, name, value):\n",
    "        print(\"filter_with_bookId method is called with ( name:\", name,\"value:\", value, \")\")\n",
    "        \n",
    "        uids = value.split(',')\n",
    "        return queryset.filter(\n",
    "               uid__in=uids\n",
    "          )\n",
    "\n",
    "    class Meta:\n",
    "        model = BookDetail\n",
    "        fields = [\n",
    "            'book_ids',\n",
    "        ]\n",
    "\n",
    "\n",
    "request_instance=get_drf_request(\n",
    "    method=HTTP_METHODS.GET.value,\n",
    "    path=\"/bookDetail/?book_ids=887965a4-1b63-425b-8d57-c169b9dead82,273acad8-b5af-44db-bbd0-0a6421becf05,a78cf42a-04ac-4948-8b11-ce75a1b36ab2\",\n",
    "    data={}\n",
    ")\n",
    "\n",
    "       \n",
    "        \n",
    "\n",
    "filterset = BookDetailFilter(\n",
    "    queryset=BookDetail.objects.all(),\n",
    "    data=request_instance.query_params,\n",
    ")\n",
    "\n",
    "filtered_qs = filterset.qs\n",
    "\n",
    "print(filtered_qs)"
   ]
  },
  {
   "cell_type": "code",
   "execution_count": 25,
   "id": "7c1654be",
   "metadata": {},
   "outputs": [],
   "source": [
    "from django_filters.rest_framework import FilterSet, CharFilter\n",
    "\n",
    "class BookDetailFilter(FilterSet):\n",
    "    \"\"\"\n",
    "    A filterset class for filtering and ordering Task records\n",
    "    \"\"\"\n",
    "\n",
    "    book_id = CharFilter(method='filter_with_book_id')\n",
    "    author_id = CharFilter(method='filter_with_author_id')\n",
    "\n",
    "    def filter_with_book_id(self, queryset, name, value):\n",
    "        print(\"filter_with_user method is called with ( name:\", name,\"value:\", value, \")\")\n",
    "        user_ids = value.split(',')\n",
    "        return queryset.filter(\n",
    "            uid__in=user_ids\n",
    "        )\n",
    "    \n",
    "    def filter_with_author_id(self, queryset, name, value):\n",
    "        print(\"filter_with_categories method is called with ( name:\", name,\"value:\", value, \")\")\n",
    "        author_ids = value.split(',')\n",
    "        return queryset.filter(\n",
    "            authors__uid__in=author_ids\n",
    "        )\n",
    "\n",
    "    class Meta:\n",
    "        model = BookDetail\n",
    "        fields = [\n",
    "            'book_id',\n",
    "            'author_id',\n",
    "        ]"
   ]
  },
  {
   "cell_type": "code",
   "execution_count": 26,
   "id": "f8a37526",
   "metadata": {},
   "outputs": [
    {
     "name": "stdout",
     "output_type": "stream",
     "text": [
      "JSON data sent in the request:\n",
      " {} \n",
      "\n",
      "\n",
      "Query Params sent in the request:\n",
      " <QueryDict: {'author_id': ['8406a066-7752-4bd4-a0cc-32958032f91b'], 'book_id': ['f2ec7f88-8bd3-432a-bb79-270199c3633c']}> \n",
      "\n",
      "\n",
      "filter_with_user method is called with ( name: book_id value: f2ec7f88-8bd3-432a-bb79-270199c3633c )\n",
      "filter_with_categories method is called with ( name: author_id value: 8406a066-7752-4bd4-a0cc-32958032f91b )\n",
      "<QuerySet [<BookDetail: jai shree ram>]>\n"
     ]
    }
   ],
   "source": [
    "request_instance = get_drf_request(\n",
    "            method=HTTP_METHODS.GET.value,\n",
    "            path='/bookDetail/?author_id=8406a066-7752-4bd4-a0cc-32958032f91b&book_id=f2ec7f88-8bd3-432a-bb79-270199c3633c', \n",
    "            data={}\n",
    "        )\n",
    "\n",
    "\n",
    "\n",
    "\n",
    "filterset = BookDetailFilter(\n",
    "    queryset=BookDetail.objects.all(),\n",
    "    data=request_instance.query_params,\n",
    ")\n",
    "\n",
    "filtered_qs = filterset.qs\n",
    "\n",
    "print(filtered_qs)"
   ]
  },
  {
   "cell_type": "code",
   "execution_count": 27,
   "id": "49c52aef",
   "metadata": {},
   "outputs": [],
   "source": [
    "\n",
    "class BookDetailFilter(FilterSet):\n",
    "    \"\"\"\n",
    "    A filterset class for filtering and ordering BookDetail records\n",
    "    \"\"\"\n",
    "\n",
    "    book_id = CharFilter(method='filter_with_book_id')\n",
    "    author_id = CharFilter(method='filter_with_author_id')\n",
    "    ordering = CharFilter(method='ordering_by_params')\n",
    "\n",
    "    def filter_with_book_id(self, queryset, name, value):\n",
    "        print(\"filter_with_book_id method is called with (name:\", name, \"value:\", value, \")\")\n",
    "        book_ids = value.split(',')\n",
    "        return queryset.filter(uid__in=book_ids)\n",
    "    \n",
    "    def filter_with_author_id(self, queryset, name, value):\n",
    "        print(\"filter_with_author_id method is called with (name:\", name, \"value:\", value, \")\")\n",
    "        author_ids = value.split(',')\n",
    "        return queryset.filter(authors__uid__in=author_ids)\n",
    "\n",
    "    def ordering_by_params(self, queryset, name, value):\n",
    "        print(\"ordering_by_params method is called with (name:\", name, \"value:\", value, \")\")\n",
    "        if value:\n",
    "            ordering_list = value.split(',')\n",
    "        else:\n",
    "            ordering_list = ['name']\n",
    "        return queryset.order_by(*ordering_list)\n",
    "\n",
    "    class Meta:\n",
    "        model = BookDetail\n",
    "        fields = ['book_id', 'author_id', 'ordering']\n"
   ]
  },
  {
   "cell_type": "code",
   "execution_count": 28,
   "id": "cb6311e3",
   "metadata": {},
   "outputs": [
    {
     "name": "stdout",
     "output_type": "stream",
     "text": [
      "JSON data sent in the request:\n",
      " {} \n",
      "\n",
      "\n",
      "Query Params sent in the request:\n",
      " <QueryDict: {'ordering': ['name']}> \n",
      "\n",
      "\n",
      "ordering_by_params method is called with (name: ordering value: name )\n",
      "<QuerySet [<BookDetail: bade chalo>, <BookDetail: jai shree ram>, <BookDetail: see-you-again>, <BookDetail: see-you-again>, <BookDetail: see-you-again>, <BookDetail: veer tum bade chalo>, <BookDetail: why this kolabary>, <BookDetail: wings of fire>]>\n"
     ]
    }
   ],
   "source": [
    "\n",
    "\n",
    "request_instance = get_drf_request(\n",
    "    method=HTTP_METHODS.GET.value,\n",
    "    path='/bookDetail/?&ordering=name',\n",
    "    data={}\n",
    ")\n",
    "\n",
    "filterset = BookDetailFilter(\n",
    "    queryset=BookDetail.objects.all(),\n",
    "    data=request_instance.query_params,\n",
    ")\n",
    "\n",
    "filtered_qs = filterset.qs\n",
    "\n",
    "print(filtered_qs)\n"
   ]
  },
  {
   "cell_type": "markdown",
   "id": "9ec4864f",
   "metadata": {},
   "source": [
    "# serializers"
   ]
  },
  {
   "cell_type": "code",
   "execution_count": 47,
   "id": "3ca27ae1",
   "metadata": {},
   "outputs": [],
   "source": [
    "from rest_framework.serializers import ModelSerializer, DateTimeField\n",
    "\n",
    "class BaseModelSerializer(ModelSerializer):\n",
    "    class Meta:\n",
    "        abstract = True\n",
    "\n",
    "class ProfileSerializer(ModelSerializer):\n",
    "    class Meta:\n",
    "        model = Profile\n",
    "        fields = ['uid', 'name', 'email', 'phone', 'roles', 'created_at', 'updated_at']\n",
    "\n",
    "\n",
    "class AddressSerializer(ModelSerializer):\n",
    "    profile = ProfileSerializer()\n",
    "\n",
    "    class Meta:\n",
    "        model = Address\n",
    "        fields = ['profile', 'city', 'state', 'line1', 'line2']\n",
    "   \n",
    "class AuthorSerializer(ModelSerializer):\n",
    "    class Meta:\n",
    "        model = Author\n",
    "        fields = ['uid', 'name']\n",
    "\n",
    "class BookDetailSerializer(ModelSerializer):\n",
    "    authors = AuthorSerializer(many=True)\n",
    "\n",
    "    class Meta:\n",
    "        model = BookDetail\n",
    "        fields = ['uid', 'name', 'authors', 'created_at', 'updated_at']\n",
    "        \n",
    "    def create(self, validated_data):\n",
    "        authors_data = validated_data.pop('authors')\n",
    "        book_detail = BookDetail.objects.create(**validated_data)\n",
    "        for author_data in authors_data:\n",
    "            author, created = Author.objects.get_or_create(name=author_data['name'])\n",
    "            book_detail.authors.add(author)\n",
    "        return book_detail\n",
    "\n",
    "    def update(self, instance, validated_data):\n",
    "        authors_data = validated_data.pop('authors')\n",
    "        instance.name = validated_data.get('name', instance.name)\n",
    "        instance.save()\n",
    "\n",
    "        # Clear existing authors and add new ones\n",
    "        instance.authors.clear()\n",
    "        for author_data in authors_data:\n",
    "            author, created = Author.objects.get_or_create(name=author_data['name'])\n",
    "            instance.authors.add(author)\n",
    "        return instance    \n",
    "\n",
    "\n",
    "class BookRecordSerializer(ModelSerializer):\n",
    "    book = BookDetailSerializer()\n",
    "\n",
    "    class Meta:\n",
    "        model = BookRecord\n",
    "        fields = ['uid', 'book', 'edition', 'count', 'price', 'available', 'category', 'created_at', 'updated_at']\n",
    "\n",
    "\n",
    "\n",
    "class IssueRecordSerializer(ModelSerializer):\n",
    "    user = ProfileSerializer()\n",
    "    book = BookDetailSerializer()\n",
    "\n",
    "    class Meta:\n",
    "        model = IssueRecord\n",
    "        fields = ['uid', 'user', 'book', 'status', 'issue_date', 'return_date', 'fine', 'created_at', 'updated_at']\n",
    "\n",
    "\n",
    "        "
   ]
  },
  {
   "cell_type": "code",
   "execution_count": 30,
   "id": "f8606632",
   "metadata": {},
   "outputs": [],
   "source": [
    "from rest_framework.pagination import PageNumberPagination\n",
    "from rest_framework.response import Response"
   ]
  },
  {
   "cell_type": "code",
   "execution_count": 42,
   "id": "722c9ef3",
   "metadata": {},
   "outputs": [],
   "source": [
    "class BookDetailPagination(PageNumberPagination):\n",
    "    page_size=3\n",
    "    page_size_query_param='page_size'\n",
    "    max_page_size=50\n",
    "    page_query_param='page'\n",
    "    \n",
    "    def get_paginated_response(self, data, message=None):\n",
    "        response_dist={\n",
    "            \"page_info\":{\n",
    "            \"result_count\": self.page.paginator.count,\n",
    "            \"page_size\": self.page_size,\n",
    "            \"page_count\": self.page.paginator.num_pages,\n",
    "            \"page\": self.page.number,\n",
    "#             \"next\": self.get_next_link(),\n",
    "#             \"previous\": self.get_previous_link(), \n",
    "        },\n",
    "        \"data\": data\n",
    "        }\n",
    "        if message:\n",
    "            response_dist['message']=message\n",
    "        return Response(response_dist)    "
   ]
  },
  {
   "cell_type": "code",
   "execution_count": 43,
   "id": "ed84ee00",
   "metadata": {},
   "outputs": [
    {
     "name": "stdout",
     "output_type": "stream",
     "text": [
      "JSON data sent in the request:\n",
      " {} \n",
      "\n",
      "\n",
      "Query Params sent in the request:\n",
      " <QueryDict: {'page': ['1']}> \n",
      "\n",
      "\n",
      "<QuerySet [<BookDetail: jai shree ram>, <BookDetail: wings of fire>, <BookDetail: why this kolabary>, <BookDetail: veer tum bade chalo>, <BookDetail: bade chalo>, <BookDetail: see-you-again>, <BookDetail: see-you-again>, <BookDetail: see-you-again>]>\n"
     ]
    }
   ],
   "source": [
    "\n",
    "request_instance = get_drf_request(\n",
    "    method=HTTP_METHODS.GET.value,\n",
    "            path='/bookDetail/?page=1', \n",
    "            data={}\n",
    "        )\n",
    "\n",
    "filterset = BookDetailFilter(\n",
    "    queryset=BookDetail.objects.all(),\n",
    "    data=request_instance.query_params,\n",
    ")\n",
    "\n",
    "filtered_qs = filterset.qs\n",
    "\n",
    "print(filtered_qs)"
   ]
  },
  {
   "cell_type": "code",
   "execution_count": 44,
   "id": "e0726e64",
   "metadata": {},
   "outputs": [
    {
     "data": {
      "text/plain": [
       "[<BookDetail: jai shree ram>,\n",
       " <BookDetail: wings of fire>,\n",
       " <BookDetail: why this kolabary>]"
      ]
     },
     "execution_count": 44,
     "metadata": {},
     "output_type": "execute_result"
    }
   ],
   "source": [
    "paginator = BookDetailPagination()\n",
    "\n",
    "paginated_qs = paginator.paginate_queryset(\n",
    "    queryset=filtered_qs,\n",
    "    request=request_instance\n",
    ")\n",
    "\n",
    "paginated_qs"
   ]
  },
  {
   "cell_type": "code",
   "execution_count": 45,
   "id": "9f614ec1",
   "metadata": {},
   "outputs": [
    {
     "data": {
      "text/plain": [
       "[{'uid': 'f2ec7f88-8bd3-432a-bb79-270199c3633c', 'name': 'jai shree ram', 'authors': [{'uid': '8406a066-7752-4bd4-a0cc-32958032f91b', 'name': 'narendra modi'}, {'uid': 'cb401bea-caa8-45d0-8049-b000fb4fa121', 'name': 'sonu nigam'}], 'created_at': '2024-06-14T09:29:47.876616Z', 'updated_at': '2024-06-14T09:29:47.876632Z'}, {'uid': '887965a4-1b63-425b-8d57-c169b9dead82', 'name': 'wings of fire', 'authors': [{'uid': '38fadbfc-6bd3-4822-934f-bbed923878ae', 'name': 'abdul kalam'}], 'created_at': '2024-06-14T09:30:09.613092Z', 'updated_at': '2024-06-14T09:30:09.613105Z'}, {'uid': 'a78cf42a-04ac-4948-8b11-ce75a1b36ab2', 'name': 'why this kolabary', 'authors': [{'uid': 'cb401bea-caa8-45d0-8049-b000fb4fa121', 'name': 'sonu nigam'}], 'created_at': '2024-06-14T09:30:38.599342Z', 'updated_at': '2024-06-14T09:30:38.599361Z'}]"
      ]
     },
     "execution_count": 45,
     "metadata": {},
     "output_type": "execute_result"
    }
   ],
   "source": [
    "serialized_data = BookDetailSerializer(instance=paginated_qs,  many=True).data\n",
    "\n",
    "serialized_data"
   ]
  },
  {
   "cell_type": "code",
   "execution_count": 46,
   "id": "aeb43d4c",
   "metadata": {},
   "outputs": [
    {
     "data": {
      "text/plain": [
       "{'page_info': {'result_count': 8, 'page_size': 3, 'page_count': 3, 'page': 1},\n",
       " 'data': [{'uid': 'f2ec7f88-8bd3-432a-bb79-270199c3633c', 'name': 'jai shree ram', 'authors': [{'uid': '8406a066-7752-4bd4-a0cc-32958032f91b', 'name': 'narendra modi'}, {'uid': 'cb401bea-caa8-45d0-8049-b000fb4fa121', 'name': 'sonu nigam'}], 'created_at': '2024-06-14T09:29:47.876616Z', 'updated_at': '2024-06-14T09:29:47.876632Z'}, {'uid': '887965a4-1b63-425b-8d57-c169b9dead82', 'name': 'wings of fire', 'authors': [{'uid': '38fadbfc-6bd3-4822-934f-bbed923878ae', 'name': 'abdul kalam'}], 'created_at': '2024-06-14T09:30:09.613092Z', 'updated_at': '2024-06-14T09:30:09.613105Z'}, {'uid': 'a78cf42a-04ac-4948-8b11-ce75a1b36ab2', 'name': 'why this kolabary', 'authors': [{'uid': 'cb401bea-caa8-45d0-8049-b000fb4fa121', 'name': 'sonu nigam'}], 'created_at': '2024-06-14T09:30:38.599342Z', 'updated_at': '2024-06-14T09:30:38.599361Z'}],\n",
       " 'message': 'List of post records.'}"
      ]
     },
     "execution_count": 46,
     "metadata": {},
     "output_type": "execute_result"
    }
   ],
   "source": [
    "paginated_response = paginator.get_paginated_response(\n",
    "    message=\"List of post records.\",\n",
    "    data=serialized_data,\n",
    ")\n",
    "\n",
    "paginated_response.data"
   ]
  },
  {
   "cell_type": "code",
   "execution_count": null,
   "id": "5c5cd718",
   "metadata": {},
   "outputs": [],
   "source": []
  }
 ],
 "metadata": {
  "kernelspec": {
   "display_name": "Django Shell-Plus",
   "language": "python",
   "name": "django_extensions"
  },
  "language_info": {
   "codemirror_mode": {
    "name": "ipython",
    "version": 3
   },
   "file_extension": ".py",
   "mimetype": "text/x-python",
   "name": "python",
   "nbconvert_exporter": "python",
   "pygments_lexer": "ipython3",
   "version": "3.10.12"
  }
 },
 "nbformat": 4,
 "nbformat_minor": 5
}
