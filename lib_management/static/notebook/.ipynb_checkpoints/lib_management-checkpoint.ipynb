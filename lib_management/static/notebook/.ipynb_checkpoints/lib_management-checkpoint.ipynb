{
 "cells": [
  {
   "cell_type": "code",
   "execution_count": 1,
   "id": "7bc75a2b",
   "metadata": {},
   "outputs": [],
   "source": [
    "from pprint import pprint\n",
    "import os\n",
    "import django\n",
    "os.environ.setdefault('DJANGO_SETTINGS_MODULE', 'rest.settings')\n",
    "os.environ[\"DJANGO_ALLOW_ASYNC_UNSAFE\"] = \"true\"\n",
    "django.setup()"
   ]
  },
  {
   "cell_type": "code",
   "execution_count": 2,
   "id": "2eb9b682",
   "metadata": {},
   "outputs": [],
   "source": [
    "from lib_management.models import * "
   ]
  },
  {
   "cell_type": "code",
   "execution_count": 3,
   "id": "22ce2015",
   "metadata": {},
   "outputs": [],
   "source": [
    "obj=Profile.objects.all()"
   ]
  },
  {
   "cell_type": "code",
   "execution_count": 4,
   "id": "d3c55f44",
   "metadata": {},
   "outputs": [
    {
     "data": {
      "text/plain": [
       "<QuerySet [<Profile: PIYUSH GUPTA>, <Profile: ayush>, <Profile: raja>]>"
      ]
     },
     "execution_count": 4,
     "metadata": {},
     "output_type": "execute_result"
    }
   ],
   "source": [
    "obj"
   ]
  },
  {
   "cell_type": "code",
   "execution_count": 5,
   "id": "7ea48fc2",
   "metadata": {},
   "outputs": [
    {
     "data": {
      "text/plain": [
       "<QuerySet [<Profile: ayush>, <Profile: raja>]>"
      ]
     },
     "execution_count": 5,
     "metadata": {},
     "output_type": "execute_result"
    }
   ],
   "source": [
    "obj.filter(roles='user')"
   ]
  },
  {
   "cell_type": "code",
   "execution_count": 6,
   "id": "6ecff56b",
   "metadata": {},
   "outputs": [
    {
     "data": {
      "text/plain": [
       "<Profile: ayush>"
      ]
     },
     "execution_count": 6,
     "metadata": {},
     "output_type": "execute_result"
    }
   ],
   "source": [
    "obj.filter(roles='user').first()"
   ]
  },
  {
   "cell_type": "code",
   "execution_count": 7,
   "id": "7615026f",
   "metadata": {},
   "outputs": [
    {
     "data": {
      "text/plain": [
       "<Profile: raja>"
      ]
     },
     "execution_count": 7,
     "metadata": {},
     "output_type": "execute_result"
    }
   ],
   "source": [
    "obj.filter(roles='user')[1]"
   ]
  },
  {
   "cell_type": "code",
   "execution_count": null,
   "id": "6465a90e",
   "metadata": {},
   "outputs": [],
   "source": [
    "Task: 1\n",
    "\n",
    "Creat a Book-Detail-Handler class which will have these functions: \n",
    "\n",
    "create-book-detail(data: dictionary)\n",
    "Data = {\n",
    "   “name”=\"jai-ho\"\n",
    "   “authors”=[\"raja\",\"ayush\"]\n",
    "}\n"
   ]
  },
  {
   "cell_type": "code",
   "execution_count": 19,
   "id": "0bd3a605",
   "metadata": {},
   "outputs": [],
   "source": [
    "class Book_Detail_Handler:\n",
    "    \n",
    "    @staticmethod\n",
    "    def create_book_details(data):\n",
    "        try:\n",
    "            # Validate data\n",
    "            if not data.get('name') or not data.get('authors'):\n",
    "                return {\"message\": \"data is missing\"}\n",
    "\n",
    "            # Create the BookDetail\n",
    "            book_details = BookDetail.objects.create(name=data['name'])\n",
    "\n",
    "            # Create or get Author instances and add to the book\n",
    "            for author_name in data['authors']:\n",
    "                author, created = Author.objects.get_or_create(name=author_name)\n",
    "                book_details.authors.add(author)\n",
    "\n",
    "            return {\"message\": \"Book details saved successfully\"}\n",
    "\n",
    "        except Exception as e:\n",
    "            return {\"message\": str(e)}\n"
   ]
  },
  {
   "cell_type": "code",
   "execution_count": 20,
   "id": "63ee9803",
   "metadata": {},
   "outputs": [
    {
     "name": "stdout",
     "output_type": "stream",
     "text": [
      "{'message': 'Book details saved successfully'}\n"
     ]
    }
   ],
   "source": [
    "data = {\n",
    "    \"name\": \"jai-ho\",\n",
    "    \"authors\": [\"raja\", \"ayush\"]\n",
    "}\n",
    "\n",
    "\n",
    "response = Book_Detail_Handler.create_book_details(data)\n",
    "print(response)"
   ]
  },
  {
   "cell_type": "code",
   "execution_count": null,
   "id": "081a72dd",
   "metadata": {},
   "outputs": [],
   "source": []
  }
 ],
 "metadata": {
  "kernelspec": {
   "display_name": "Django Shell-Plus",
   "language": "python",
   "name": "django_extensions"
  },
  "language_info": {
   "codemirror_mode": {
    "name": "ipython",
    "version": 3
   },
   "file_extension": ".py",
   "mimetype": "text/x-python",
   "name": "python",
   "nbconvert_exporter": "python",
   "pygments_lexer": "ipython3",
   "version": "3.10.12"
  }
 },
 "nbformat": 4,
 "nbformat_minor": 5
}
