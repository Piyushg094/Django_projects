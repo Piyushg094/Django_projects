{
 "cells": [
  {
   "cell_type": "code",
   "execution_count": 4,
   "id": "7bc75a2b",
   "metadata": {},
   "outputs": [],
   "source": [
    "from pprint import pprint\n",
    "import os\n",
    "import django\n",
    "os.environ.setdefault('DJANGO_SETTINGS_MODULE', 'rest.settings')\n",
    "os.environ[\"DJANGO_ALLOW_ASYNC_UNSAFE\"] = \"true\"\n"
   ]
  },
  {
   "cell_type": "code",
   "execution_count": 5,
   "id": "2eb9b682",
   "metadata": {},
   "outputs": [],
   "source": [
    "from lib_management.models import *"
   ]
  },
  {
   "cell_type": "code",
   "execution_count": 6,
   "id": "22ce2015",
   "metadata": {},
   "outputs": [],
   "source": [
    "obj=Profile.objects.all()"
   ]
  },
  {
   "cell_type": "code",
   "execution_count": 7,
   "id": "d3c55f44",
   "metadata": {},
   "outputs": [
    {
     "data": {
      "text/plain": [
       "<QuerySet [<Profile: PIYUSH GUPTA>, <Profile: ayush>, <Profile: raja>]>"
      ]
     },
     "execution_count": 7,
     "metadata": {},
     "output_type": "execute_result"
    }
   ],
   "source": [
    "obj"
   ]
  },
  {
   "cell_type": "code",
   "execution_count": 8,
   "id": "7ea48fc2",
   "metadata": {},
   "outputs": [
    {
     "data": {
      "text/plain": [
       "<QuerySet [<Profile: ayush>, <Profile: raja>]>"
      ]
     },
     "execution_count": 8,
     "metadata": {},
     "output_type": "execute_result"
    }
   ],
   "source": [
    "obj.filter(roles='user')"
   ]
  },
  {
   "cell_type": "code",
   "execution_count": 9,
   "id": "6ecff56b",
   "metadata": {},
   "outputs": [
    {
     "data": {
      "text/plain": [
       "<Profile: ayush>"
      ]
     },
     "execution_count": 9,
     "metadata": {},
     "output_type": "execute_result"
    }
   ],
   "source": [
    "obj.filter(roles='user').first()"
   ]
  },
  {
   "cell_type": "code",
   "execution_count": 24,
   "id": "7615026f",
   "metadata": {},
   "outputs": [
    {
     "name": "stdout",
     "output_type": "stream",
     "text": [
      "Author: chandrbhan\n",
      "Author: arjun singh\n",
      "Author: narendra modi\n",
      "  Book: jai shree ram\n",
      "Author: jp nadda\n",
      "Author: sonu nigam\n",
      "  Book: jai shree ram\n",
      "  Book: why this kolabary\n",
      "Author: abdul kalam\n",
      "  Book: wings of fire\n",
      "Author: raja\n",
      "  Book: veer tum bade chalo\n",
      "Author: ayush\n",
      "  Book: bade chalo\n",
      "  Book: see-you-again\n",
      "  Book: see-you-again\n",
      "  Book: see-you-again\n",
      "Author: charli\n",
      "  Book: see-you-again\n",
      "  Book: see-you-again\n",
      "  Book: see-you-again\n",
      "Author: chirag\n",
      "  Book: see-you-again\n",
      "  Book: see-you-again\n"
     ]
    }
   ],
   "source": [
    "data = Author.objects.all()\n",
    "ans = Author.objects.prefetch_related('book_details').all()\n",
    "for author in ans:\n",
    "    print(f\"Author: {author.name}\")\n",
    "    for book_detail in author.book_details.all():\n",
    "        print(f\"  Book: {book_detail.name}\")"
   ]
  },
  {
   "cell_type": "code",
   "execution_count": 28,
   "id": "deba2e81",
   "metadata": {},
   "outputs": [
    {
     "name": "stdout",
     "output_type": "stream",
     "text": [
      "Book: jai shree ram\n",
      "f2ec7f88-8bd3-432a-bb79-270199c3633c\n",
      "  Author: narendra modi\n",
      "  Author: sonu nigam\n",
      "Book: wings of fire\n",
      "887965a4-1b63-425b-8d57-c169b9dead82\n",
      "  Author: abdul kalam\n",
      "Book: why this kolabary\n",
      "a78cf42a-04ac-4948-8b11-ce75a1b36ab2\n",
      "  Author: sonu nigam\n",
      "Book: veer tum bade chalo\n",
      "5cf679a5-f107-4e23-8967-a8f1fa7ad674\n",
      "  Author: raja\n",
      "Book: bade chalo\n",
      "273acad8-b5af-44db-bbd0-0a6421becf05\n",
      "  Author: ayush\n",
      "Book: see-you-again\n",
      "d6bfeb9d-982d-43b4-b4ed-048e3dce78b7\n",
      "  Author: ayush\n",
      "  Author: charli\n",
      "  Author: chirag\n",
      "Book: see-you-again\n",
      "72e997c3-acc9-4956-b421-636c35865b08\n",
      "  Author: ayush\n",
      "  Author: charli\n",
      "  Author: chirag\n",
      "Book: see-you-again\n",
      "0c85f9a7-4b3c-4811-82b7-db1f5d75bb3c\n",
      "  Author: ayush\n",
      "  Author: charli\n"
     ]
    }
   ],
   "source": [
    "ans = BookDetail.objects.prefetch_related('authors').all()\n",
    "for book_detail in ans:\n",
    "    print(f\"Book: {book_detail.name}\")\n",
    "    print(book_detail.uid)\n",
    "    for author in book_detail.authors.all():\n",
    "        print(f\"  Author: {author.name}\")\n"
   ]
  },
  {
   "cell_type": "code",
   "execution_count": 29,
   "id": "8ff3fa99",
   "metadata": {},
   "outputs": [
    {
     "name": "stdout",
     "output_type": "stream",
     "text": [
      "2b272cdf-78f2-46c3-a684-250c36619896 chandrbhan\n",
      "ce889b82-0ce6-4028-87da-9a0be8961ab7 arjun singh\n",
      "8406a066-7752-4bd4-a0cc-32958032f91b narendra modi\n",
      "e2ac632f-440d-4fc7-8faa-79897a2220b1 jp nadda\n",
      "cb401bea-caa8-45d0-8049-b000fb4fa121 sonu nigam\n",
      "38fadbfc-6bd3-4822-934f-bbed923878ae abdul kalam\n",
      "ec71ca3b-560f-4e17-a452-02ca40363ff2 raja\n",
      "dc9194fd-2c74-42da-b606-68a864bad52b ayush\n",
      "7f220cdc-a3a9-40ee-a2ad-83599a045a75 charli\n",
      "333b3b7e-e765-456b-a501-1ba36ee6dd83 chirag\n"
     ]
    }
   ],
   "source": [
    "data=Author.objects.all()\n",
    "for ans in data:\n",
    "    print(ans.uid, ans.name)"
   ]
  },
  {
   "cell_type": "code",
   "execution_count": 13,
   "id": "6465a90e",
   "metadata": {},
   "outputs": [
    {
     "ename": "SyntaxError",
     "evalue": "invalid character '“' (U+201C) (1384669714.py, line 7)",
     "output_type": "error",
     "traceback": [
      "\u001b[0;36m  Cell \u001b[0;32mIn[13], line 7\u001b[0;36m\u001b[0m\n\u001b[0;31m    “name”=\"jai-ho\"\u001b[0m\n\u001b[0m    ^\u001b[0m\n\u001b[0;31mSyntaxError\u001b[0m\u001b[0;31m:\u001b[0m invalid character '“' (U+201C)\n"
     ]
    }
   ],
   "source": [
    "Task: 1\n",
    "\n",
    "Creat a Book-Detail-Handler class which will have these functions: \n",
    "\n",
    "create-book-detail(data: dictionary)\n",
    "Data = {\n",
    "   “name”=\"jai-ho\"\n",
    "   “authors”=[\"raja\",\"ayush\"]\n",
    "}\n"
   ]
  },
  {
   "cell_type": "code",
   "execution_count": null,
   "id": "28f16f55",
   "metadata": {},
   "outputs": [],
   "source": []
  },
  {
   "cell_type": "code",
   "execution_count": 14,
   "id": "0bd3a605",
   "metadata": {},
   "outputs": [],
   "source": [
    "class Book_Detail_Handler:\n",
    "    \n",
    "    @staticmethod\n",
    "    def create_book_details(data):\n",
    "        try:\n",
    "            # Validate data\n",
    "            if not data.get('name') or not data.get('authors'):\n",
    "                return {\"message\": \"data is missing\"}\n",
    "\n",
    "            # Create the BookDetail\n",
    "            book_details = BookDetail.objects.create(name=data['name'])\n",
    "\n",
    "            # Create or get Author instances and add to the book\n",
    "            for author_name in data['authors']:\n",
    "                author, created = Author.objects.get_or_create(name=author_name)\n",
    "                book_details.authors.add(author)\n",
    "\n",
    "            return {\"message\": \"Book details saved successfully\",\n",
    "                     \"data\": data}\n",
    "\n",
    "        except Exception as e:\n",
    "            return {\"message\": str(e)}\n",
    "      \n",
    "    \n",
    "    @staticmethod\n",
    "    def update_book_detail(book_id, data):\n",
    "        try:\n",
    "            if not data.get('name') or not data.get('authors') or not book_id:\n",
    "                return {\"message\": \"data is missing\"}\n",
    "            \n",
    "            # Find the book record based on book_id\n",
    "            book_update = BookDetail.objects.get(uid=book_id)\n",
    "            book_update.name = data['name']\n",
    "            book_update.save()  # Save the name update first\n",
    "            \n",
    "            # Clear existing authors\n",
    "            book_update.authors.clear()\n",
    "            \n",
    "            # Add new authors\n",
    "            for author_name in data['authors']:\n",
    "                author, created = Author.objects.get_or_create(name=author_name)\n",
    "                book_update.authors.add(author)\n",
    "            \n",
    "            return {\"message\": \"Book details updated successfully\",\n",
    "                    \"data\" : data\n",
    "                   }\n",
    "\n",
    "\n",
    "        except Exception as e:\n",
    "            return {\"message\": str(e)}\n",
    "            \n",
    "     \n",
    "    \n",
    "    @staticmethod\n",
    "    def retrieve_book_detail(book_id):\n",
    "        try:\n",
    "            if not book_id:\n",
    "                return {\"message\": \"book_id is missing\"}\n",
    "            \n",
    "            #retrive the book details based on book_id\n",
    "            book_retrive=BookDetail.objects.get(uid=book_id)\n",
    "            \n",
    "            authors=[]\n",
    "            for auth in book_retrive.authors.all():\n",
    "                authors.append(auth.name)\n",
    "                \n",
    "                \n",
    "            response={\n",
    "                \"name\":book_retrive.name,\n",
    "                \"authors\":authors,\n",
    "            }\n",
    "            \n",
    "            return {\"message\": \"Book details retrive Successfully\",\n",
    "                     \"data\": response\n",
    "                   }\n",
    "        except Exception as e:\n",
    "            return {\"message\": str(e)}\n",
    "                \n",
    "            \n",
    "            \n",
    "    @staticmethod        \n",
    "    def delete_book_detail(book_id):\n",
    "        try:\n",
    "            if not book_id:\n",
    "                return {\"message\": \"book_id is missing\"}\n",
    "            \n",
    "            #delete book details based on uid\n",
    "            book_delete=BookDetail.objects.get(uid=book_id)\n",
    "            \n",
    "            authors = [auth.name for auth in book_delete.authors.all()]\n",
    "                \n",
    "                \n",
    "            response={\n",
    "                \"name\":book_delete.name,\n",
    "                \"authors\":authors,\n",
    "            }\n",
    "            \n",
    "            book_delete.delete()\n",
    "            \n",
    "            return {\"message\": \"Book details deleted Successfully\",\n",
    "                     \"data\": response\n",
    "                   }\n",
    "        \n",
    "        \n",
    "        except Exception as e:\n",
    "            return {\"message\": str(e)}\n",
    "        \n",
    "        \n",
    "        \n"
   ]
  },
  {
   "cell_type": "code",
   "execution_count": 15,
   "id": "63ee9803",
   "metadata": {},
   "outputs": [
    {
     "name": "stdout",
     "output_type": "stream",
     "text": [
      "{'message': 'Book details saved successfully', 'data': {'name': 'see-you-again', 'authors': ['ayush', 'charli', 'chirag']}}\n"
     ]
    }
   ],
   "source": [
    "data = {\n",
    "    \"name\": \"see-you-again\",\n",
    "    \"authors\": [\"ayush\",\"charli\",\"chirag\"]\n",
    "}\n",
    "\n",
    "\n",
    "\n",
    "response = Book_Detail_Handler.create_book_details(data)\n",
    "print(response)"
   ]
  },
  {
   "cell_type": "code",
   "execution_count": 68,
   "id": "081a72dd",
   "metadata": {},
   "outputs": [
    {
     "name": "stdout",
     "output_type": "stream",
     "text": [
      "{'message': 'BookDetail matching query does not exist.'}\n"
     ]
    }
   ],
   "source": [
    "data = {\n",
    "    \"name\": \"see-you-again\",\n",
    "    \"authors\": [\"ayush\",\"charli\",\"chirag\"]\n",
    "}\n",
    "id = '319e20f7-e84c-493f-8b48-79936c6f7734'  \n",
    "response = Book_Detail_Handler.update_book_detail(id, data)\n",
    "print(response)"
   ]
  },
  {
   "cell_type": "code",
   "execution_count": 67,
   "id": "a5cc832e",
   "metadata": {},
   "outputs": [
    {
     "name": "stdout",
     "output_type": "stream",
     "text": [
      "{'message': 'BookDetail matching query does not exist.'}\n"
     ]
    }
   ],
   "source": [
    "id = '319e20f7-e84c-493f-8b48-79936c6f7734'\n",
    "response=Book_Detail_Handler.retrieve_book_detail(id)\n",
    "print(response)"
   ]
  },
  {
   "cell_type": "code",
   "execution_count": 72,
   "id": "c1d4239e",
   "metadata": {},
   "outputs": [
    {
     "name": "stdout",
     "output_type": "stream",
     "text": [
      "{'message': 'Book details deleted Successfully', 'data': {'name': 'jai-ho', 'authors': ['raja', 'ayush']}}\n"
     ]
    }
   ],
   "source": [
    "id = 'c44aa409-f457-44cb-9252-80c9448cb33d'\n",
    "response=Book_Detail_Handler.delete_book_detail(id)\n",
    "print(response)"
   ]
  },
  {
   "cell_type": "code",
   "execution_count": null,
   "id": "0321fb69",
   "metadata": {},
   "outputs": [],
   "source": []
  }
 ],
 "metadata": {
  "kernelspec": {
   "display_name": "Django Shell-Plus",
   "language": "python",
   "name": "django_extensions"
  },
  "language_info": {
   "codemirror_mode": {
    "name": "ipython",
    "version": 3
   },
   "file_extension": ".py",
   "mimetype": "text/x-python",
   "name": "python",
   "nbconvert_exporter": "python",
   "pygments_lexer": "ipython3",
   "version": "3.10.12"
  }
 },
 "nbformat": 4,
 "nbformat_minor": 5
}
