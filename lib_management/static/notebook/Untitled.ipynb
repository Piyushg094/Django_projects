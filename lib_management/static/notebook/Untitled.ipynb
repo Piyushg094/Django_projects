{
 "cells": [
  {
   "cell_type": "code",
   "execution_count": 2,
   "id": "47074aff",
   "metadata": {},
   "outputs": [],
   "source": [
    "from pprint import pprint\n",
    "import os\n",
    "import django\n",
    "os.environ.setdefault('DJANGO_SETTINGS_MODULE', 'rest.settings')\n",
    "os.environ[\"DJANGO_ALLOW_ASYNC_UNSAFE\"] = \"true\""
   ]
  },
  {
   "cell_type": "code",
   "execution_count": 3,
   "id": "7dda862c",
   "metadata": {},
   "outputs": [],
   "source": [
    "from lib_management.models import *"
   ]
  },
  {
   "cell_type": "code",
   "execution_count": 4,
   "id": "c6490ad0",
   "metadata": {},
   "outputs": [],
   "source": [
    "from rest_framework.serializers import ModelSerializer"
   ]
  },
  {
   "cell_type": "code",
   "execution_count": 5,
   "id": "cbde0cd8",
   "metadata": {},
   "outputs": [],
   "source": [
    "class ProfileSerializer(ModelSerializer):\n",
    "    class Meta:\n",
    "        model = Profile\n",
    "        fields = '__all__'"
   ]
  },
  {
   "cell_type": "code",
   "execution_count": 6,
   "id": "62b17e38",
   "metadata": {},
   "outputs": [
    {
     "data": {
      "text/plain": [
       "[{'uid': '1f8053ab-3578-4383-97db-1aa12bcf5aaf', 'created_at': '2024-06-14T09:18:26.540139Z', 'updated_at': '2024-06-14T09:18:26.540154Z', 'name': 'PIYUSH GUPTA', 'email': 'piyushg094@gmail.com', 'phone': '5654324565', 'roles': 'admin'}, {'uid': '9b708302-a2b0-4e7d-b77b-ddd924738ef5', 'created_at': '2024-06-14T09:18:42.824187Z', 'updated_at': '2024-06-14T09:18:42.824204Z', 'name': 'ayush', 'email': 'ayush@gmail.com', 'phone': '3454657645', 'roles': 'user'}, {'uid': 'f3abdd38-3f65-4852-b148-9c7fe0d3bf56', 'created_at': '2024-06-14T09:33:20.785954Z', 'updated_at': '2024-06-14T09:33:20.785974Z', 'name': 'raja', 'email': 'raja@gmail.com', 'phone': '4534234567', 'roles': 'user'}]"
      ]
     },
     "execution_count": 6,
     "metadata": {},
     "output_type": "execute_result"
    }
   ],
   "source": [
    "obj=Profile.objects.all()\n",
    "seri=ProfileSerializer(obj, many=True)\n",
    "seri.data"
   ]
  },
  {
   "cell_type": "code",
   "execution_count": 7,
   "id": "cead47d9",
   "metadata": {},
   "outputs": [],
   "source": [
    "class BaseModelSerializer(ModelSerializer):\n",
    "    class Meta:\n",
    "        abstract = True\n"
   ]
  },
  {
   "cell_type": "code",
   "execution_count": 8,
   "id": "4c120ea5",
   "metadata": {},
   "outputs": [],
   "source": [
    "class ProfileSerializer(ModelSerializer):\n",
    "    class Meta:\n",
    "        model = Profile\n",
    "        fields = ['uid', 'name', 'email', 'phone', 'roles', 'created_at', 'updated_at']\n"
   ]
  },
  {
   "cell_type": "code",
   "execution_count": 9,
   "id": "947f653a",
   "metadata": {},
   "outputs": [],
   "source": [
    "class AddressSerializer(ModelSerializer):\n",
    "    profile = ProfileSerializer()\n",
    "\n",
    "    class Meta:\n",
    "        model = Address\n",
    "        fields = ['profile', 'city', 'state', 'line1', 'line2']\n",
    "   "
   ]
  },
  {
   "cell_type": "code",
   "execution_count": null,
   "id": "2e99edcc",
   "metadata": {},
   "outputs": [],
   "source": []
  },
  {
   "cell_type": "code",
   "execution_count": 29,
   "id": "c560fd8d",
   "metadata": {},
   "outputs": [],
   "source": [
    "class AuthorSerializer(ModelSerializer):\n",
    "    class Meta:\n",
    "        model = Author\n",
    "        fields = ['uid', 'name']\n"
   ]
  },
  {
   "cell_type": "code",
   "execution_count": 36,
   "id": "354297f1",
   "metadata": {},
   "outputs": [],
   "source": [
    "class BookDetailSerializer(ModelSerializer):\n",
    "    authors = AuthorSerializer(many=True)\n",
    "\n",
    "    class Meta:\n",
    "        model = BookDetail\n",
    "        fields = ['uid', 'name', 'authors', 'created_at', 'updated_at']\n",
    "        \n",
    "    def create(self, validated_data):\n",
    "        authors_data = validated_data.pop('authors')\n",
    "        book_detail = BookDetail.objects.create(**validated_data)\n",
    "        for author_data in authors_data:\n",
    "            author, created = Author.objects.get_or_create(name=author_data['name'])\n",
    "            book_detail.authors.add(author)\n",
    "        return book_detail\n",
    "\n",
    "    def update(self, instance, validated_data):\n",
    "        authors_data = validated_data.pop('authors')\n",
    "        instance.name = validated_data.get('name', instance.name)\n",
    "        instance.save()\n",
    "\n",
    "        # Clear existing authors and add new ones\n",
    "        instance.authors.clear()\n",
    "        for author_data in authors_data:\n",
    "            author, created = Author.objects.get_or_create(name=author_data['name'])\n",
    "            instance.authors.add(author)\n",
    "        return instance    "
   ]
  },
  {
   "cell_type": "code",
   "execution_count": 31,
   "id": "2a3d1649",
   "metadata": {},
   "outputs": [],
   "source": [
    "class BookRecordSerializer(ModelSerializer):\n",
    "    book = BookDetailSerializer()\n",
    "\n",
    "    class Meta:\n",
    "        model = BookRecord\n",
    "        fields = ['uid', 'book', 'edition', 'count', 'price', 'available', 'category', 'created_at', 'updated_at']\n"
   ]
  },
  {
   "cell_type": "code",
   "execution_count": 32,
   "id": "c0067201",
   "metadata": {},
   "outputs": [],
   "source": [
    "class IssueRecordSerializer(ModelSerializer):\n",
    "    user = ProfileSerializer()\n",
    "    book = BookDetailSerializer()\n",
    "\n",
    "    class Meta:\n",
    "        model = IssueRecord\n",
    "        fields = ['uid', 'user', 'book', 'status', 'issue_date', 'return_date', 'fine', 'created_at', 'updated_at']"
   ]
  },
  {
   "cell_type": "code",
   "execution_count": 20,
   "id": "847c308c",
   "metadata": {},
   "outputs": [],
   "source": [
    "def list():\n",
    "    queryset=BookDetail.objects.all()\n",
    "    serializer=BookDetailSerializer(queryset,many=True)\n",
    "    print(serializer.data)\n",
    "    "
   ]
  },
  {
   "cell_type": "code",
   "execution_count": 21,
   "id": "963ec748",
   "metadata": {},
   "outputs": [
    {
     "name": "stdout",
     "output_type": "stream",
     "text": [
      "[{'uid': 'f2ec7f88-8bd3-432a-bb79-270199c3633c', 'name': 'jai shree ram', 'authors': [{'uid': '8406a066-7752-4bd4-a0cc-32958032f91b', 'name': 'narendra modi', 'created_at': '2024-06-14T09:28:46.659334Z', 'updated_at': '2024-06-14T09:28:46.659349Z'}, {'uid': 'cb401bea-caa8-45d0-8049-b000fb4fa121', 'name': 'sonu nigam', 'created_at': '2024-06-14T09:29:06.385741Z', 'updated_at': '2024-06-14T09:29:06.385754Z'}], 'created_at': '2024-06-14T09:29:47.876616Z', 'updated_at': '2024-06-14T09:29:47.876632Z'}, {'uid': '887965a4-1b63-425b-8d57-c169b9dead82', 'name': 'wings of fire', 'authors': [{'uid': '38fadbfc-6bd3-4822-934f-bbed923878ae', 'name': 'abdul kalam', 'created_at': '2024-06-14T09:29:57.126019Z', 'updated_at': '2024-06-14T09:29:57.126052Z'}], 'created_at': '2024-06-14T09:30:09.613092Z', 'updated_at': '2024-06-14T09:30:09.613105Z'}, {'uid': 'a78cf42a-04ac-4948-8b11-ce75a1b36ab2', 'name': 'why this kolabary', 'authors': [{'uid': 'cb401bea-caa8-45d0-8049-b000fb4fa121', 'name': 'sonu nigam', 'created_at': '2024-06-14T09:29:06.385741Z', 'updated_at': '2024-06-14T09:29:06.385754Z'}], 'created_at': '2024-06-14T09:30:38.599342Z', 'updated_at': '2024-06-14T09:30:38.599361Z'}, {'uid': '5cf679a5-f107-4e23-8967-a8f1fa7ad674', 'name': 'veer tum bade chalo', 'authors': [{'uid': 'ec71ca3b-560f-4e17-a452-02ca40363ff2', 'name': 'raja', 'created_at': '2024-06-14T11:10:17.697411Z', 'updated_at': '2024-06-14T11:10:17.697445Z'}], 'created_at': '2024-06-14T11:18:24.817881Z', 'updated_at': '2024-06-14T11:18:24.817918Z'}, {'uid': '273acad8-b5af-44db-bbd0-0a6421becf05', 'name': 'bade chalo', 'authors': [{'uid': 'dc9194fd-2c74-42da-b606-68a864bad52b', 'name': 'ayush', 'created_at': '2024-06-14T11:10:17.715813Z', 'updated_at': '2024-06-14T11:10:17.715828Z'}], 'created_at': '2024-06-14T11:23:33.477847Z', 'updated_at': '2024-06-14T11:23:33.478307Z'}, {'uid': 'd6bfeb9d-982d-43b4-b4ed-048e3dce78b7', 'name': 'see-you-again', 'authors': [{'uid': 'dc9194fd-2c74-42da-b606-68a864bad52b', 'name': 'ayush', 'created_at': '2024-06-14T11:10:17.715813Z', 'updated_at': '2024-06-14T11:10:17.715828Z'}, {'uid': '7f220cdc-a3a9-40ee-a2ad-83599a045a75', 'name': 'charli', 'created_at': '2024-06-14T11:56:19.671140Z', 'updated_at': '2024-06-14T11:56:19.671195Z'}, {'uid': '333b3b7e-e765-456b-a501-1ba36ee6dd83', 'name': 'chirag', 'created_at': '2024-06-14T11:56:19.675187Z', 'updated_at': '2024-06-14T11:56:19.675201Z'}], 'created_at': '2024-06-14T12:26:10.817634Z', 'updated_at': '2024-06-14T12:26:10.819290Z'}, {'uid': '72e997c3-acc9-4956-b421-636c35865b08', 'name': 'see-you-again', 'authors': [{'uid': 'dc9194fd-2c74-42da-b606-68a864bad52b', 'name': 'ayush', 'created_at': '2024-06-14T11:10:17.715813Z', 'updated_at': '2024-06-14T11:10:17.715828Z'}, {'uid': '7f220cdc-a3a9-40ee-a2ad-83599a045a75', 'name': 'charli', 'created_at': '2024-06-14T11:56:19.671140Z', 'updated_at': '2024-06-14T11:56:19.671195Z'}, {'uid': '333b3b7e-e765-456b-a501-1ba36ee6dd83', 'name': 'chirag', 'created_at': '2024-06-14T11:56:19.675187Z', 'updated_at': '2024-06-14T11:56:19.675201Z'}], 'created_at': '2024-06-17T18:52:05.011088Z', 'updated_at': '2024-06-17T18:52:05.011128Z'}]\n"
     ]
    }
   ],
   "source": [
    "\n",
    "list()"
   ]
  },
  {
   "cell_type": "code",
   "execution_count": 46,
   "id": "f34966d0",
   "metadata": {},
   "outputs": [],
   "source": [
    "def create_book_details(data):\n",
    "        serializer = BookDetailSerializer(data=data)\n",
    "        if serializer.is_valid():\n",
    "            book_detail = serializer.save()\n",
    "            return {\n",
    "                \"message\": \"Book details saved successfully\",\n",
    "                \"data\": serializer.data\n",
    "            }\n",
    "        return {\"message\": serializer.errors}"
   ]
  },
  {
   "cell_type": "code",
   "execution_count": 47,
   "id": "87c755af",
   "metadata": {},
   "outputs": [
    {
     "name": "stdout",
     "output_type": "stream",
     "text": [
      "{'message': 'Book details saved successfully', 'data': {'uid': '0c85f9a7-4b3c-4811-82b7-db1f5d75bb3c', 'name': 'see-you-again', 'authors': [{'uid': 'dc9194fd-2c74-42da-b606-68a864bad52b', 'name': 'ayush'}, {'uid': '7f220cdc-a3a9-40ee-a2ad-83599a045a75', 'name': 'charli'}, {'uid': '333b3b7e-e765-456b-a501-1ba36ee6dd83', 'name': 'chirag'}], 'created_at': '2024-06-18T04:03:05.155501Z', 'updated_at': '2024-06-18T04:03:05.155537Z'}}\n"
     ]
    }
   ],
   "source": [
    "data = {\n",
    "    \"name\": \"see-you-again\",\n",
    "    \"authors\": [\n",
    "        {\"name\": \"ayush\"},\n",
    "        {\"name\": \"charli\"},\n",
    "        {\"name\": \"chirag\"}\n",
    "    ]\n",
    "}\n",
    "response=create_book_details(data);\n",
    "print(response)"
   ]
  },
  {
   "cell_type": "code",
   "execution_count": 48,
   "id": "0d03980d",
   "metadata": {},
   "outputs": [],
   "source": [
    " def update_book_detail(book_id, data):\n",
    "        try:\n",
    "            book_detail = BookDetail.objects.get(uid=book_id)\n",
    "        except BookDetail.DoesNotExist:\n",
    "            return {\"message\": \"BookDetail not found\"}\n",
    "\n",
    "        serializer = BookDetailSerializer(book_detail, data=data)\n",
    "        if serializer.is_valid():\n",
    "            serializer.save()\n",
    "            return {\n",
    "                \"message\": \"Book details updated successfully\",\n",
    "                \"data\": serializer.data\n",
    "            }\n",
    "        return {\"message\": serializer.errors}"
   ]
  },
  {
   "cell_type": "code",
   "execution_count": 49,
   "id": "342fb7f7",
   "metadata": {},
   "outputs": [
    {
     "name": "stdout",
     "output_type": "stream",
     "text": [
      "{'message': 'Book details updated successfully', 'data': {'uid': '0c85f9a7-4b3c-4811-82b7-db1f5d75bb3c', 'name': 'see-you-again', 'authors': [{'uid': 'dc9194fd-2c74-42da-b606-68a864bad52b', 'name': 'ayush'}, {'uid': '7f220cdc-a3a9-40ee-a2ad-83599a045a75', 'name': 'charli'}], 'created_at': '2024-06-18T04:03:05.155501Z', 'updated_at': '2024-06-18T04:04:29.909344Z'}}\n"
     ]
    }
   ],
   "source": [
    "data = {\n",
    "    \"name\": \"see-you-again\",\n",
    "    \"authors\": [\n",
    "        {\"name\": \"ayush\"},\n",
    "        {\"name\": \"charli\"}\n",
    "    ]\n",
    "}\n",
    "id='0c85f9a7-4b3c-4811-82b7-db1f5d75bb3c'\n",
    "response=update_book_detail(id,data);\n",
    "print(response)"
   ]
  },
  {
   "cell_type": "code",
   "execution_count": 50,
   "id": "af7634e3",
   "metadata": {},
   "outputs": [],
   "source": [
    "def retrieve_book_detail(book_id):\n",
    "        try:\n",
    "            book_detail = BookDetail.objects.get(uid=book_id)\n",
    "        except BookDetail.DoesNotExist:\n",
    "            return {\"message\": \"BookDetail not found\"}\n",
    "\n",
    "        serializer = BookDetailSerializer(book_detail)\n",
    "        return {\n",
    "            \"message\": \"Book details retrieved successfully\",\n",
    "            \"data\": serializer.data\n",
    "        }"
   ]
  },
  {
   "cell_type": "code",
   "execution_count": 52,
   "id": "f0a29eee",
   "metadata": {},
   "outputs": [
    {
     "name": "stdout",
     "output_type": "stream",
     "text": [
      "{'message': 'Book details retrieved successfully', 'data': {'uid': '0c85f9a7-4b3c-4811-82b7-db1f5d75bb3c', 'name': 'see-you-again', 'authors': [{'uid': 'dc9194fd-2c74-42da-b606-68a864bad52b', 'name': 'ayush'}, {'uid': '7f220cdc-a3a9-40ee-a2ad-83599a045a75', 'name': 'charli'}], 'created_at': '2024-06-18T04:03:05.155501Z', 'updated_at': '2024-06-18T04:04:29.909344Z'}}\n"
     ]
    }
   ],
   "source": [
    "id='0c85f9a7-4b3c-4811-82b7-db1f5d75bb3c'\n",
    "response=retrieve_book_detail(id);\n",
    "print(response)"
   ]
  },
  {
   "cell_type": "code",
   "execution_count": 53,
   "id": "27cd031e",
   "metadata": {},
   "outputs": [],
   "source": [
    "  def delete_book_detail(book_id):\n",
    "        try:\n",
    "            book_detail = BookDetail.objects.get(uid=book_id)\n",
    "        except BookDetail.DoesNotExist:\n",
    "            return {\"message\": \"BookDetail not found\"}\n",
    "\n",
    "        serializer = BookDetailSerializer(book_detail)\n",
    "        book_detail.delete()\n",
    "        return {\n",
    "            \"message\": \"Book details deleted successfully\",\n",
    "            \"data\": serializer.data\n",
    "        }"
   ]
  },
  {
   "cell_type": "code",
   "execution_count": 54,
   "id": "a7cc6da9",
   "metadata": {},
   "outputs": [
    {
     "name": "stdout",
     "output_type": "stream",
     "text": [
      "{'message': 'BookDetail not found'}\n"
     ]
    }
   ],
   "source": [
    "id='dc9194fd-2c74-42da-b606-68a864bad52b'\n",
    "response=delete_book_detail(id);\n",
    "print(response)"
   ]
  },
  {
   "cell_type": "code",
   "execution_count": null,
   "id": "3541632a",
   "metadata": {},
   "outputs": [],
   "source": []
  }
 ],
 "metadata": {
  "kernelspec": {
   "display_name": "Django Shell-Plus",
   "language": "python",
   "name": "django_extensions"
  },
  "language_info": {
   "codemirror_mode": {
    "name": "ipython",
    "version": 3
   },
   "file_extension": ".py",
   "mimetype": "text/x-python",
   "name": "python",
   "nbconvert_exporter": "python",
   "pygments_lexer": "ipython3",
   "version": "3.10.12"
  }
 },
 "nbformat": 4,
 "nbformat_minor": 5
}
