{
 "cells": [
  {
   "cell_type": "code",
   "execution_count": 6,
   "id": "7bbf4898",
   "metadata": {},
   "outputs": [],
   "source": [
    "import os\n",
    "os.environ[\"DJANGO_ALLOW_ASYNC_UNSAFE\"] = \"true\""
   ]
  },
  {
   "cell_type": "code",
   "execution_count": 7,
   "id": "d96342bc",
   "metadata": {},
   "outputs": [],
   "source": [
    "from Inventory.models import Category"
   ]
  },
  {
   "cell_type": "code",
   "execution_count": 8,
   "id": "96454069",
   "metadata": {},
   "outputs": [
    {
     "data": {
      "text/plain": [
       "<QuerySet []>"
      ]
     },
     "execution_count": 8,
     "metadata": {},
     "output_type": "execute_result"
    }
   ],
   "source": [
    "Category.objects.all()\n"
   ]
  },
  {
   "cell_type": "code",
   "execution_count": 9,
   "id": "d610f316",
   "metadata": {},
   "outputs": [
    {
     "data": {
      "text/plain": [
       "<QuerySet []>"
      ]
     },
     "execution_count": 9,
     "metadata": {},
     "output_type": "execute_result"
    }
   ],
   "source": [
    "Category.objects.all()"
   ]
  },
  {
   "cell_type": "code",
   "execution_count": 10,
   "id": "2e9762ea",
   "metadata": {},
   "outputs": [],
   "source": [
    "category = Category(name=\"homeAplinces\", description=\"good and best\")"
   ]
  },
  {
   "cell_type": "code",
   "execution_count": 11,
   "id": "563e9ea9",
   "metadata": {},
   "outputs": [
    {
     "data": {
      "text/plain": [
       "<Category: homeAplinces>"
      ]
     },
     "execution_count": 11,
     "metadata": {},
     "output_type": "execute_result"
    }
   ],
   "source": [
    "category\n"
   ]
  },
  {
   "cell_type": "code",
   "execution_count": 12,
   "id": "a176d28c",
   "metadata": {},
   "outputs": [],
   "source": [
    "category.save()"
   ]
  },
  {
   "cell_type": "code",
   "execution_count": 13,
   "id": "e83dfbaf",
   "metadata": {},
   "outputs": [
    {
     "data": {
      "text/plain": [
       "<Category: homeAplinces>"
      ]
     },
     "execution_count": 13,
     "metadata": {},
     "output_type": "execute_result"
    }
   ],
   "source": [
    "category\n"
   ]
  },
  {
   "cell_type": "code",
   "execution_count": 15,
   "id": "983d67fc",
   "metadata": {},
   "outputs": [
    {
     "data": {
      "text/plain": [
       "<QuerySet [<Category: homeAplinces>]>"
      ]
     },
     "execution_count": 15,
     "metadata": {},
     "output_type": "execute_result"
    }
   ],
   "source": [
    "Category.objects.all()\n"
   ]
  },
  {
   "cell_type": "code",
   "execution_count": 16,
   "id": "de50042a",
   "metadata": {},
   "outputs": [
    {
     "data": {
      "text/plain": [
       "<Category: homeAplinces>"
      ]
     },
     "execution_count": 16,
     "metadata": {},
     "output_type": "execute_result"
    }
   ],
   "source": [
    "Category.objects.get(id=1)"
   ]
  },
  {
   "cell_type": "code",
   "execution_count": 17,
   "id": "677ae7c9",
   "metadata": {},
   "outputs": [
    {
     "data": {
      "text/plain": [
       "'good and best'"
      ]
     },
     "execution_count": 17,
     "metadata": {},
     "output_type": "execute_result"
    }
   ],
   "source": [
    "Category.objects.all()[0].description\n"
   ]
  },
  {
   "cell_type": "code",
   "execution_count": 18,
   "id": "2fa6e659",
   "metadata": {},
   "outputs": [
    {
     "data": {
      "text/plain": [
       "'homeAplinces'"
      ]
     },
     "execution_count": 18,
     "metadata": {},
     "output_type": "execute_result"
    }
   ],
   "source": [
    "Category.objects.all()[0].name\n"
   ]
  },
  {
   "cell_type": "code",
   "execution_count": null,
   "id": "0cd1586b",
   "metadata": {},
   "outputs": [],
   "source": [
    "Category.objects.create(name=\"electronics\", description=\"good and  best quatily\")"
   ]
  }
 ],
 "metadata": {
  "kernelspec": {
   "display_name": "Django Shell-Plus",
   "language": "python",
   "name": "django_extensions"
  },
  "language_info": {
   "codemirror_mode": {
    "name": "ipython",
    "version": 3
   },
   "file_extension": ".py",
   "mimetype": "text/x-python",
   "name": "python",
   "nbconvert_exporter": "python",
   "pygments_lexer": "ipython3",
   "version": "3.10.12"
  }
 },
 "nbformat": 4,
 "nbformat_minor": 5
}
